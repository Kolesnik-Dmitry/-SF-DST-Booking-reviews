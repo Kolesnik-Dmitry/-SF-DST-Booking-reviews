{
 "cells": [
  {
   "cell_type": "code",
   "execution_count": 44,
   "id": "3d6c4b00",
   "metadata": {
    "_cell_guid": "b1076dfc-b9ad-4769-8c92-a6c4dae69d19",
    "_uuid": "8f2839f25d086af736a60e9eeb907d3b93b6e0e5",
    "execution": {
     "iopub.execute_input": "2022-04-13T00:05:17.942966Z",
     "iopub.status.busy": "2022-04-13T00:05:17.941088Z",
     "iopub.status.idle": "2022-04-13T00:05:17.963393Z",
     "shell.execute_reply": "2022-04-13T00:05:17.962149Z",
     "shell.execute_reply.started": "2022-04-12T23:42:22.255843Z"
    },
    "papermill": {
     "duration": 0.075046,
     "end_time": "2022-04-13T00:05:17.963719",
     "exception": false,
     "start_time": "2022-04-13T00:05:17.888673",
     "status": "completed"
    },
    "tags": []
   },
   "outputs": [],
   "source": [
    "import numpy as np\n",
    "import pandas as pd"
   ]
  },
  {
   "cell_type": "markdown",
   "id": "a5927eb2",
   "metadata": {
    "papermill": {
     "duration": 0.060011,
     "end_time": "2022-04-13T00:05:18.093220",
     "exception": false,
     "start_time": "2022-04-13T00:05:18.033209",
     "status": "completed"
    },
    "tags": []
   },
   "source": [
    "# 1. Загружаем данные и анализируем датасет"
   ]
  },
  {
   "cell_type": "code",
   "execution_count": 45,
   "id": "bd893ed0",
   "metadata": {
    "execution": {
     "iopub.execute_input": "2022-04-13T00:05:18.189639Z",
     "iopub.status.busy": "2022-04-13T00:05:18.189050Z",
     "iopub.status.idle": "2022-04-13T00:05:28.066820Z",
     "shell.execute_reply": "2022-04-13T00:05:28.067273Z",
     "shell.execute_reply.started": "2022-04-12T23:42:26.137336Z"
    },
    "papermill": {
     "duration": 9.927541,
     "end_time": "2022-04-13T00:05:28.067458",
     "exception": false,
     "start_time": "2022-04-13T00:05:18.139917",
     "status": "completed"
    },
    "tags": []
   },
   "outputs": [],
   "source": [
    "RANDOM_SEED = 42\n",
    "!pip freeze > requirements.txt\n",
    "# Подгружаем данные из соревнования\n",
    "df_train = pd.read_csv('hotels_train.csv') \n",
    "df_test = pd.read_csv('hotels_test.csv') \n",
    "sample_submission = pd.read_csv('submission.csv') "
   ]
  },
  {
   "cell_type": "code",
   "execution_count": 46,
   "id": "5e0b24ab",
   "metadata": {
    "execution": {
     "iopub.execute_input": "2022-04-13T00:05:28.171389Z",
     "iopub.status.busy": "2022-04-13T00:05:28.170772Z",
     "iopub.status.idle": "2022-04-13T00:05:28.651346Z",
     "shell.execute_reply": "2022-04-13T00:05:28.650760Z",
     "shell.execute_reply.started": "2022-04-12T23:42:39.726218Z"
    },
    "papermill": {
     "duration": 0.533686,
     "end_time": "2022-04-13T00:05:28.651494",
     "exception": false,
     "start_time": "2022-04-13T00:05:28.117808",
     "status": "completed"
    },
    "tags": []
   },
   "outputs": [
    {
     "name": "stderr",
     "output_type": "stream",
     "text": [
      "C:\\Users\\Колесник Дмитрий\\AppData\\Local\\Temp\\ipykernel_14320\\1375254428.py:5: FutureWarning:\n",
      "\n",
      "The frame.append method is deprecated and will be removed from pandas in a future version. Use pandas.concat instead.\n",
      "\n"
     ]
    },
    {
     "data": {
      "text/html": [
       "<div>\n",
       "<style scoped>\n",
       "    .dataframe tbody tr th:only-of-type {\n",
       "        vertical-align: middle;\n",
       "    }\n",
       "\n",
       "    .dataframe tbody tr th {\n",
       "        vertical-align: top;\n",
       "    }\n",
       "\n",
       "    .dataframe thead th {\n",
       "        text-align: right;\n",
       "    }\n",
       "</style>\n",
       "<table border=\"1\" class=\"dataframe\">\n",
       "  <thead>\n",
       "    <tr style=\"text-align: right;\">\n",
       "      <th></th>\n",
       "      <th>additional_number_of_scoring</th>\n",
       "      <th>average_score</th>\n",
       "      <th>review_total_negative_word_counts</th>\n",
       "      <th>total_number_of_reviews</th>\n",
       "      <th>review_total_positive_word_counts</th>\n",
       "      <th>total_number_of_reviews_reviewer_has_given</th>\n",
       "      <th>lat</th>\n",
       "      <th>lng</th>\n",
       "      <th>sample</th>\n",
       "      <th>reviewer_score</th>\n",
       "    </tr>\n",
       "  </thead>\n",
       "  <tbody>\n",
       "    <tr>\n",
       "      <th>count</th>\n",
       "      <td>515738.000000</td>\n",
       "      <td>515738.000000</td>\n",
       "      <td>515738.000000</td>\n",
       "      <td>515738.000000</td>\n",
       "      <td>515738.000000</td>\n",
       "      <td>515738.000000</td>\n",
       "      <td>512470.000000</td>\n",
       "      <td>512470.000000</td>\n",
       "      <td>515738.000000</td>\n",
       "      <td>515738.000000</td>\n",
       "    </tr>\n",
       "    <tr>\n",
       "      <th>mean</th>\n",
       "      <td>498.081836</td>\n",
       "      <td>8.397487</td>\n",
       "      <td>18.539450</td>\n",
       "      <td>2743.743944</td>\n",
       "      <td>17.776458</td>\n",
       "      <td>7.166001</td>\n",
       "      <td>49.442439</td>\n",
       "      <td>2.823803</td>\n",
       "      <td>0.749999</td>\n",
       "      <td>6.297672</td>\n",
       "    </tr>\n",
       "    <tr>\n",
       "      <th>std</th>\n",
       "      <td>500.538467</td>\n",
       "      <td>0.548048</td>\n",
       "      <td>29.690831</td>\n",
       "      <td>2317.464868</td>\n",
       "      <td>21.804185</td>\n",
       "      <td>11.040228</td>\n",
       "      <td>3.466325</td>\n",
       "      <td>4.579425</td>\n",
       "      <td>0.433014</td>\n",
       "      <td>3.902295</td>\n",
       "    </tr>\n",
       "    <tr>\n",
       "      <th>min</th>\n",
       "      <td>1.000000</td>\n",
       "      <td>5.200000</td>\n",
       "      <td>0.000000</td>\n",
       "      <td>43.000000</td>\n",
       "      <td>0.000000</td>\n",
       "      <td>1.000000</td>\n",
       "      <td>41.328376</td>\n",
       "      <td>-0.369758</td>\n",
       "      <td>0.000000</td>\n",
       "      <td>0.000000</td>\n",
       "    </tr>\n",
       "    <tr>\n",
       "      <th>25%</th>\n",
       "      <td>169.000000</td>\n",
       "      <td>8.100000</td>\n",
       "      <td>2.000000</td>\n",
       "      <td>1161.000000</td>\n",
       "      <td>5.000000</td>\n",
       "      <td>1.000000</td>\n",
       "      <td>48.214662</td>\n",
       "      <td>-0.143372</td>\n",
       "      <td>0.250000</td>\n",
       "      <td>0.625000</td>\n",
       "    </tr>\n",
       "    <tr>\n",
       "      <th>50%</th>\n",
       "      <td>341.000000</td>\n",
       "      <td>8.400000</td>\n",
       "      <td>9.000000</td>\n",
       "      <td>2134.000000</td>\n",
       "      <td>11.000000</td>\n",
       "      <td>3.000000</td>\n",
       "      <td>51.499981</td>\n",
       "      <td>0.010607</td>\n",
       "      <td>1.000000</td>\n",
       "      <td>7.900000</td>\n",
       "    </tr>\n",
       "    <tr>\n",
       "      <th>75%</th>\n",
       "      <td>660.000000</td>\n",
       "      <td>8.800000</td>\n",
       "      <td>23.000000</td>\n",
       "      <td>3613.000000</td>\n",
       "      <td>22.000000</td>\n",
       "      <td>8.000000</td>\n",
       "      <td>51.516288</td>\n",
       "      <td>4.834443</td>\n",
       "      <td>1.000000</td>\n",
       "      <td>9.600000</td>\n",
       "    </tr>\n",
       "    <tr>\n",
       "      <th>max</th>\n",
       "      <td>2682.000000</td>\n",
       "      <td>9.800000</td>\n",
       "      <td>408.000000</td>\n",
       "      <td>16670.000000</td>\n",
       "      <td>395.000000</td>\n",
       "      <td>355.000000</td>\n",
       "      <td>52.400181</td>\n",
       "      <td>16.429233</td>\n",
       "      <td>1.000000</td>\n",
       "      <td>10.000000</td>\n",
       "    </tr>\n",
       "  </tbody>\n",
       "</table>\n",
       "</div>"
      ],
      "text/plain": [
       "       additional_number_of_scoring  average_score  \\\n",
       "count                 515738.000000  515738.000000   \n",
       "mean                     498.081836       8.397487   \n",
       "std                      500.538467       0.548048   \n",
       "min                        1.000000       5.200000   \n",
       "25%                      169.000000       8.100000   \n",
       "50%                      341.000000       8.400000   \n",
       "75%                      660.000000       8.800000   \n",
       "max                     2682.000000       9.800000   \n",
       "\n",
       "       review_total_negative_word_counts  total_number_of_reviews  \\\n",
       "count                      515738.000000            515738.000000   \n",
       "mean                           18.539450              2743.743944   \n",
       "std                            29.690831              2317.464868   \n",
       "min                             0.000000                43.000000   \n",
       "25%                             2.000000              1161.000000   \n",
       "50%                             9.000000              2134.000000   \n",
       "75%                            23.000000              3613.000000   \n",
       "max                           408.000000             16670.000000   \n",
       "\n",
       "       review_total_positive_word_counts  \\\n",
       "count                      515738.000000   \n",
       "mean                           17.776458   \n",
       "std                            21.804185   \n",
       "min                             0.000000   \n",
       "25%                             5.000000   \n",
       "50%                            11.000000   \n",
       "75%                            22.000000   \n",
       "max                           395.000000   \n",
       "\n",
       "       total_number_of_reviews_reviewer_has_given            lat  \\\n",
       "count                               515738.000000  512470.000000   \n",
       "mean                                     7.166001      49.442439   \n",
       "std                                     11.040228       3.466325   \n",
       "min                                      1.000000      41.328376   \n",
       "25%                                      1.000000      48.214662   \n",
       "50%                                      3.000000      51.499981   \n",
       "75%                                      8.000000      51.516288   \n",
       "max                                    355.000000      52.400181   \n",
       "\n",
       "                 lng         sample  reviewer_score  \n",
       "count  512470.000000  515738.000000   515738.000000  \n",
       "mean        2.823803       0.749999        6.297672  \n",
       "std         4.579425       0.433014        3.902295  \n",
       "min        -0.369758       0.000000        0.000000  \n",
       "25%        -0.143372       0.250000        0.625000  \n",
       "50%         0.010607       1.000000        7.900000  \n",
       "75%         4.834443       1.000000        9.600000  \n",
       "max        16.429233       1.000000       10.000000  "
      ]
     },
     "execution_count": 46,
     "metadata": {},
     "output_type": "execute_result"
    }
   ],
   "source": [
    "df_train['sample'] = 1           # помечаем где у нас трейн\n",
    "df_test['sample'] = 0            # помечаем где у нас тест\n",
    "df_test['reviewer_score'] = 0    # в тесте у нас нет значения reviewer_score, мы его должны предсказать, поэтому пока просто заполняем нулями\n",
    "\n",
    "hotels = df_test.append(df_train, sort=False).reset_index(drop=True) # объединяем train \n",
    "hotels.describe()"
   ]
  },
  {
   "cell_type": "code",
   "execution_count": 47,
   "id": "e70fca77",
   "metadata": {
    "execution": {
     "iopub.execute_input": "2022-04-13T00:05:28.835995Z",
     "iopub.status.busy": "2022-04-13T00:05:28.835293Z",
     "iopub.status.idle": "2022-04-13T00:05:29.098683Z",
     "shell.execute_reply": "2022-04-13T00:05:29.097796Z",
     "shell.execute_reply.started": "2022-04-12T23:42:42.888759Z"
    },
    "papermill": {
     "duration": 0.313241,
     "end_time": "2022-04-13T00:05:29.098883",
     "exception": false,
     "start_time": "2022-04-13T00:05:28.785642",
     "status": "completed"
    },
    "tags": []
   },
   "outputs": [
    {
     "name": "stdout",
     "output_type": "stream",
     "text": [
      "<class 'pandas.core.frame.DataFrame'>\n",
      "RangeIndex: 515738 entries, 0 to 515737\n",
      "Data columns (total 18 columns):\n",
      " #   Column                                      Non-Null Count   Dtype  \n",
      "---  ------                                      --------------   -----  \n",
      " 0   hotel_address                               515738 non-null  object \n",
      " 1   additional_number_of_scoring                515738 non-null  int64  \n",
      " 2   review_date                                 515738 non-null  object \n",
      " 3   average_score                               515738 non-null  float64\n",
      " 4   hotel_name                                  515738 non-null  object \n",
      " 5   reviewer_nationality                        515738 non-null  object \n",
      " 6   negative_review                             515738 non-null  object \n",
      " 7   review_total_negative_word_counts           515738 non-null  int64  \n",
      " 8   total_number_of_reviews                     515738 non-null  int64  \n",
      " 9   positive_review                             515738 non-null  object \n",
      " 10  review_total_positive_word_counts           515738 non-null  int64  \n",
      " 11  total_number_of_reviews_reviewer_has_given  515738 non-null  int64  \n",
      " 12  tags                                        515738 non-null  object \n",
      " 13  days_since_review                           515738 non-null  object \n",
      " 14  lat                                         512470 non-null  float64\n",
      " 15  lng                                         512470 non-null  float64\n",
      " 16  sample                                      515738 non-null  int64  \n",
      " 17  reviewer_score                              515738 non-null  float64\n",
      "dtypes: float64(4), int64(6), object(8)\n",
      "memory usage: 70.8+ MB\n"
     ]
    }
   ],
   "source": [
    "# проверяем датасет на наличие строковых данных\n",
    "hotels.info()"
   ]
  },
  {
   "cell_type": "markdown",
   "id": "031614c1",
   "metadata": {
    "papermill": {
     "duration": 0.292595,
     "end_time": "2022-04-13T00:07:37.350376",
     "exception": false,
     "start_time": "2022-04-13T00:07:37.057781",
     "status": "completed"
    },
    "tags": []
   },
   "source": [
    "# 2. Очистка и обработка датасета"
   ]
  },
  {
   "cell_type": "markdown",
   "id": "3f37193c",
   "metadata": {
    "papermill": {
     "duration": 0.290528,
     "end_time": "2022-04-13T00:07:37.935939",
     "exception": false,
     "start_time": "2022-04-13T00:07:37.645411",
     "status": "completed"
    },
    "tags": []
   },
   "source": [
    "# 2.1 Работа с адресами отелей"
   ]
  },
  {
   "cell_type": "markdown",
   "id": "a00cdb60",
   "metadata": {
    "papermill": {
     "duration": 0.316715,
     "end_time": "2022-04-13T00:07:38.539983",
     "exception": false,
     "start_time": "2022-04-13T00:07:38.223268",
     "status": "completed"
    },
    "tags": []
   },
   "source": [
    "Я хотела поработать с адресом отеля и выделить такие признаки как страна и город"
   ]
  },
  {
   "cell_type": "code",
   "execution_count": 48,
   "id": "be619ef2",
   "metadata": {
    "execution": {
     "iopub.execute_input": "2022-04-13T00:07:39.164064Z",
     "iopub.status.busy": "2022-04-13T00:07:39.162950Z",
     "iopub.status.idle": "2022-04-13T00:07:39.397994Z",
     "shell.execute_reply": "2022-04-13T00:07:39.397439Z",
     "shell.execute_reply.started": "2022-04-12T23:45:37.191119Z"
    },
    "papermill": {
     "duration": 0.540007,
     "end_time": "2022-04-13T00:07:39.398179",
     "exception": false,
     "start_time": "2022-04-13T00:07:38.858172",
     "status": "completed"
    },
    "tags": []
   },
   "outputs": [],
   "source": [
    "# выделяем отдельный датасет для признаков, которые относятся к отелям и присваиваем индекс каждому отелю\n",
    "hotel_cols = ['hotel_name', 'hotel_address', 'lat', 'lng', 'average_score', 'total_number_of_reviews', 'additional_number_of_scoring']\n",
    "# удаляем дубликаты данных\n",
    "only_hotels = hotels[hotel_cols].drop_duplicates().reset_index(drop=True)\n",
    "only_hotels['hotel_id'] = only_hotels.index"
   ]
  },
  {
   "cell_type": "code",
   "execution_count": 49,
   "id": "b1da33b3",
   "metadata": {
    "execution": {
     "iopub.execute_input": "2022-04-13T00:07:40.004335Z",
     "iopub.status.busy": "2022-04-13T00:07:40.003563Z",
     "iopub.status.idle": "2022-04-13T00:07:40.017044Z",
     "shell.execute_reply": "2022-04-13T00:07:40.017576Z",
     "shell.execute_reply.started": "2022-04-12T23:45:40.467905Z"
    },
    "papermill": {
     "duration": 0.321069,
     "end_time": "2022-04-13T00:07:40.017781",
     "exception": false,
     "start_time": "2022-04-13T00:07:39.696712",
     "status": "completed"
    },
    "tags": []
   },
   "outputs": [
    {
     "data": {
      "text/html": [
       "<div>\n",
       "<style scoped>\n",
       "    .dataframe tbody tr th:only-of-type {\n",
       "        vertical-align: middle;\n",
       "    }\n",
       "\n",
       "    .dataframe tbody tr th {\n",
       "        vertical-align: top;\n",
       "    }\n",
       "\n",
       "    .dataframe thead th {\n",
       "        text-align: right;\n",
       "    }\n",
       "</style>\n",
       "<table border=\"1\" class=\"dataframe\">\n",
       "  <thead>\n",
       "    <tr style=\"text-align: right;\">\n",
       "      <th></th>\n",
       "      <th>hotel_name</th>\n",
       "      <th>hotel_address</th>\n",
       "      <th>lat</th>\n",
       "      <th>lng</th>\n",
       "      <th>average_score</th>\n",
       "      <th>total_number_of_reviews</th>\n",
       "      <th>additional_number_of_scoring</th>\n",
       "      <th>hotel_id</th>\n",
       "    </tr>\n",
       "  </thead>\n",
       "  <tbody>\n",
       "    <tr>\n",
       "      <th>0</th>\n",
       "      <td>Hotel Da Vinci</td>\n",
       "      <td>Via Senigallia 6 20161 Milan Italy</td>\n",
       "      <td>45.533137</td>\n",
       "      <td>9.171102</td>\n",
       "      <td>8.1</td>\n",
       "      <td>16670</td>\n",
       "      <td>904</td>\n",
       "      <td>0</td>\n",
       "    </tr>\n",
       "    <tr>\n",
       "      <th>1</th>\n",
       "      <td>Urban Lodge Hotel</td>\n",
       "      <td>Arlandaweg 10 Westpoort 1043 EW Amsterdam Neth...</td>\n",
       "      <td>52.385649</td>\n",
       "      <td>4.834443</td>\n",
       "      <td>8.6</td>\n",
       "      <td>5018</td>\n",
       "      <td>612</td>\n",
       "      <td>1</td>\n",
       "    </tr>\n",
       "    <tr>\n",
       "      <th>2</th>\n",
       "      <td>Alexandra Barcelona A DoubleTree by Hilton</td>\n",
       "      <td>Mallorca 251 Eixample 08008 Barcelona Spain</td>\n",
       "      <td>41.393192</td>\n",
       "      <td>2.161520</td>\n",
       "      <td>8.3</td>\n",
       "      <td>351</td>\n",
       "      <td>46</td>\n",
       "      <td>2</td>\n",
       "    </tr>\n",
       "    <tr>\n",
       "      <th>3</th>\n",
       "      <td>Hotel Principe Di Savoia</td>\n",
       "      <td>Piazza Della Repubblica 17 Central Station 201...</td>\n",
       "      <td>45.479888</td>\n",
       "      <td>9.196298</td>\n",
       "      <td>9.1</td>\n",
       "      <td>1543</td>\n",
       "      <td>241</td>\n",
       "      <td>3</td>\n",
       "    </tr>\n",
       "    <tr>\n",
       "      <th>4</th>\n",
       "      <td>Hotel Esther a</td>\n",
       "      <td>Singel 303 309 Amsterdam City Center 1012 WJ A...</td>\n",
       "      <td>52.370545</td>\n",
       "      <td>4.888644</td>\n",
       "      <td>9.1</td>\n",
       "      <td>4687</td>\n",
       "      <td>834</td>\n",
       "      <td>4</td>\n",
       "    </tr>\n",
       "  </tbody>\n",
       "</table>\n",
       "</div>"
      ],
      "text/plain": [
       "                                   hotel_name  \\\n",
       "0                              Hotel Da Vinci   \n",
       "1                           Urban Lodge Hotel   \n",
       "2  Alexandra Barcelona A DoubleTree by Hilton   \n",
       "3                    Hotel Principe Di Savoia   \n",
       "4                              Hotel Esther a   \n",
       "\n",
       "                                       hotel_address        lat       lng  \\\n",
       "0                 Via Senigallia 6 20161 Milan Italy  45.533137  9.171102   \n",
       "1  Arlandaweg 10 Westpoort 1043 EW Amsterdam Neth...  52.385649  4.834443   \n",
       "2        Mallorca 251 Eixample 08008 Barcelona Spain  41.393192  2.161520   \n",
       "3  Piazza Della Repubblica 17 Central Station 201...  45.479888  9.196298   \n",
       "4  Singel 303 309 Amsterdam City Center 1012 WJ A...  52.370545  4.888644   \n",
       "\n",
       "   average_score  total_number_of_reviews  additional_number_of_scoring  \\\n",
       "0            8.1                    16670                           904   \n",
       "1            8.6                     5018                           612   \n",
       "2            8.3                      351                            46   \n",
       "3            9.1                     1543                           241   \n",
       "4            9.1                     4687                           834   \n",
       "\n",
       "   hotel_id  \n",
       "0         0  \n",
       "1         1  \n",
       "2         2  \n",
       "3         3  \n",
       "4         4  "
      ]
     },
     "execution_count": 49,
     "metadata": {},
     "output_type": "execute_result"
    }
   ],
   "source": [
    "only_hotels.head()"
   ]
  },
  {
   "cell_type": "code",
   "execution_count": 50,
   "id": "69cfe382",
   "metadata": {
    "execution": {
     "iopub.execute_input": "2022-04-13T00:07:40.613283Z",
     "iopub.status.busy": "2022-04-13T00:07:40.612546Z",
     "iopub.status.idle": "2022-04-13T00:07:41.673275Z",
     "shell.execute_reply": "2022-04-13T00:07:41.672739Z",
     "shell.execute_reply.started": "2022-04-12T23:45:43.093721Z"
    },
    "papermill": {
     "duration": 1.360962,
     "end_time": "2022-04-13T00:07:41.673423",
     "exception": false,
     "start_time": "2022-04-13T00:07:40.312461",
     "status": "completed"
    },
    "tags": []
   },
   "outputs": [
    {
     "data": {
      "text/html": [
       "<div>\n",
       "<style scoped>\n",
       "    .dataframe tbody tr th:only-of-type {\n",
       "        vertical-align: middle;\n",
       "    }\n",
       "\n",
       "    .dataframe tbody tr th {\n",
       "        vertical-align: top;\n",
       "    }\n",
       "\n",
       "    .dataframe thead th {\n",
       "        text-align: right;\n",
       "    }\n",
       "</style>\n",
       "<table border=\"1\" class=\"dataframe\">\n",
       "  <thead>\n",
       "    <tr style=\"text-align: right;\">\n",
       "      <th></th>\n",
       "      <th>review_date</th>\n",
       "      <th>reviewer_nationality</th>\n",
       "      <th>negative_review</th>\n",
       "      <th>review_total_negative_word_counts</th>\n",
       "      <th>positive_review</th>\n",
       "      <th>review_total_positive_word_counts</th>\n",
       "      <th>total_number_of_reviews_reviewer_has_given</th>\n",
       "      <th>tags</th>\n",
       "      <th>days_since_review</th>\n",
       "      <th>sample</th>\n",
       "      <th>reviewer_score</th>\n",
       "      <th>hotel_id</th>\n",
       "    </tr>\n",
       "  </thead>\n",
       "  <tbody>\n",
       "    <tr>\n",
       "      <th>0</th>\n",
       "      <td>7/21/2017</td>\n",
       "      <td>United Kingdom</td>\n",
       "      <td>Would have appreciated a shop in the hotel th...</td>\n",
       "      <td>52</td>\n",
       "      <td>Hotel was great clean friendly staff free bre...</td>\n",
       "      <td>62</td>\n",
       "      <td>1</td>\n",
       "      <td>[' Leisure trip ', ' Couple ', ' Double Room '...</td>\n",
       "      <td>13 days</td>\n",
       "      <td>0</td>\n",
       "      <td>0.0</td>\n",
       "      <td>0</td>\n",
       "    </tr>\n",
       "    <tr>\n",
       "      <th>1</th>\n",
       "      <td>12/12/2016</td>\n",
       "      <td>Belgium</td>\n",
       "      <td>No tissue paper box was present at the room</td>\n",
       "      <td>10</td>\n",
       "      <td>No Positive</td>\n",
       "      <td>0</td>\n",
       "      <td>7</td>\n",
       "      <td>[' Leisure trip ', ' Group ', ' Triple Room ',...</td>\n",
       "      <td>234 day</td>\n",
       "      <td>0</td>\n",
       "      <td>0.0</td>\n",
       "      <td>1</td>\n",
       "    </tr>\n",
       "    <tr>\n",
       "      <th>2</th>\n",
       "      <td>11/26/2015</td>\n",
       "      <td>Sweden</td>\n",
       "      <td>Pillows</td>\n",
       "      <td>3</td>\n",
       "      <td>Nice welcoming and service</td>\n",
       "      <td>5</td>\n",
       "      <td>15</td>\n",
       "      <td>[' Business trip ', ' Solo traveler ', ' Twin ...</td>\n",
       "      <td>616 day</td>\n",
       "      <td>0</td>\n",
       "      <td>0.0</td>\n",
       "      <td>2</td>\n",
       "    </tr>\n",
       "    <tr>\n",
       "      <th>3</th>\n",
       "      <td>10/17/2015</td>\n",
       "      <td>United States of America</td>\n",
       "      <td>No Negative</td>\n",
       "      <td>0</td>\n",
       "      <td>Everything including the nice upgrade The Hot...</td>\n",
       "      <td>27</td>\n",
       "      <td>9</td>\n",
       "      <td>[' Leisure trip ', ' Couple ', ' Ambassador Ju...</td>\n",
       "      <td>656 day</td>\n",
       "      <td>0</td>\n",
       "      <td>0.0</td>\n",
       "      <td>3</td>\n",
       "    </tr>\n",
       "    <tr>\n",
       "      <th>4</th>\n",
       "      <td>5/16/2016</td>\n",
       "      <td>United Kingdom</td>\n",
       "      <td>No Negative</td>\n",
       "      <td>0</td>\n",
       "      <td>Lovely hotel v welcoming staff</td>\n",
       "      <td>7</td>\n",
       "      <td>2</td>\n",
       "      <td>[' Business trip ', ' Solo traveler ', ' Class...</td>\n",
       "      <td>444 day</td>\n",
       "      <td>0</td>\n",
       "      <td>0.0</td>\n",
       "      <td>4</td>\n",
       "    </tr>\n",
       "  </tbody>\n",
       "</table>\n",
       "</div>"
      ],
      "text/plain": [
       "  review_date        reviewer_nationality  \\\n",
       "0   7/21/2017             United Kingdom    \n",
       "1  12/12/2016                    Belgium    \n",
       "2  11/26/2015                     Sweden    \n",
       "3  10/17/2015   United States of America    \n",
       "4   5/16/2016             United Kingdom    \n",
       "\n",
       "                                     negative_review  \\\n",
       "0   Would have appreciated a shop in the hotel th...   \n",
       "1        No tissue paper box was present at the room   \n",
       "2                                           Pillows    \n",
       "3                                        No Negative   \n",
       "4                                        No Negative   \n",
       "\n",
       "   review_total_negative_word_counts  \\\n",
       "0                                 52   \n",
       "1                                 10   \n",
       "2                                  3   \n",
       "3                                  0   \n",
       "4                                  0   \n",
       "\n",
       "                                     positive_review  \\\n",
       "0   Hotel was great clean friendly staff free bre...   \n",
       "1                                        No Positive   \n",
       "2                         Nice welcoming and service   \n",
       "3   Everything including the nice upgrade The Hot...   \n",
       "4                    Lovely hotel v welcoming staff    \n",
       "\n",
       "   review_total_positive_word_counts  \\\n",
       "0                                 62   \n",
       "1                                  0   \n",
       "2                                  5   \n",
       "3                                 27   \n",
       "4                                  7   \n",
       "\n",
       "   total_number_of_reviews_reviewer_has_given  \\\n",
       "0                                           1   \n",
       "1                                           7   \n",
       "2                                          15   \n",
       "3                                           9   \n",
       "4                                           2   \n",
       "\n",
       "                                                tags days_since_review  \\\n",
       "0  [' Leisure trip ', ' Couple ', ' Double Room '...           13 days   \n",
       "1  [' Leisure trip ', ' Group ', ' Triple Room ',...           234 day   \n",
       "2  [' Business trip ', ' Solo traveler ', ' Twin ...           616 day   \n",
       "3  [' Leisure trip ', ' Couple ', ' Ambassador Ju...           656 day   \n",
       "4  [' Business trip ', ' Solo traveler ', ' Class...           444 day   \n",
       "\n",
       "   sample  reviewer_score  hotel_id  \n",
       "0       0             0.0         0  \n",
       "1       0             0.0         1  \n",
       "2       0             0.0         2  \n",
       "3       0             0.0         3  \n",
       "4       0             0.0         4  "
      ]
     },
     "execution_count": 50,
     "metadata": {},
     "output_type": "execute_result"
    }
   ],
   "source": [
    "# из основного датасета удалим признаки, которые относятся к отелю, и добавим id. Потом будем отдельно добавлять нужные признаки \n",
    "hotels = hotels.merge(only_hotels, on=hotel_cols, how='left')\n",
    "hotels = hotels.drop(hotel_cols, axis=1)\n",
    "hotels.head()"
   ]
  },
  {
   "cell_type": "code",
   "execution_count": 51,
   "id": "c0672c2e",
   "metadata": {
    "execution": {
     "iopub.execute_input": "2022-04-13T00:07:42.263820Z",
     "iopub.status.busy": "2022-04-13T00:07:42.262859Z",
     "iopub.status.idle": "2022-04-13T00:07:42.275745Z",
     "shell.execute_reply": "2022-04-13T00:07:42.276176Z",
     "shell.execute_reply.started": "2022-04-12T23:45:46.244313Z"
    },
    "papermill": {
     "duration": 0.309825,
     "end_time": "2022-04-13T00:07:42.276356",
     "exception": false,
     "start_time": "2022-04-13T00:07:41.966531",
     "status": "completed"
    },
    "tags": []
   },
   "outputs": [],
   "source": [
    "# Выделяем страну, город и почтовый индекс из адреса отеля\n",
    "only_hotels['city'] = only_hotels.hotel_address.apply(lambda x: 'London' if x.endswith('United Kingdom') else x.split()[-2])\n",
    "only_hotels['country'] = only_hotels.hotel_address.apply(lambda x: 'United Kingdom' if x.endswith('United Kingdom') else x.split()[-1])\n",
    "only_hotels['zip'] = only_hotels.hotel_address.apply(lambda x: x.split()[-4]+' '+x.split()[-3] if x.endswith('United Kingdom') or x.endswith('Netherlands') else x.split()[-3])"
   ]
  },
  {
   "cell_type": "code",
   "execution_count": 52,
   "metadata": {},
   "outputs": [
    {
     "data": {
      "text/html": [
       "<div>\n",
       "<style scoped>\n",
       "    .dataframe tbody tr th:only-of-type {\n",
       "        vertical-align: middle;\n",
       "    }\n",
       "\n",
       "    .dataframe tbody tr th {\n",
       "        vertical-align: top;\n",
       "    }\n",
       "\n",
       "    .dataframe thead th {\n",
       "        text-align: right;\n",
       "    }\n",
       "</style>\n",
       "<table border=\"1\" class=\"dataframe\">\n",
       "  <thead>\n",
       "    <tr style=\"text-align: right;\">\n",
       "      <th></th>\n",
       "      <th>hotel_name</th>\n",
       "      <th>hotel_address</th>\n",
       "      <th>lat</th>\n",
       "      <th>lng</th>\n",
       "      <th>average_score</th>\n",
       "      <th>total_number_of_reviews</th>\n",
       "      <th>additional_number_of_scoring</th>\n",
       "      <th>hotel_id</th>\n",
       "      <th>city</th>\n",
       "      <th>country</th>\n",
       "      <th>zip</th>\n",
       "    </tr>\n",
       "  </thead>\n",
       "  <tbody>\n",
       "    <tr>\n",
       "      <th>0</th>\n",
       "      <td>Hotel Da Vinci</td>\n",
       "      <td>Via Senigallia 6 20161 Milan Italy</td>\n",
       "      <td>45.533137</td>\n",
       "      <td>9.171102</td>\n",
       "      <td>8.1</td>\n",
       "      <td>16670</td>\n",
       "      <td>904</td>\n",
       "      <td>0</td>\n",
       "      <td>Milan</td>\n",
       "      <td>Italy</td>\n",
       "      <td>20161</td>\n",
       "    </tr>\n",
       "    <tr>\n",
       "      <th>1</th>\n",
       "      <td>Urban Lodge Hotel</td>\n",
       "      <td>Arlandaweg 10 Westpoort 1043 EW Amsterdam Neth...</td>\n",
       "      <td>52.385649</td>\n",
       "      <td>4.834443</td>\n",
       "      <td>8.6</td>\n",
       "      <td>5018</td>\n",
       "      <td>612</td>\n",
       "      <td>1</td>\n",
       "      <td>Amsterdam</td>\n",
       "      <td>Netherlands</td>\n",
       "      <td>1043 EW</td>\n",
       "    </tr>\n",
       "    <tr>\n",
       "      <th>2</th>\n",
       "      <td>Alexandra Barcelona A DoubleTree by Hilton</td>\n",
       "      <td>Mallorca 251 Eixample 08008 Barcelona Spain</td>\n",
       "      <td>41.393192</td>\n",
       "      <td>2.161520</td>\n",
       "      <td>8.3</td>\n",
       "      <td>351</td>\n",
       "      <td>46</td>\n",
       "      <td>2</td>\n",
       "      <td>Barcelona</td>\n",
       "      <td>Spain</td>\n",
       "      <td>08008</td>\n",
       "    </tr>\n",
       "    <tr>\n",
       "      <th>3</th>\n",
       "      <td>Hotel Principe Di Savoia</td>\n",
       "      <td>Piazza Della Repubblica 17 Central Station 201...</td>\n",
       "      <td>45.479888</td>\n",
       "      <td>9.196298</td>\n",
       "      <td>9.1</td>\n",
       "      <td>1543</td>\n",
       "      <td>241</td>\n",
       "      <td>3</td>\n",
       "      <td>Milan</td>\n",
       "      <td>Italy</td>\n",
       "      <td>20124</td>\n",
       "    </tr>\n",
       "    <tr>\n",
       "      <th>4</th>\n",
       "      <td>Hotel Esther a</td>\n",
       "      <td>Singel 303 309 Amsterdam City Center 1012 WJ A...</td>\n",
       "      <td>52.370545</td>\n",
       "      <td>4.888644</td>\n",
       "      <td>9.1</td>\n",
       "      <td>4687</td>\n",
       "      <td>834</td>\n",
       "      <td>4</td>\n",
       "      <td>Amsterdam</td>\n",
       "      <td>Netherlands</td>\n",
       "      <td>1012 WJ</td>\n",
       "    </tr>\n",
       "    <tr>\n",
       "      <th>...</th>\n",
       "      <td>...</td>\n",
       "      <td>...</td>\n",
       "      <td>...</td>\n",
       "      <td>...</td>\n",
       "      <td>...</td>\n",
       "      <td>...</td>\n",
       "      <td>...</td>\n",
       "      <td>...</td>\n",
       "      <td>...</td>\n",
       "      <td>...</td>\n",
       "      <td>...</td>\n",
       "    </tr>\n",
       "    <tr>\n",
       "      <th>1489</th>\n",
       "      <td>45 Park Lane Dorchester Collection</td>\n",
       "      <td>45 Park Lane Westminster Borough London W1K 1P...</td>\n",
       "      <td>51.506371</td>\n",
       "      <td>-0.151536</td>\n",
       "      <td>9.4</td>\n",
       "      <td>68</td>\n",
       "      <td>27</td>\n",
       "      <td>1489</td>\n",
       "      <td>London</td>\n",
       "      <td>United Kingdom</td>\n",
       "      <td>W1K 1PN</td>\n",
       "    </tr>\n",
       "    <tr>\n",
       "      <th>1490</th>\n",
       "      <td>Hotel Sezz Paris</td>\n",
       "      <td>6 Avenue Fr miet 16th arr 75016 Paris France</td>\n",
       "      <td>48.856634</td>\n",
       "      <td>2.285261</td>\n",
       "      <td>8.4</td>\n",
       "      <td>132</td>\n",
       "      <td>14</td>\n",
       "      <td>1490</td>\n",
       "      <td>Paris</td>\n",
       "      <td>France</td>\n",
       "      <td>75016</td>\n",
       "    </tr>\n",
       "    <tr>\n",
       "      <th>1491</th>\n",
       "      <td>L Edmond H tel</td>\n",
       "      <td>22 avenue de Villiers 17th arr 75017 Paris France</td>\n",
       "      <td>48.882311</td>\n",
       "      <td>2.313237</td>\n",
       "      <td>8.2</td>\n",
       "      <td>174</td>\n",
       "      <td>24</td>\n",
       "      <td>1491</td>\n",
       "      <td>Paris</td>\n",
       "      <td>France</td>\n",
       "      <td>75017</td>\n",
       "    </tr>\n",
       "    <tr>\n",
       "      <th>1492</th>\n",
       "      <td>Drawing Hotel</td>\n",
       "      <td>17 rue de Richelieu 1st arr 75001 Paris France</td>\n",
       "      <td>48.864438</td>\n",
       "      <td>2.335915</td>\n",
       "      <td>8.9</td>\n",
       "      <td>67</td>\n",
       "      <td>5</td>\n",
       "      <td>1492</td>\n",
       "      <td>Paris</td>\n",
       "      <td>France</td>\n",
       "      <td>75001</td>\n",
       "    </tr>\n",
       "    <tr>\n",
       "      <th>1493</th>\n",
       "      <td>Mercure Paris Bastille Saint Antoine</td>\n",
       "      <td>64 Rue Crozatier 12th arr 75012 Paris France</td>\n",
       "      <td>48.849574</td>\n",
       "      <td>2.379852</td>\n",
       "      <td>7.9</td>\n",
       "      <td>168</td>\n",
       "      <td>9</td>\n",
       "      <td>1493</td>\n",
       "      <td>Paris</td>\n",
       "      <td>France</td>\n",
       "      <td>75012</td>\n",
       "    </tr>\n",
       "  </tbody>\n",
       "</table>\n",
       "<p>1494 rows × 11 columns</p>\n",
       "</div>"
      ],
      "text/plain": [
       "                                      hotel_name  \\\n",
       "0                                 Hotel Da Vinci   \n",
       "1                              Urban Lodge Hotel   \n",
       "2     Alexandra Barcelona A DoubleTree by Hilton   \n",
       "3                       Hotel Principe Di Savoia   \n",
       "4                                 Hotel Esther a   \n",
       "...                                          ...   \n",
       "1489          45 Park Lane Dorchester Collection   \n",
       "1490                            Hotel Sezz Paris   \n",
       "1491                              L Edmond H tel   \n",
       "1492                               Drawing Hotel   \n",
       "1493        Mercure Paris Bastille Saint Antoine   \n",
       "\n",
       "                                          hotel_address        lat       lng  \\\n",
       "0                    Via Senigallia 6 20161 Milan Italy  45.533137  9.171102   \n",
       "1     Arlandaweg 10 Westpoort 1043 EW Amsterdam Neth...  52.385649  4.834443   \n",
       "2           Mallorca 251 Eixample 08008 Barcelona Spain  41.393192  2.161520   \n",
       "3     Piazza Della Repubblica 17 Central Station 201...  45.479888  9.196298   \n",
       "4     Singel 303 309 Amsterdam City Center 1012 WJ A...  52.370545  4.888644   \n",
       "...                                                 ...        ...       ...   \n",
       "1489  45 Park Lane Westminster Borough London W1K 1P...  51.506371 -0.151536   \n",
       "1490       6 Avenue Fr miet 16th arr 75016 Paris France  48.856634  2.285261   \n",
       "1491  22 avenue de Villiers 17th arr 75017 Paris France  48.882311  2.313237   \n",
       "1492     17 rue de Richelieu 1st arr 75001 Paris France  48.864438  2.335915   \n",
       "1493       64 Rue Crozatier 12th arr 75012 Paris France  48.849574  2.379852   \n",
       "\n",
       "      average_score  total_number_of_reviews  additional_number_of_scoring  \\\n",
       "0               8.1                    16670                           904   \n",
       "1               8.6                     5018                           612   \n",
       "2               8.3                      351                            46   \n",
       "3               9.1                     1543                           241   \n",
       "4               9.1                     4687                           834   \n",
       "...             ...                      ...                           ...   \n",
       "1489            9.4                       68                            27   \n",
       "1490            8.4                      132                            14   \n",
       "1491            8.2                      174                            24   \n",
       "1492            8.9                       67                             5   \n",
       "1493            7.9                      168                             9   \n",
       "\n",
       "      hotel_id       city         country      zip  \n",
       "0            0      Milan           Italy    20161  \n",
       "1            1  Amsterdam     Netherlands  1043 EW  \n",
       "2            2  Barcelona           Spain    08008  \n",
       "3            3      Milan           Italy    20124  \n",
       "4            4  Amsterdam     Netherlands  1012 WJ  \n",
       "...        ...        ...             ...      ...  \n",
       "1489      1489     London  United Kingdom  W1K 1PN  \n",
       "1490      1490      Paris          France    75016  \n",
       "1491      1491      Paris          France    75017  \n",
       "1492      1492      Paris          France    75001  \n",
       "1493      1493      Paris          France    75012  \n",
       "\n",
       "[1494 rows x 11 columns]"
      ]
     },
     "execution_count": 52,
     "metadata": {},
     "output_type": "execute_result"
    }
   ],
   "source": [
    "only_hotels"
   ]
  },
  {
   "cell_type": "code",
   "execution_count": 53,
   "id": "a7c7debe",
   "metadata": {
    "execution": {
     "iopub.execute_input": "2022-04-13T00:07:42.854300Z",
     "iopub.status.busy": "2022-04-13T00:07:42.853340Z",
     "iopub.status.idle": "2022-04-13T00:07:42.862144Z",
     "shell.execute_reply": "2022-04-13T00:07:42.862641Z",
     "shell.execute_reply.started": "2022-04-12T23:45:49.010260Z"
    },
    "papermill": {
     "duration": 0.30004,
     "end_time": "2022-04-13T00:07:42.862822",
     "exception": false,
     "start_time": "2022-04-13T00:07:42.562782",
     "status": "completed"
    },
    "tags": []
   },
   "outputs": [
    {
     "data": {
      "text/plain": [
       "array(['Milan', 'Amsterdam', 'Barcelona', 'London', 'Paris', 'Vienna'],\n",
       "      dtype=object)"
      ]
     },
     "metadata": {},
     "output_type": "display_data"
    },
    {
     "data": {
      "text/plain": [
       "array(['Italy', 'Netherlands', 'Spain', 'United Kingdom', 'France',\n",
       "       'Austria'], dtype=object)"
      ]
     },
     "metadata": {},
     "output_type": "display_data"
    }
   ],
   "source": [
    "# уникальных значений городов и стран всего 6\n",
    "display(only_hotels['city'].unique())\n",
    "display(only_hotels['country'].unique())"
   ]
  },
  {
   "cell_type": "code",
   "execution_count": 54,
   "id": "65fc31b5",
   "metadata": {
    "execution": {
     "iopub.execute_input": "2022-04-13T00:07:43.446447Z",
     "iopub.status.busy": "2022-04-13T00:07:43.445423Z",
     "iopub.status.idle": "2022-04-13T00:07:43.456060Z",
     "shell.execute_reply": "2022-04-13T00:07:43.456544Z",
     "shell.execute_reply.started": "2022-04-12T23:45:51.902216Z"
    },
    "papermill": {
     "duration": 0.306491,
     "end_time": "2022-04-13T00:07:43.456769",
     "exception": false,
     "start_time": "2022-04-13T00:07:43.150278",
     "status": "completed"
    },
    "tags": []
   },
   "outputs": [],
   "source": [
    "# признаки с численностью населения страны и города отеля\n",
    "сity_population = {\n",
    "    'Milan': 1399860, 'Amsterdam': 872757,\n",
    "    'Barcelona': 1664182, 'London': 8961989,\n",
    "    'Paris': 2148327, 'Vienna': 1921153\n",
    "}\n",
    "only_hotels['сity_population'] = only_hotels['city'].map(сity_population)\n",
    "country_population = {\n",
    "    'Italy': 59257566, 'Netherlands': 17441500,\n",
    "    'Spain': 47363419, 'United Kingdom': 67081000,\n",
    "    'France': 64844037, 'Austria': 8916864\n",
    "}\n",
    "only_hotels['country_population'] = only_hotels['country'].map(country_population)\n",
    "only_hotels['%_city_pop_from_country_pop'] = only_hotels['сity_population'] / only_hotels['country_population']"
   ]
  },
  {
   "cell_type": "code",
   "execution_count": 55,
   "id": "e7c04d1a",
   "metadata": {
    "execution": {
     "iopub.execute_input": "2022-04-13T00:07:49.686222Z",
     "iopub.status.busy": "2022-04-13T00:07:49.685373Z",
     "iopub.status.idle": "2022-04-13T00:07:49.721065Z",
     "shell.execute_reply": "2022-04-13T00:07:49.720572Z",
     "shell.execute_reply.started": "2022-04-12T23:46:07.228459Z"
    },
    "papermill": {
     "duration": 0.332493,
     "end_time": "2022-04-13T00:07:49.721227",
     "exception": false,
     "start_time": "2022-04-13T00:07:49.388734",
     "status": "completed"
    },
    "tags": []
   },
   "outputs": [
    {
     "data": {
      "text/html": [
       "<div>\n",
       "<style scoped>\n",
       "    .dataframe tbody tr th:only-of-type {\n",
       "        vertical-align: middle;\n",
       "    }\n",
       "\n",
       "    .dataframe tbody tr th {\n",
       "        vertical-align: top;\n",
       "    }\n",
       "\n",
       "    .dataframe thead th {\n",
       "        text-align: right;\n",
       "    }\n",
       "</style>\n",
       "<table border=\"1\" class=\"dataframe\">\n",
       "  <thead>\n",
       "    <tr style=\"text-align: right;\">\n",
       "      <th></th>\n",
       "      <th>hotel_name</th>\n",
       "      <th>hotel_address</th>\n",
       "      <th>lat</th>\n",
       "      <th>lng</th>\n",
       "      <th>average_score</th>\n",
       "      <th>total_number_of_reviews</th>\n",
       "      <th>additional_number_of_scoring</th>\n",
       "      <th>hotel_id</th>\n",
       "      <th>city</th>\n",
       "      <th>country</th>\n",
       "      <th>zip</th>\n",
       "      <th>сity_population</th>\n",
       "      <th>country_population</th>\n",
       "      <th>%_city_pop_from_country_pop</th>\n",
       "      <th>lat_avg</th>\n",
       "      <th>lng_avg</th>\n",
       "    </tr>\n",
       "  </thead>\n",
       "  <tbody>\n",
       "    <tr>\n",
       "      <th>199</th>\n",
       "      <td>Hotel Atlanta</td>\n",
       "      <td>W hringer Stra e 33 35 09 Alsergrund 1090 Vien...</td>\n",
       "      <td>NaN</td>\n",
       "      <td>NaN</td>\n",
       "      <td>7.8</td>\n",
       "      <td>2724</td>\n",
       "      <td>214</td>\n",
       "      <td>35</td>\n",
       "      <td>Vienna</td>\n",
       "      <td>Austria</td>\n",
       "      <td>1090</td>\n",
       "      <td>1921153</td>\n",
       "      <td>8916864</td>\n",
       "      <td>0.215452</td>\n",
       "      <td>48.222805</td>\n",
       "      <td>16.358220</td>\n",
       "    </tr>\n",
       "    <tr>\n",
       "      <th>200</th>\n",
       "      <td>City Hotel Deutschmeister</td>\n",
       "      <td>Gr nentorgasse 30 09 Alsergrund 1090 Vienna Au...</td>\n",
       "      <td>NaN</td>\n",
       "      <td>NaN</td>\n",
       "      <td>8.0</td>\n",
       "      <td>675</td>\n",
       "      <td>44</td>\n",
       "      <td>343</td>\n",
       "      <td>Vienna</td>\n",
       "      <td>Austria</td>\n",
       "      <td>1090</td>\n",
       "      <td>1921153</td>\n",
       "      <td>8916864</td>\n",
       "      <td>0.215452</td>\n",
       "      <td>48.222805</td>\n",
       "      <td>16.358220</td>\n",
       "    </tr>\n",
       "    <tr>\n",
       "      <th>205</th>\n",
       "      <td>Hotel Pension Baron am Schottentor</td>\n",
       "      <td>W hringer Stra e 12 09 Alsergrund 1090 Vienna ...</td>\n",
       "      <td>NaN</td>\n",
       "      <td>NaN</td>\n",
       "      <td>8.0</td>\n",
       "      <td>1315</td>\n",
       "      <td>122</td>\n",
       "      <td>1009</td>\n",
       "      <td>Vienna</td>\n",
       "      <td>Austria</td>\n",
       "      <td>1090</td>\n",
       "      <td>1921153</td>\n",
       "      <td>8916864</td>\n",
       "      <td>0.215452</td>\n",
       "      <td>48.222805</td>\n",
       "      <td>16.358220</td>\n",
       "    </tr>\n",
       "    <tr>\n",
       "      <th>267</th>\n",
       "      <td>Hotel Advance</td>\n",
       "      <td>Sep lveda 180 Eixample 08011 Barcelona Spain</td>\n",
       "      <td>NaN</td>\n",
       "      <td>NaN</td>\n",
       "      <td>8.3</td>\n",
       "      <td>156</td>\n",
       "      <td>18</td>\n",
       "      <td>1484</td>\n",
       "      <td>Barcelona</td>\n",
       "      <td>Spain</td>\n",
       "      <td>08011</td>\n",
       "      <td>1664182</td>\n",
       "      <td>47363419</td>\n",
       "      <td>0.035136</td>\n",
       "      <td>41.386019</td>\n",
       "      <td>2.159606</td>\n",
       "    </tr>\n",
       "    <tr>\n",
       "      <th>333</th>\n",
       "      <td>Maison Albar Hotel Paris Op ra Diamond</td>\n",
       "      <td>4 rue de la P pini re 8th arr 75008 Paris France</td>\n",
       "      <td>NaN</td>\n",
       "      <td>NaN</td>\n",
       "      <td>8.8</td>\n",
       "      <td>1524</td>\n",
       "      <td>172</td>\n",
       "      <td>924</td>\n",
       "      <td>Paris</td>\n",
       "      <td>France</td>\n",
       "      <td>75008</td>\n",
       "      <td>2148327</td>\n",
       "      <td>64844037</td>\n",
       "      <td>0.033131</td>\n",
       "      <td>48.871954</td>\n",
       "      <td>2.310690</td>\n",
       "    </tr>\n",
       "  </tbody>\n",
       "</table>\n",
       "</div>"
      ],
      "text/plain": [
       "                                 hotel_name  \\\n",
       "199                           Hotel Atlanta   \n",
       "200               City Hotel Deutschmeister   \n",
       "205      Hotel Pension Baron am Schottentor   \n",
       "267                           Hotel Advance   \n",
       "333  Maison Albar Hotel Paris Op ra Diamond   \n",
       "\n",
       "                                         hotel_address  lat  lng  \\\n",
       "199  W hringer Stra e 33 35 09 Alsergrund 1090 Vien...  NaN  NaN   \n",
       "200  Gr nentorgasse 30 09 Alsergrund 1090 Vienna Au...  NaN  NaN   \n",
       "205  W hringer Stra e 12 09 Alsergrund 1090 Vienna ...  NaN  NaN   \n",
       "267       Sep lveda 180 Eixample 08011 Barcelona Spain  NaN  NaN   \n",
       "333   4 rue de la P pini re 8th arr 75008 Paris France  NaN  NaN   \n",
       "\n",
       "     average_score  total_number_of_reviews  additional_number_of_scoring  \\\n",
       "199            7.8                     2724                           214   \n",
       "200            8.0                      675                            44   \n",
       "205            8.0                     1315                           122   \n",
       "267            8.3                      156                            18   \n",
       "333            8.8                     1524                           172   \n",
       "\n",
       "     hotel_id       city  country    zip  сity_population  country_population  \\\n",
       "199        35     Vienna  Austria   1090          1921153             8916864   \n",
       "200       343     Vienna  Austria   1090          1921153             8916864   \n",
       "205      1009     Vienna  Austria   1090          1921153             8916864   \n",
       "267      1484  Barcelona    Spain  08011          1664182            47363419   \n",
       "333       924      Paris   France  75008          2148327            64844037   \n",
       "\n",
       "     %_city_pop_from_country_pop    lat_avg    lng_avg  \n",
       "199                     0.215452  48.222805  16.358220  \n",
       "200                     0.215452  48.222805  16.358220  \n",
       "205                     0.215452  48.222805  16.358220  \n",
       "267                     0.035136  41.386019   2.159606  \n",
       "333                     0.033131  48.871954   2.310690  "
      ]
     },
     "execution_count": 55,
     "metadata": {},
     "output_type": "execute_result"
    }
   ],
   "source": [
    "#Будем считать среднюю географическую координату для заполнения пропусков\n",
    "geography = only_hotels.groupby(['city', 'zip']).agg({'lat' : 'mean', 'lng' : 'mean'})\n",
    "only_hotels = only_hotels.merge(geography, on=['city', 'zip'], suffixes=('', '_avg'))\n",
    "\n",
    "only_hotels[only_hotels.lat.isna()].head()"
   ]
  },
  {
   "cell_type": "code",
   "execution_count": 56,
   "id": "38f72836",
   "metadata": {
    "execution": {
     "iopub.execute_input": "2022-04-13T00:07:50.316539Z",
     "iopub.status.busy": "2022-04-13T00:07:50.315933Z",
     "iopub.status.idle": "2022-04-13T00:07:50.318475Z",
     "shell.execute_reply": "2022-04-13T00:07:50.318023Z",
     "shell.execute_reply.started": "2022-04-12T23:46:11.593020Z"
    },
    "papermill": {
     "duration": 0.302853,
     "end_time": "2022-04-13T00:07:50.318633",
     "exception": false,
     "start_time": "2022-04-13T00:07:50.015780",
     "status": "completed"
    },
    "tags": []
   },
   "outputs": [],
   "source": [
    "# Будем заменять пропуски в географических данных, исходя из индексов\n",
    "only_hotels['lat'] = np.where(only_hotels.lat.isna(), only_hotels.lat_avg, only_hotels.lat)\n",
    "only_hotels['lng'] = np.where(only_hotels.lng.isna(), only_hotels.lng_avg, only_hotels.lng)\n",
    "only_hotels = only_hotels.drop(['lat_avg', 'lng_avg'], axis=1)"
   ]
  },
  {
   "cell_type": "code",
   "execution_count": 57,
   "id": "621dd5d9",
   "metadata": {
    "execution": {
     "iopub.execute_input": "2022-04-13T00:07:50.909562Z",
     "iopub.status.busy": "2022-04-13T00:07:50.906905Z",
     "iopub.status.idle": "2022-04-13T00:07:50.913912Z",
     "shell.execute_reply": "2022-04-13T00:07:50.913323Z",
     "shell.execute_reply.started": "2022-04-12T23:46:15.557103Z"
    },
    "papermill": {
     "duration": 0.305958,
     "end_time": "2022-04-13T00:07:50.914058",
     "exception": false,
     "start_time": "2022-04-13T00:07:50.608100",
     "status": "completed"
    },
    "tags": []
   },
   "outputs": [
    {
     "data": {
      "text/plain": [
       "hotel_name                      0.0\n",
       "hotel_address                   0.0\n",
       "lat                             0.0\n",
       "lng                             0.0\n",
       "average_score                   0.0\n",
       "total_number_of_reviews         0.0\n",
       "additional_number_of_scoring    0.0\n",
       "hotel_id                        0.0\n",
       "city                            0.0\n",
       "country                         0.0\n",
       "zip                             0.0\n",
       "сity_population                 0.0\n",
       "country_population              0.0\n",
       "%_city_pop_from_country_pop     0.0\n",
       "dtype: float64"
      ]
     },
     "execution_count": 57,
     "metadata": {},
     "output_type": "execute_result"
    }
   ],
   "source": [
    "# Проверяем, остались ли пропуски\n",
    "only_hotels.isnull().mean()"
   ]
  },
  {
   "cell_type": "code",
   "execution_count": 58,
   "id": "6526e8ca",
   "metadata": {
    "execution": {
     "iopub.execute_input": "2022-04-13T00:07:51.506844Z",
     "iopub.status.busy": "2022-04-13T00:07:51.506112Z",
     "iopub.status.idle": "2022-04-13T00:07:52.231850Z",
     "shell.execute_reply": "2022-04-13T00:07:52.232264Z",
     "shell.execute_reply.started": "2022-04-12T23:46:18.318152Z"
    },
    "papermill": {
     "duration": 1.025049,
     "end_time": "2022-04-13T00:07:52.232440",
     "exception": false,
     "start_time": "2022-04-13T00:07:51.207391",
     "status": "completed"
    },
    "tags": []
   },
   "outputs": [
    {
     "data": {
      "text/html": [
       "<div>\n",
       "<style scoped>\n",
       "    .dataframe tbody tr th:only-of-type {\n",
       "        vertical-align: middle;\n",
       "    }\n",
       "\n",
       "    .dataframe tbody tr th {\n",
       "        vertical-align: top;\n",
       "    }\n",
       "\n",
       "    .dataframe thead th {\n",
       "        text-align: right;\n",
       "    }\n",
       "</style>\n",
       "<table border=\"1\" class=\"dataframe\">\n",
       "  <thead>\n",
       "    <tr style=\"text-align: right;\">\n",
       "      <th></th>\n",
       "      <th>review_date</th>\n",
       "      <th>reviewer_nationality</th>\n",
       "      <th>negative_review</th>\n",
       "      <th>review_total_negative_word_counts</th>\n",
       "      <th>positive_review</th>\n",
       "      <th>review_total_positive_word_counts</th>\n",
       "      <th>total_number_of_reviews_reviewer_has_given</th>\n",
       "      <th>tags</th>\n",
       "      <th>days_since_review</th>\n",
       "      <th>sample</th>\n",
       "      <th>...</th>\n",
       "      <th>lng</th>\n",
       "      <th>average_score</th>\n",
       "      <th>total_number_of_reviews</th>\n",
       "      <th>additional_number_of_scoring</th>\n",
       "      <th>city</th>\n",
       "      <th>country</th>\n",
       "      <th>zip</th>\n",
       "      <th>сity_population</th>\n",
       "      <th>country_population</th>\n",
       "      <th>%_city_pop_from_country_pop</th>\n",
       "    </tr>\n",
       "  </thead>\n",
       "  <tbody>\n",
       "    <tr>\n",
       "      <th>0</th>\n",
       "      <td>7/21/2017</td>\n",
       "      <td>United Kingdom</td>\n",
       "      <td>Would have appreciated a shop in the hotel th...</td>\n",
       "      <td>52</td>\n",
       "      <td>Hotel was great clean friendly staff free bre...</td>\n",
       "      <td>62</td>\n",
       "      <td>1</td>\n",
       "      <td>[' Leisure trip ', ' Couple ', ' Double Room '...</td>\n",
       "      <td>13 days</td>\n",
       "      <td>0</td>\n",
       "      <td>...</td>\n",
       "      <td>9.171102</td>\n",
       "      <td>8.1</td>\n",
       "      <td>16670</td>\n",
       "      <td>904</td>\n",
       "      <td>3</td>\n",
       "      <td>Italy</td>\n",
       "      <td>187</td>\n",
       "      <td>1399860</td>\n",
       "      <td>59257566</td>\n",
       "      <td>0.023623</td>\n",
       "    </tr>\n",
       "    <tr>\n",
       "      <th>1</th>\n",
       "      <td>12/12/2016</td>\n",
       "      <td>Belgium</td>\n",
       "      <td>No tissue paper box was present at the room</td>\n",
       "      <td>10</td>\n",
       "      <td>No Positive</td>\n",
       "      <td>0</td>\n",
       "      <td>7</td>\n",
       "      <td>[' Leisure trip ', ' Group ', ' Triple Room ',...</td>\n",
       "      <td>234 day</td>\n",
       "      <td>0</td>\n",
       "      <td>...</td>\n",
       "      <td>4.834443</td>\n",
       "      <td>8.6</td>\n",
       "      <td>5018</td>\n",
       "      <td>612</td>\n",
       "      <td>0</td>\n",
       "      <td>Netherlands</td>\n",
       "      <td>87</td>\n",
       "      <td>872757</td>\n",
       "      <td>17441500</td>\n",
       "      <td>0.050039</td>\n",
       "    </tr>\n",
       "    <tr>\n",
       "      <th>2</th>\n",
       "      <td>11/26/2015</td>\n",
       "      <td>Sweden</td>\n",
       "      <td>Pillows</td>\n",
       "      <td>3</td>\n",
       "      <td>Nice welcoming and service</td>\n",
       "      <td>5</td>\n",
       "      <td>15</td>\n",
       "      <td>[' Business trip ', ' Solo traveler ', ' Twin ...</td>\n",
       "      <td>616 day</td>\n",
       "      <td>0</td>\n",
       "      <td>...</td>\n",
       "      <td>2.161520</td>\n",
       "      <td>8.3</td>\n",
       "      <td>351</td>\n",
       "      <td>46</td>\n",
       "      <td>1</td>\n",
       "      <td>Spain</td>\n",
       "      <td>7</td>\n",
       "      <td>1664182</td>\n",
       "      <td>47363419</td>\n",
       "      <td>0.035136</td>\n",
       "    </tr>\n",
       "    <tr>\n",
       "      <th>3</th>\n",
       "      <td>10/17/2015</td>\n",
       "      <td>United States of America</td>\n",
       "      <td>No Negative</td>\n",
       "      <td>0</td>\n",
       "      <td>Everything including the nice upgrade The Hot...</td>\n",
       "      <td>27</td>\n",
       "      <td>9</td>\n",
       "      <td>[' Leisure trip ', ' Couple ', ' Ambassador Ju...</td>\n",
       "      <td>656 day</td>\n",
       "      <td>0</td>\n",
       "      <td>...</td>\n",
       "      <td>9.196298</td>\n",
       "      <td>9.1</td>\n",
       "      <td>1543</td>\n",
       "      <td>241</td>\n",
       "      <td>3</td>\n",
       "      <td>Italy</td>\n",
       "      <td>158</td>\n",
       "      <td>1399860</td>\n",
       "      <td>59257566</td>\n",
       "      <td>0.023623</td>\n",
       "    </tr>\n",
       "    <tr>\n",
       "      <th>4</th>\n",
       "      <td>5/16/2016</td>\n",
       "      <td>United Kingdom</td>\n",
       "      <td>No Negative</td>\n",
       "      <td>0</td>\n",
       "      <td>Lovely hotel v welcoming staff</td>\n",
       "      <td>7</td>\n",
       "      <td>2</td>\n",
       "      <td>[' Business trip ', ' Solo traveler ', ' Class...</td>\n",
       "      <td>444 day</td>\n",
       "      <td>0</td>\n",
       "      <td>...</td>\n",
       "      <td>4.888644</td>\n",
       "      <td>9.1</td>\n",
       "      <td>4687</td>\n",
       "      <td>834</td>\n",
       "      <td>0</td>\n",
       "      <td>Netherlands</td>\n",
       "      <td>52</td>\n",
       "      <td>872757</td>\n",
       "      <td>17441500</td>\n",
       "      <td>0.050039</td>\n",
       "    </tr>\n",
       "  </tbody>\n",
       "</table>\n",
       "<p>5 rows × 25 columns</p>\n",
       "</div>"
      ],
      "text/plain": [
       "  review_date        reviewer_nationality  \\\n",
       "0   7/21/2017             United Kingdom    \n",
       "1  12/12/2016                    Belgium    \n",
       "2  11/26/2015                     Sweden    \n",
       "3  10/17/2015   United States of America    \n",
       "4   5/16/2016             United Kingdom    \n",
       "\n",
       "                                     negative_review  \\\n",
       "0   Would have appreciated a shop in the hotel th...   \n",
       "1        No tissue paper box was present at the room   \n",
       "2                                           Pillows    \n",
       "3                                        No Negative   \n",
       "4                                        No Negative   \n",
       "\n",
       "   review_total_negative_word_counts  \\\n",
       "0                                 52   \n",
       "1                                 10   \n",
       "2                                  3   \n",
       "3                                  0   \n",
       "4                                  0   \n",
       "\n",
       "                                     positive_review  \\\n",
       "0   Hotel was great clean friendly staff free bre...   \n",
       "1                                        No Positive   \n",
       "2                         Nice welcoming and service   \n",
       "3   Everything including the nice upgrade The Hot...   \n",
       "4                    Lovely hotel v welcoming staff    \n",
       "\n",
       "   review_total_positive_word_counts  \\\n",
       "0                                 62   \n",
       "1                                  0   \n",
       "2                                  5   \n",
       "3                                 27   \n",
       "4                                  7   \n",
       "\n",
       "   total_number_of_reviews_reviewer_has_given  \\\n",
       "0                                           1   \n",
       "1                                           7   \n",
       "2                                          15   \n",
       "3                                           9   \n",
       "4                                           2   \n",
       "\n",
       "                                                tags days_since_review  \\\n",
       "0  [' Leisure trip ', ' Couple ', ' Double Room '...           13 days   \n",
       "1  [' Leisure trip ', ' Group ', ' Triple Room ',...           234 day   \n",
       "2  [' Business trip ', ' Solo traveler ', ' Twin ...           616 day   \n",
       "3  [' Leisure trip ', ' Couple ', ' Ambassador Ju...           656 day   \n",
       "4  [' Business trip ', ' Solo traveler ', ' Class...           444 day   \n",
       "\n",
       "   sample  ...       lng  average_score total_number_of_reviews  \\\n",
       "0       0  ...  9.171102            8.1                   16670   \n",
       "1       0  ...  4.834443            8.6                    5018   \n",
       "2       0  ...  2.161520            8.3                     351   \n",
       "3       0  ...  9.196298            9.1                    1543   \n",
       "4       0  ...  4.888644            9.1                    4687   \n",
       "\n",
       "  additional_number_of_scoring  city      country  zip  сity_population  \\\n",
       "0                          904     3        Italy  187          1399860   \n",
       "1                          612     0  Netherlands   87           872757   \n",
       "2                           46     1        Spain    7          1664182   \n",
       "3                          241     3        Italy  158          1399860   \n",
       "4                          834     0  Netherlands   52           872757   \n",
       "\n",
       "   country_population  %_city_pop_from_country_pop  \n",
       "0            59257566                     0.023623  \n",
       "1            17441500                     0.050039  \n",
       "2            47363419                     0.035136  \n",
       "3            59257566                     0.023623  \n",
       "4            17441500                     0.050039  \n",
       "\n",
       "[5 rows x 25 columns]"
      ]
     },
     "execution_count": 58,
     "metadata": {},
     "output_type": "execute_result"
    }
   ],
   "source": [
    "# соединяем назад наши датасеты\n",
    "hotels = hotels.merge(only_hotels, on='hotel_id', how='left')\n",
    "\n",
    "# кодируем город и индекс с помощью  метода LabelEncode\n",
    "from sklearn import preprocessing\n",
    "from sklearn.preprocessing import LabelEncoder\n",
    "hotels['city'] = LabelEncoder().fit_transform(hotels['city'])\n",
    "hotels['zip'] = LabelEncoder().fit_transform(hotels['zip'])\n",
    "\n",
    "hotels.head()"
   ]
  },
  {
   "cell_type": "code",
   "execution_count": 59,
   "id": "2e019185",
   "metadata": {
    "execution": {
     "iopub.execute_input": "2022-04-13T00:07:55.436078Z",
     "iopub.status.busy": "2022-04-13T00:07:55.435380Z",
     "iopub.status.idle": "2022-04-13T00:07:55.692909Z",
     "shell.execute_reply": "2022-04-13T00:07:55.693382Z",
     "shell.execute_reply.started": "2022-04-12T23:46:28.302315Z"
    },
    "papermill": {
     "duration": 0.590394,
     "end_time": "2022-04-13T00:07:55.693562",
     "exception": false,
     "start_time": "2022-04-13T00:07:55.103168",
     "status": "completed"
    },
    "tags": []
   },
   "outputs": [
    {
     "data": {
      "text/html": [
       "<div>\n",
       "<style scoped>\n",
       "    .dataframe tbody tr th:only-of-type {\n",
       "        vertical-align: middle;\n",
       "    }\n",
       "\n",
       "    .dataframe tbody tr th {\n",
       "        vertical-align: top;\n",
       "    }\n",
       "\n",
       "    .dataframe thead th {\n",
       "        text-align: right;\n",
       "    }\n",
       "</style>\n",
       "<table border=\"1\" class=\"dataframe\">\n",
       "  <thead>\n",
       "    <tr style=\"text-align: right;\">\n",
       "      <th></th>\n",
       "      <th>review_date</th>\n",
       "      <th>reviewer_nationality</th>\n",
       "      <th>negative_review</th>\n",
       "      <th>review_total_negative_word_counts</th>\n",
       "      <th>positive_review</th>\n",
       "      <th>review_total_positive_word_counts</th>\n",
       "      <th>total_number_of_reviews_reviewer_has_given</th>\n",
       "      <th>tags</th>\n",
       "      <th>days_since_review</th>\n",
       "      <th>sample</th>\n",
       "      <th>...</th>\n",
       "      <th>lng</th>\n",
       "      <th>average_score</th>\n",
       "      <th>total_number_of_reviews</th>\n",
       "      <th>additional_number_of_scoring</th>\n",
       "      <th>city</th>\n",
       "      <th>country</th>\n",
       "      <th>zip</th>\n",
       "      <th>сity_population</th>\n",
       "      <th>country_population</th>\n",
       "      <th>%_city_pop_from_country_pop</th>\n",
       "    </tr>\n",
       "  </thead>\n",
       "  <tbody>\n",
       "    <tr>\n",
       "      <th>0</th>\n",
       "      <td>7/21/2017</td>\n",
       "      <td>United Kingdom</td>\n",
       "      <td>Would have appreciated a shop in the hotel th...</td>\n",
       "      <td>52</td>\n",
       "      <td>Hotel was great clean friendly staff free bre...</td>\n",
       "      <td>62</td>\n",
       "      <td>1</td>\n",
       "      <td>[' Leisure trip ', ' Couple ', ' Double Room '...</td>\n",
       "      <td>13 days</td>\n",
       "      <td>0</td>\n",
       "      <td>...</td>\n",
       "      <td>9.171102</td>\n",
       "      <td>8.1</td>\n",
       "      <td>16670</td>\n",
       "      <td>904</td>\n",
       "      <td>3</td>\n",
       "      <td>Italy</td>\n",
       "      <td>187</td>\n",
       "      <td>1399860</td>\n",
       "      <td>59257566</td>\n",
       "      <td>0.023623</td>\n",
       "    </tr>\n",
       "    <tr>\n",
       "      <th>1</th>\n",
       "      <td>12/12/2016</td>\n",
       "      <td>Belgium</td>\n",
       "      <td>No tissue paper box was present at the room</td>\n",
       "      <td>10</td>\n",
       "      <td>No Positive</td>\n",
       "      <td>0</td>\n",
       "      <td>7</td>\n",
       "      <td>[' Leisure trip ', ' Group ', ' Triple Room ',...</td>\n",
       "      <td>234 day</td>\n",
       "      <td>0</td>\n",
       "      <td>...</td>\n",
       "      <td>4.834443</td>\n",
       "      <td>8.6</td>\n",
       "      <td>5018</td>\n",
       "      <td>612</td>\n",
       "      <td>0</td>\n",
       "      <td>Netherlands</td>\n",
       "      <td>87</td>\n",
       "      <td>872757</td>\n",
       "      <td>17441500</td>\n",
       "      <td>0.050039</td>\n",
       "    </tr>\n",
       "    <tr>\n",
       "      <th>2</th>\n",
       "      <td>11/26/2015</td>\n",
       "      <td>Other</td>\n",
       "      <td>Pillows</td>\n",
       "      <td>3</td>\n",
       "      <td>Nice welcoming and service</td>\n",
       "      <td>5</td>\n",
       "      <td>15</td>\n",
       "      <td>[' Business trip ', ' Solo traveler ', ' Twin ...</td>\n",
       "      <td>616 day</td>\n",
       "      <td>0</td>\n",
       "      <td>...</td>\n",
       "      <td>2.161520</td>\n",
       "      <td>8.3</td>\n",
       "      <td>351</td>\n",
       "      <td>46</td>\n",
       "      <td>1</td>\n",
       "      <td>Spain</td>\n",
       "      <td>7</td>\n",
       "      <td>1664182</td>\n",
       "      <td>47363419</td>\n",
       "      <td>0.035136</td>\n",
       "    </tr>\n",
       "    <tr>\n",
       "      <th>3</th>\n",
       "      <td>10/17/2015</td>\n",
       "      <td>United States of America</td>\n",
       "      <td>No Negative</td>\n",
       "      <td>0</td>\n",
       "      <td>Everything including the nice upgrade The Hot...</td>\n",
       "      <td>27</td>\n",
       "      <td>9</td>\n",
       "      <td>[' Leisure trip ', ' Couple ', ' Ambassador Ju...</td>\n",
       "      <td>656 day</td>\n",
       "      <td>0</td>\n",
       "      <td>...</td>\n",
       "      <td>9.196298</td>\n",
       "      <td>9.1</td>\n",
       "      <td>1543</td>\n",
       "      <td>241</td>\n",
       "      <td>3</td>\n",
       "      <td>Italy</td>\n",
       "      <td>158</td>\n",
       "      <td>1399860</td>\n",
       "      <td>59257566</td>\n",
       "      <td>0.023623</td>\n",
       "    </tr>\n",
       "    <tr>\n",
       "      <th>4</th>\n",
       "      <td>5/16/2016</td>\n",
       "      <td>United Kingdom</td>\n",
       "      <td>No Negative</td>\n",
       "      <td>0</td>\n",
       "      <td>Lovely hotel v welcoming staff</td>\n",
       "      <td>7</td>\n",
       "      <td>2</td>\n",
       "      <td>[' Business trip ', ' Solo traveler ', ' Class...</td>\n",
       "      <td>444 day</td>\n",
       "      <td>0</td>\n",
       "      <td>...</td>\n",
       "      <td>4.888644</td>\n",
       "      <td>9.1</td>\n",
       "      <td>4687</td>\n",
       "      <td>834</td>\n",
       "      <td>0</td>\n",
       "      <td>Netherlands</td>\n",
       "      <td>52</td>\n",
       "      <td>872757</td>\n",
       "      <td>17441500</td>\n",
       "      <td>0.050039</td>\n",
       "    </tr>\n",
       "  </tbody>\n",
       "</table>\n",
       "<p>5 rows × 25 columns</p>\n",
       "</div>"
      ],
      "text/plain": [
       "  review_date        reviewer_nationality  \\\n",
       "0   7/21/2017             United Kingdom    \n",
       "1  12/12/2016                    Belgium    \n",
       "2  11/26/2015                       Other   \n",
       "3  10/17/2015   United States of America    \n",
       "4   5/16/2016             United Kingdom    \n",
       "\n",
       "                                     negative_review  \\\n",
       "0   Would have appreciated a shop in the hotel th...   \n",
       "1        No tissue paper box was present at the room   \n",
       "2                                           Pillows    \n",
       "3                                        No Negative   \n",
       "4                                        No Negative   \n",
       "\n",
       "   review_total_negative_word_counts  \\\n",
       "0                                 52   \n",
       "1                                 10   \n",
       "2                                  3   \n",
       "3                                  0   \n",
       "4                                  0   \n",
       "\n",
       "                                     positive_review  \\\n",
       "0   Hotel was great clean friendly staff free bre...   \n",
       "1                                        No Positive   \n",
       "2                         Nice welcoming and service   \n",
       "3   Everything including the nice upgrade The Hot...   \n",
       "4                    Lovely hotel v welcoming staff    \n",
       "\n",
       "   review_total_positive_word_counts  \\\n",
       "0                                 62   \n",
       "1                                  0   \n",
       "2                                  5   \n",
       "3                                 27   \n",
       "4                                  7   \n",
       "\n",
       "   total_number_of_reviews_reviewer_has_given  \\\n",
       "0                                           1   \n",
       "1                                           7   \n",
       "2                                          15   \n",
       "3                                           9   \n",
       "4                                           2   \n",
       "\n",
       "                                                tags days_since_review  \\\n",
       "0  [' Leisure trip ', ' Couple ', ' Double Room '...           13 days   \n",
       "1  [' Leisure trip ', ' Group ', ' Triple Room ',...           234 day   \n",
       "2  [' Business trip ', ' Solo traveler ', ' Twin ...           616 day   \n",
       "3  [' Leisure trip ', ' Couple ', ' Ambassador Ju...           656 day   \n",
       "4  [' Business trip ', ' Solo traveler ', ' Class...           444 day   \n",
       "\n",
       "   sample  ...       lng  average_score total_number_of_reviews  \\\n",
       "0       0  ...  9.171102            8.1                   16670   \n",
       "1       0  ...  4.834443            8.6                    5018   \n",
       "2       0  ...  2.161520            8.3                     351   \n",
       "3       0  ...  9.196298            9.1                    1543   \n",
       "4       0  ...  4.888644            9.1                    4687   \n",
       "\n",
       "  additional_number_of_scoring  city      country  zip  сity_population  \\\n",
       "0                          904     3        Italy  187          1399860   \n",
       "1                          612     0  Netherlands   87           872757   \n",
       "2                           46     1        Spain    7          1664182   \n",
       "3                          241     3        Italy  158          1399860   \n",
       "4                          834     0  Netherlands   52           872757   \n",
       "\n",
       "   country_population  %_city_pop_from_country_pop  \n",
       "0            59257566                     0.023623  \n",
       "1            17441500                     0.050039  \n",
       "2            47363419                     0.035136  \n",
       "3            59257566                     0.023623  \n",
       "4            17441500                     0.050039  \n",
       "\n",
       "[5 rows x 25 columns]"
      ]
     },
     "execution_count": 59,
     "metadata": {},
     "output_type": "execute_result"
    }
   ],
   "source": [
    "# Оставляем ТОП 15 наиболее активных национальностей\n",
    "most_active_nationalities= hotels['reviewer_nationality'].value_counts().nlargest(15).index\n",
    "hotels['reviewer_nationality'] = hotels['reviewer_nationality'].apply(lambda x:x if x in most_active_nationalities else 'Other')\n",
    "\n",
    "hotels.head(5)"
   ]
  },
  {
   "cell_type": "code",
   "execution_count": 60,
   "id": "c65358f8",
   "metadata": {
    "execution": {
     "iopub.execute_input": "2022-04-13T00:07:56.289289Z",
     "iopub.status.busy": "2022-04-13T00:07:56.288266Z",
     "iopub.status.idle": "2022-04-13T00:07:56.706792Z",
     "shell.execute_reply": "2022-04-13T00:07:56.707291Z",
     "shell.execute_reply.started": "2022-04-12T23:46:32.826849Z"
    },
    "papermill": {
     "duration": 0.71669,
     "end_time": "2022-04-13T00:07:56.707475",
     "exception": false,
     "start_time": "2022-04-13T00:07:55.990785",
     "status": "completed"
    },
    "tags": []
   },
   "outputs": [
    {
     "data": {
      "image/png": "[encoded data removed]",
      "text/plain": [
       "<Figure size 720x720 with 2 Axes>"
      ]
     },
     "metadata": {
      "needs_background": "light"
     },
     "output_type": "display_data"
    }
   ],
   "source": [
    "# Тепловая карта\n",
    "import plotly.express as px\n",
    "import seaborn as sns\n",
    "table = pd.pivot_table(hotels,\n",
    "               index='city',\n",
    "               values='average_score',\n",
    "               columns='reviewer_nationality',\n",
    "               aggfunc = 'median') \n",
    "\n",
    "heatmap = sns.heatmap(data=table, cmap='YlGnBu')"
   ]
  },
  {
   "cell_type": "code",
   "execution_count": 61,
   "id": "45119f79",
   "metadata": {
    "execution": {
     "iopub.execute_input": "2022-04-13T00:07:57.885675Z",
     "iopub.status.busy": "2022-04-13T00:07:57.884481Z",
     "iopub.status.idle": "2022-04-13T00:07:58.061423Z",
     "shell.execute_reply": "2022-04-13T00:07:58.061936Z",
     "shell.execute_reply.started": "2022-04-12T23:46:36.131613Z"
    },
    "papermill": {
     "duration": 0.47407,
     "end_time": "2022-04-13T00:07:58.062121",
     "exception": false,
     "start_time": "2022-04-13T00:07:57.588051",
     "status": "completed"
    },
    "tags": []
   },
   "outputs": [
    {
     "data": {
      "text/html": [
       "<div>\n",
       "<style scoped>\n",
       "    .dataframe tbody tr th:only-of-type {\n",
       "        vertical-align: middle;\n",
       "    }\n",
       "\n",
       "    .dataframe tbody tr th {\n",
       "        vertical-align: top;\n",
       "    }\n",
       "\n",
       "    .dataframe thead th {\n",
       "        text-align: right;\n",
       "    }\n",
       "</style>\n",
       "<table border=\"1\" class=\"dataframe\">\n",
       "  <thead>\n",
       "    <tr style=\"text-align: right;\">\n",
       "      <th></th>\n",
       "      <th>review_date</th>\n",
       "      <th>reviewer_nationality</th>\n",
       "      <th>negative_review</th>\n",
       "      <th>review_total_negative_word_counts</th>\n",
       "      <th>positive_review</th>\n",
       "      <th>review_total_positive_word_counts</th>\n",
       "      <th>total_number_of_reviews_reviewer_has_given</th>\n",
       "      <th>tags</th>\n",
       "      <th>days_since_review</th>\n",
       "      <th>sample</th>\n",
       "      <th>...</th>\n",
       "      <th>lng</th>\n",
       "      <th>average_score</th>\n",
       "      <th>total_number_of_reviews</th>\n",
       "      <th>additional_number_of_scoring</th>\n",
       "      <th>city</th>\n",
       "      <th>country</th>\n",
       "      <th>zip</th>\n",
       "      <th>сity_population</th>\n",
       "      <th>country_population</th>\n",
       "      <th>%_city_pop_from_country_pop</th>\n",
       "    </tr>\n",
       "  </thead>\n",
       "  <tbody>\n",
       "    <tr>\n",
       "      <th>0</th>\n",
       "      <td>7/21/2017</td>\n",
       "      <td>13</td>\n",
       "      <td>Would have appreciated a shop in the hotel th...</td>\n",
       "      <td>52</td>\n",
       "      <td>Hotel was great clean friendly staff free bre...</td>\n",
       "      <td>62</td>\n",
       "      <td>1</td>\n",
       "      <td>[' Leisure trip ', ' Couple ', ' Double Room '...</td>\n",
       "      <td>13 days</td>\n",
       "      <td>0</td>\n",
       "      <td>...</td>\n",
       "      <td>9.171102</td>\n",
       "      <td>8.1</td>\n",
       "      <td>16670</td>\n",
       "      <td>904</td>\n",
       "      <td>3</td>\n",
       "      <td>Italy</td>\n",
       "      <td>187</td>\n",
       "      <td>1399860</td>\n",
       "      <td>59257566</td>\n",
       "      <td>0.023623</td>\n",
       "    </tr>\n",
       "    <tr>\n",
       "      <th>1</th>\n",
       "      <td>12/12/2016</td>\n",
       "      <td>1</td>\n",
       "      <td>No tissue paper box was present at the room</td>\n",
       "      <td>10</td>\n",
       "      <td>No Positive</td>\n",
       "      <td>0</td>\n",
       "      <td>7</td>\n",
       "      <td>[' Leisure trip ', ' Group ', ' Triple Room ',...</td>\n",
       "      <td>234 day</td>\n",
       "      <td>0</td>\n",
       "      <td>...</td>\n",
       "      <td>4.834443</td>\n",
       "      <td>8.6</td>\n",
       "      <td>5018</td>\n",
       "      <td>612</td>\n",
       "      <td>0</td>\n",
       "      <td>Netherlands</td>\n",
       "      <td>87</td>\n",
       "      <td>872757</td>\n",
       "      <td>17441500</td>\n",
       "      <td>0.050039</td>\n",
       "    </tr>\n",
       "    <tr>\n",
       "      <th>2</th>\n",
       "      <td>11/26/2015</td>\n",
       "      <td>15</td>\n",
       "      <td>Pillows</td>\n",
       "      <td>3</td>\n",
       "      <td>Nice welcoming and service</td>\n",
       "      <td>5</td>\n",
       "      <td>15</td>\n",
       "      <td>[' Business trip ', ' Solo traveler ', ' Twin ...</td>\n",
       "      <td>616 day</td>\n",
       "      <td>0</td>\n",
       "      <td>...</td>\n",
       "      <td>2.161520</td>\n",
       "      <td>8.3</td>\n",
       "      <td>351</td>\n",
       "      <td>46</td>\n",
       "      <td>1</td>\n",
       "      <td>Spain</td>\n",
       "      <td>7</td>\n",
       "      <td>1664182</td>\n",
       "      <td>47363419</td>\n",
       "      <td>0.035136</td>\n",
       "    </tr>\n",
       "    <tr>\n",
       "      <th>3</th>\n",
       "      <td>10/17/2015</td>\n",
       "      <td>14</td>\n",
       "      <td>No Negative</td>\n",
       "      <td>0</td>\n",
       "      <td>Everything including the nice upgrade The Hot...</td>\n",
       "      <td>27</td>\n",
       "      <td>9</td>\n",
       "      <td>[' Leisure trip ', ' Couple ', ' Ambassador Ju...</td>\n",
       "      <td>656 day</td>\n",
       "      <td>0</td>\n",
       "      <td>...</td>\n",
       "      <td>9.196298</td>\n",
       "      <td>9.1</td>\n",
       "      <td>1543</td>\n",
       "      <td>241</td>\n",
       "      <td>3</td>\n",
       "      <td>Italy</td>\n",
       "      <td>158</td>\n",
       "      <td>1399860</td>\n",
       "      <td>59257566</td>\n",
       "      <td>0.023623</td>\n",
       "    </tr>\n",
       "    <tr>\n",
       "      <th>4</th>\n",
       "      <td>5/16/2016</td>\n",
       "      <td>13</td>\n",
       "      <td>No Negative</td>\n",
       "      <td>0</td>\n",
       "      <td>Lovely hotel v welcoming staff</td>\n",
       "      <td>7</td>\n",
       "      <td>2</td>\n",
       "      <td>[' Business trip ', ' Solo traveler ', ' Class...</td>\n",
       "      <td>444 day</td>\n",
       "      <td>0</td>\n",
       "      <td>...</td>\n",
       "      <td>4.888644</td>\n",
       "      <td>9.1</td>\n",
       "      <td>4687</td>\n",
       "      <td>834</td>\n",
       "      <td>0</td>\n",
       "      <td>Netherlands</td>\n",
       "      <td>52</td>\n",
       "      <td>872757</td>\n",
       "      <td>17441500</td>\n",
       "      <td>0.050039</td>\n",
       "    </tr>\n",
       "  </tbody>\n",
       "</table>\n",
       "<p>5 rows × 25 columns</p>\n",
       "</div>"
      ],
      "text/plain": [
       "  review_date  reviewer_nationality  \\\n",
       "0   7/21/2017                    13   \n",
       "1  12/12/2016                     1   \n",
       "2  11/26/2015                    15   \n",
       "3  10/17/2015                    14   \n",
       "4   5/16/2016                    13   \n",
       "\n",
       "                                     negative_review  \\\n",
       "0   Would have appreciated a shop in the hotel th...   \n",
       "1        No tissue paper box was present at the room   \n",
       "2                                           Pillows    \n",
       "3                                        No Negative   \n",
       "4                                        No Negative   \n",
       "\n",
       "   review_total_negative_word_counts  \\\n",
       "0                                 52   \n",
       "1                                 10   \n",
       "2                                  3   \n",
       "3                                  0   \n",
       "4                                  0   \n",
       "\n",
       "                                     positive_review  \\\n",
       "0   Hotel was great clean friendly staff free bre...   \n",
       "1                                        No Positive   \n",
       "2                         Nice welcoming and service   \n",
       "3   Everything including the nice upgrade The Hot...   \n",
       "4                    Lovely hotel v welcoming staff    \n",
       "\n",
       "   review_total_positive_word_counts  \\\n",
       "0                                 62   \n",
       "1                                  0   \n",
       "2                                  5   \n",
       "3                                 27   \n",
       "4                                  7   \n",
       "\n",
       "   total_number_of_reviews_reviewer_has_given  \\\n",
       "0                                           1   \n",
       "1                                           7   \n",
       "2                                          15   \n",
       "3                                           9   \n",
       "4                                           2   \n",
       "\n",
       "                                                tags days_since_review  \\\n",
       "0  [' Leisure trip ', ' Couple ', ' Double Room '...           13 days   \n",
       "1  [' Leisure trip ', ' Group ', ' Triple Room ',...           234 day   \n",
       "2  [' Business trip ', ' Solo traveler ', ' Twin ...           616 day   \n",
       "3  [' Leisure trip ', ' Couple ', ' Ambassador Ju...           656 day   \n",
       "4  [' Business trip ', ' Solo traveler ', ' Class...           444 day   \n",
       "\n",
       "   sample  ...       lng  average_score total_number_of_reviews  \\\n",
       "0       0  ...  9.171102            8.1                   16670   \n",
       "1       0  ...  4.834443            8.6                    5018   \n",
       "2       0  ...  2.161520            8.3                     351   \n",
       "3       0  ...  9.196298            9.1                    1543   \n",
       "4       0  ...  4.888644            9.1                    4687   \n",
       "\n",
       "  additional_number_of_scoring  city      country  zip  сity_population  \\\n",
       "0                          904     3        Italy  187          1399860   \n",
       "1                          612     0  Netherlands   87           872757   \n",
       "2                           46     1        Spain    7          1664182   \n",
       "3                          241     3        Italy  158          1399860   \n",
       "4                          834     0  Netherlands   52           872757   \n",
       "\n",
       "   country_population  %_city_pop_from_country_pop  \n",
       "0            59257566                     0.023623  \n",
       "1            17441500                     0.050039  \n",
       "2            47363419                     0.035136  \n",
       "3            59257566                     0.023623  \n",
       "4            17441500                     0.050039  \n",
       "\n",
       "[5 rows x 25 columns]"
      ]
     },
     "execution_count": 61,
     "metadata": {},
     "output_type": "execute_result"
    }
   ],
   "source": [
    "hotels['reviewer_nationality'] = LabelEncoder().fit_transform(hotels['reviewer_nationality'])\n",
    "hotels.head(5)"
   ]
  },
  {
   "cell_type": "markdown",
   "id": "a713c28e",
   "metadata": {
    "papermill": {
     "duration": 0.298053,
     "end_time": "2022-04-13T00:07:58.654904",
     "exception": false,
     "start_time": "2022-04-13T00:07:58.356851",
     "status": "completed"
    },
    "tags": []
   },
   "source": [
    "# 2.2 Работа с датами отзывов"
   ]
  },
  {
   "cell_type": "code",
   "execution_count": 62,
   "id": "cb453fcd",
   "metadata": {
    "execution": {
     "iopub.execute_input": "2022-04-13T00:08:00.050183Z",
     "iopub.status.busy": "2022-04-13T00:08:00.049490Z",
     "iopub.status.idle": "2022-04-13T00:08:01.541546Z",
     "shell.execute_reply": "2022-04-13T00:08:01.541079Z",
     "shell.execute_reply.started": "2022-04-12T23:46:42.932175Z"
    },
    "papermill": {
     "duration": 1.798933,
     "end_time": "2022-04-13T00:08:01.541706",
     "exception": false,
     "start_time": "2022-04-13T00:07:59.742773",
     "status": "completed"
    },
    "tags": []
   },
   "outputs": [
    {
     "data": {
      "text/html": [
       "<div>\n",
       "<style scoped>\n",
       "    .dataframe tbody tr th:only-of-type {\n",
       "        vertical-align: middle;\n",
       "    }\n",
       "\n",
       "    .dataframe tbody tr th {\n",
       "        vertical-align: top;\n",
       "    }\n",
       "\n",
       "    .dataframe thead th {\n",
       "        text-align: right;\n",
       "    }\n",
       "</style>\n",
       "<table border=\"1\" class=\"dataframe\">\n",
       "  <thead>\n",
       "    <tr style=\"text-align: right;\">\n",
       "      <th></th>\n",
       "      <th>reviewer_nationality</th>\n",
       "      <th>negative_review</th>\n",
       "      <th>review_total_negative_word_counts</th>\n",
       "      <th>positive_review</th>\n",
       "      <th>review_total_positive_word_counts</th>\n",
       "      <th>total_number_of_reviews_reviewer_has_given</th>\n",
       "      <th>tags</th>\n",
       "      <th>days_since_review</th>\n",
       "      <th>sample</th>\n",
       "      <th>reviewer_score</th>\n",
       "      <th>...</th>\n",
       "      <th>%_city_pop_from_country_pop</th>\n",
       "      <th>day</th>\n",
       "      <th>month</th>\n",
       "      <th>year</th>\n",
       "      <th>day_of_week</th>\n",
       "      <th>is_weekend</th>\n",
       "      <th>is_spring</th>\n",
       "      <th>is_summer</th>\n",
       "      <th>is_autumn</th>\n",
       "      <th>is_winter</th>\n",
       "    </tr>\n",
       "  </thead>\n",
       "  <tbody>\n",
       "    <tr>\n",
       "      <th>0</th>\n",
       "      <td>13</td>\n",
       "      <td>Would have appreciated a shop in the hotel th...</td>\n",
       "      <td>52</td>\n",
       "      <td>Hotel was great clean friendly staff free bre...</td>\n",
       "      <td>62</td>\n",
       "      <td>1</td>\n",
       "      <td>[' Leisure trip ', ' Couple ', ' Double Room '...</td>\n",
       "      <td>13</td>\n",
       "      <td>0</td>\n",
       "      <td>0.0</td>\n",
       "      <td>...</td>\n",
       "      <td>0.023623</td>\n",
       "      <td>21</td>\n",
       "      <td>7</td>\n",
       "      <td>2017</td>\n",
       "      <td>4</td>\n",
       "      <td>1</td>\n",
       "      <td>0</td>\n",
       "      <td>1</td>\n",
       "      <td>0</td>\n",
       "      <td>0</td>\n",
       "    </tr>\n",
       "    <tr>\n",
       "      <th>1</th>\n",
       "      <td>1</td>\n",
       "      <td>No tissue paper box was present at the room</td>\n",
       "      <td>10</td>\n",
       "      <td>No Positive</td>\n",
       "      <td>0</td>\n",
       "      <td>7</td>\n",
       "      <td>[' Leisure trip ', ' Group ', ' Triple Room ',...</td>\n",
       "      <td>234</td>\n",
       "      <td>0</td>\n",
       "      <td>0.0</td>\n",
       "      <td>...</td>\n",
       "      <td>0.050039</td>\n",
       "      <td>12</td>\n",
       "      <td>12</td>\n",
       "      <td>2016</td>\n",
       "      <td>0</td>\n",
       "      <td>1</td>\n",
       "      <td>0</td>\n",
       "      <td>0</td>\n",
       "      <td>0</td>\n",
       "      <td>1</td>\n",
       "    </tr>\n",
       "    <tr>\n",
       "      <th>2</th>\n",
       "      <td>15</td>\n",
       "      <td>Pillows</td>\n",
       "      <td>3</td>\n",
       "      <td>Nice welcoming and service</td>\n",
       "      <td>5</td>\n",
       "      <td>15</td>\n",
       "      <td>[' Business trip ', ' Solo traveler ', ' Twin ...</td>\n",
       "      <td>616</td>\n",
       "      <td>0</td>\n",
       "      <td>0.0</td>\n",
       "      <td>...</td>\n",
       "      <td>0.035136</td>\n",
       "      <td>26</td>\n",
       "      <td>11</td>\n",
       "      <td>2015</td>\n",
       "      <td>3</td>\n",
       "      <td>1</td>\n",
       "      <td>0</td>\n",
       "      <td>0</td>\n",
       "      <td>1</td>\n",
       "      <td>0</td>\n",
       "    </tr>\n",
       "    <tr>\n",
       "      <th>3</th>\n",
       "      <td>14</td>\n",
       "      <td>No Negative</td>\n",
       "      <td>0</td>\n",
       "      <td>Everything including the nice upgrade The Hot...</td>\n",
       "      <td>27</td>\n",
       "      <td>9</td>\n",
       "      <td>[' Leisure trip ', ' Couple ', ' Ambassador Ju...</td>\n",
       "      <td>656</td>\n",
       "      <td>0</td>\n",
       "      <td>0.0</td>\n",
       "      <td>...</td>\n",
       "      <td>0.023623</td>\n",
       "      <td>17</td>\n",
       "      <td>10</td>\n",
       "      <td>2015</td>\n",
       "      <td>5</td>\n",
       "      <td>1</td>\n",
       "      <td>0</td>\n",
       "      <td>0</td>\n",
       "      <td>1</td>\n",
       "      <td>0</td>\n",
       "    </tr>\n",
       "    <tr>\n",
       "      <th>4</th>\n",
       "      <td>13</td>\n",
       "      <td>No Negative</td>\n",
       "      <td>0</td>\n",
       "      <td>Lovely hotel v welcoming staff</td>\n",
       "      <td>7</td>\n",
       "      <td>2</td>\n",
       "      <td>[' Business trip ', ' Solo traveler ', ' Class...</td>\n",
       "      <td>444</td>\n",
       "      <td>0</td>\n",
       "      <td>0.0</td>\n",
       "      <td>...</td>\n",
       "      <td>0.050039</td>\n",
       "      <td>16</td>\n",
       "      <td>5</td>\n",
       "      <td>2016</td>\n",
       "      <td>0</td>\n",
       "      <td>1</td>\n",
       "      <td>1</td>\n",
       "      <td>0</td>\n",
       "      <td>0</td>\n",
       "      <td>0</td>\n",
       "    </tr>\n",
       "  </tbody>\n",
       "</table>\n",
       "<p>5 rows × 33 columns</p>\n",
       "</div>"
      ],
      "text/plain": [
       "   reviewer_nationality                                    negative_review  \\\n",
       "0                    13   Would have appreciated a shop in the hotel th...   \n",
       "1                     1        No tissue paper box was present at the room   \n",
       "2                    15                                           Pillows    \n",
       "3                    14                                        No Negative   \n",
       "4                    13                                        No Negative   \n",
       "\n",
       "   review_total_negative_word_counts  \\\n",
       "0                                 52   \n",
       "1                                 10   \n",
       "2                                  3   \n",
       "3                                  0   \n",
       "4                                  0   \n",
       "\n",
       "                                     positive_review  \\\n",
       "0   Hotel was great clean friendly staff free bre...   \n",
       "1                                        No Positive   \n",
       "2                         Nice welcoming and service   \n",
       "3   Everything including the nice upgrade The Hot...   \n",
       "4                    Lovely hotel v welcoming staff    \n",
       "\n",
       "   review_total_positive_word_counts  \\\n",
       "0                                 62   \n",
       "1                                  0   \n",
       "2                                  5   \n",
       "3                                 27   \n",
       "4                                  7   \n",
       "\n",
       "   total_number_of_reviews_reviewer_has_given  \\\n",
       "0                                           1   \n",
       "1                                           7   \n",
       "2                                          15   \n",
       "3                                           9   \n",
       "4                                           2   \n",
       "\n",
       "                                                tags days_since_review  \\\n",
       "0  [' Leisure trip ', ' Couple ', ' Double Room '...                13   \n",
       "1  [' Leisure trip ', ' Group ', ' Triple Room ',...               234   \n",
       "2  [' Business trip ', ' Solo traveler ', ' Twin ...               616   \n",
       "3  [' Leisure trip ', ' Couple ', ' Ambassador Ju...               656   \n",
       "4  [' Business trip ', ' Solo traveler ', ' Class...               444   \n",
       "\n",
       "   sample  reviewer_score  ...  %_city_pop_from_country_pop day month  year  \\\n",
       "0       0             0.0  ...                     0.023623  21     7  2017   \n",
       "1       0             0.0  ...                     0.050039  12    12  2016   \n",
       "2       0             0.0  ...                     0.035136  26    11  2015   \n",
       "3       0             0.0  ...                     0.023623  17    10  2015   \n",
       "4       0             0.0  ...                     0.050039  16     5  2016   \n",
       "\n",
       "   day_of_week  is_weekend  is_spring  is_summer  is_autumn is_winter  \n",
       "0            4           1          0          1          0         0  \n",
       "1            0           1          0          0          0         1  \n",
       "2            3           1          0          0          1         0  \n",
       "3            5           1          0          0          1         0  \n",
       "4            0           1          1          0          0         0  \n",
       "\n",
       "[5 rows x 33 columns]"
      ]
     },
     "execution_count": 62,
     "metadata": {},
     "output_type": "execute_result"
    }
   ],
   "source": [
    "# Работаем с датой отзыва\n",
    "hotels['review_date'] = pd.to_datetime(hotels['review_date'])\n",
    "# Разделяем один признак на несколько, чтобы проанализировать, зависит ли отзыв от месяца/времени года или дня недели\n",
    "hotels['day'] = hotels['review_date'].dt.day.astype(int)\n",
    "hotels['month'] = hotels['review_date'].dt.month.astype(int)\n",
    "hotels['year'] = hotels['review_date'].dt.year.astype(int)\n",
    "\n",
    "hotels['day_of_week'] = hotels['review_date'].dt.dayofweek.astype(int)\n",
    "hotels['is_weekend'] = hotels['day'].apply(lambda x: 1 if x>5 else 0) \n",
    "\n",
    "hotels['is_spring'] = hotels['month'].apply(lambda x: 1 if x in [3,4,5] else 0)\n",
    "hotels['is_summer'] = hotels['month'].apply(lambda x: 1 if x in [6,7,8] else 0)\n",
    "hotels['is_autumn'] = hotels['month'].apply(lambda x: 1 if x in [9,10,11] else 0)\n",
    "hotels['is_winter'] = hotels['month'].apply(lambda x: 1 if x in [12,1,2] else 0)\n",
    "\n",
    "hotels.drop(['review_date'], inplace=True, axis=1)\n",
    "\n",
    "def since_review_func(x):\n",
    "    string = str(x)\n",
    "    return string.split()[0]\n",
    "hotels['days_since_review'] = hotels['days_since_review'].apply(since_review_func)\n",
    "\n",
    "hotels.head(5)"
   ]
  },
  {
   "cell_type": "code",
   "execution_count": 63,
   "id": "f9bed0e2",
   "metadata": {
    "execution": {
     "iopub.execute_input": "2022-04-13T00:08:02.145841Z",
     "iopub.status.busy": "2022-04-13T00:08:02.144890Z",
     "iopub.status.idle": "2022-04-13T00:08:02.262981Z",
     "shell.execute_reply": "2022-04-13T00:08:02.263389Z",
     "shell.execute_reply.started": "2022-04-12T23:46:48.248246Z"
    },
    "papermill": {
     "duration": 0.423125,
     "end_time": "2022-04-13T00:08:02.263572",
     "exception": false,
     "start_time": "2022-04-13T00:08:01.840447",
     "status": "completed"
    },
    "tags": []
   },
   "outputs": [
    {
     "data": {
      "application/vnd.plotly.v1+json": {
       "config": {
        "plotlyServerURL": "https://plot.ly"
       },
       "data": [
        {
         "coloraxis": "coloraxis",
         "hovertemplate": "day: %{x}<br>month: %{y}<br>color: %{z}<extra></extra>",
         "name": "0",
         "type": "heatmap",
         "x": [
          1,
          2,
          3,
          4,
          5,
          6,
          7,
          8,
          9,
          10,
          11,
          12,
          13,
          14,
          15,
          16,
          17,
          18,
          19,
          20,
          21,
          22,
          23,
          24,
          25,
          26,
          27,
          28,
          29,
          30,
          31
         ],
         "xaxis": "x",
         "y": [
          1,
          2,
          3,
          4,
          5,
          6,
          7,
          8,
          9,
          10,
          11,
          12
         ],
         "yaxis": "y",
         "z": [
          [
           7.9,
           7.9,
           7.9,
           7.9,
           8.3,
           7.9,
           8.3,
           7.9,
           8.3,
           8.3,
           8.3,
           8.3,
           8.3,
           8.3,
           7.9,
           8.3,
           8.3,
           8.3,
           8.3,
           7.9,
           8.3,
           7.9,
           7.95,
           8.3,
           7.9,
           8.3,
           7.9,
           7.9,
           8.3,
           8.3,
           8.3
          ],
          [
           7.9,
           8.3,
           8.3,
           8.3,
           8.3,
           7.9,
           8.3,
           8.3,
           8.3,
           8.3,
           8.3,
           8.3,
           8.3,
           8.3,
           7.9,
           8.3,
           7.9,
           8.3,
           8.3,
           8.3,
           8.3,
           8.3,
           8.3,
           7.9,
           8.3,
           7.9,
           8.3,
           7.9,
           7.9,
           null,
           null
          ],
          [
           8.3,
           7.9,
           7.9,
           7.9,
           7.9,
           8.3,
           7.9,
           8.3,
           7.95,
           8.3,
           7.9,
           7.9,
           8.3,
           8.3,
           8.3,
           8.3,
           8.3,
           7.9,
           7.9,
           7.9,
           8.3,
           8.3,
           7.9,
           7.9,
           7.9,
           8.3,
           8.3,
           7.9,
           8.3,
           7.9,
           7.9
          ],
          [
           7.9,
           8.3,
           8.3,
           8.3,
           7.9,
           7.9,
           7.9,
           7.9,
           8.3,
           7.9,
           7.9,
           7.9,
           7.9,
           7.9,
           7.9,
           8.3,
           8.3,
           7.9,
           7.9,
           7.9,
           7.9,
           7.9,
           8.3,
           7.9,
           8.3,
           8.3,
           8.3,
           7.9,
           7.9,
           7.9,
           null
          ],
          [
           7.9,
           8.3,
           7.95,
           8.3,
           7.9,
           7.9,
           7.9,
           7.9,
           7.9,
           8.3,
           7.9,
           7.9,
           7.9,
           8.3,
           7.9,
           8.3,
           7.9,
           7.9,
           7.9,
           7.9,
           7.9,
           7.9,
           8.3,
           7.9,
           8.3,
           7.9,
           7.9,
           7.9,
           7.9,
           7.9,
           7.9
          ],
          [
           7.9,
           7.9,
           8.3,
           8.3,
           7.9,
           7.9,
           8.3,
           7.9,
           7.9,
           7.9,
           7.9,
           8.3,
           7.95,
           8.3,
           8.3,
           7.9,
           7.9,
           7.9,
           7.9,
           7.9,
           7.9,
           7.9,
           7.9,
           8.3,
           7.9,
           8.3,
           7.9,
           7.9,
           7.9,
           7.9,
           null
          ],
          [
           7.9,
           7.9,
           7.9,
           7.9,
           7.9,
           7.9,
           7.9,
           7.9,
           7.9,
           7.9,
           7.9,
           7.9,
           7.9,
           7.9,
           7.9,
           7.9,
           7.9,
           7.9,
           7.9,
           7.9,
           7.9,
           7.9,
           7.9,
           8.3,
           7.9,
           7.9,
           7.9,
           8.3,
           7.9,
           8.3,
           7.9
          ],
          [
           8.3,
           7.9,
           7.9,
           7.9,
           7.9,
           7.9,
           7.9,
           7.9,
           7.9,
           7.9,
           8.3,
           7.9,
           7.9,
           8.3,
           7.9,
           7.9,
           7.9,
           7.9,
           7.9,
           7.9,
           7.9,
           8,
           7.9,
           7.9,
           7.9,
           7.9,
           7.9,
           7.9,
           7.9,
           7.9,
           8.3
          ],
          [
           8.3,
           8.3,
           8,
           7.9,
           8.3,
           7.95,
           7.9,
           7.9,
           7.9,
           7.5,
           7.9,
           7.9,
           7.5,
           7.9,
           7.9,
           7.9,
           7.5,
           7.9,
           7.9,
           7.5,
           7.9,
           7.9,
           7.9,
           7.5,
           7.5,
           7.9,
           7.9,
           7.5,
           7.5,
           7.9,
           null
          ],
          [
           7.5,
           7.9,
           7.5,
           7.9,
           7.9,
           7.9,
           7.5,
           7.5,
           7.9,
           7.9,
           7.9,
           7.9,
           7.9,
           7.9,
           7.9,
           7.9,
           7.9,
           7.9,
           7.5,
           7.9,
           7.9,
           7.5,
           7.9,
           7.9,
           7.9,
           7.9,
           7.9,
           7.9,
           7.5,
           8.3,
           7.9
          ],
          [
           7.9,
           7.9,
           7.9,
           7.9,
           7.9,
           7.9,
           7.9,
           7.9,
           7.9,
           7.9,
           7.9,
           7.9,
           7.9,
           7.9,
           7.9,
           7.9,
           7.9,
           8.3,
           7.9,
           7.9,
           7.9,
           7.9,
           7.9,
           8,
           7.9,
           7.9,
           8.3,
           7.9,
           7.9,
           7.9,
           null
          ],
          [
           7.9,
           7.9,
           8.3,
           7.9,
           7.5,
           7.9,
           7.9,
           8.3,
           7.9,
           7.5,
           7.9,
           7.9,
           7.9,
           7.9,
           7.9,
           7.9,
           7.9,
           7.9,
           7.9,
           8,
           8.3,
           8.3,
           8.3,
           8.3,
           7.9,
           8.3,
           8.3,
           7.9,
           8.3,
           8.3,
           7.9
          ]
         ]
        }
       ],
       "layout": {
        "coloraxis": {
         "colorscale": [
          [
           0,
           "#0d0887"
          ],
          [
           0.1111111111111111,
           "#46039f"
          ],
          [
           0.2222222222222222,
           "#7201a8"
          ],
          [
           0.3333333333333333,
           "#9c179e"
          ],
          [
           0.4444444444444444,
           "#bd3786"
          ],
          [
           0.5555555555555556,
           "#d8576b"
          ],
          [
           0.6666666666666666,
           "#ed7953"
          ],
          [
           0.7777777777777778,
           "#fb9f3a"
          ],
          [
           0.8888888888888888,
           "#fdca26"
          ],
          [
           1,
           "#f0f921"
          ]
         ]
        },
        "margin": {
         "t": 60
        },
        "template": {
         "data": {
          "bar": [
           {
            "error_x": {
             "color": "#2a3f5f"
            },
            "error_y": {
             "color": "#2a3f5f"
            },
            "marker": {
             "line": {
              "color": "#E5ECF6",
              "width": 0.5
             },
             "pattern": {
              "fillmode": "overlay",
              "size": 10,
              "solidity": 0.2
             }
            },
            "type": "bar"
           }
          ],
          "barpolar": [
           {
            "marker": {
             "line": {
              "color": "#E5ECF6",
              "width": 0.5
             },
             "pattern": {
              "fillmode": "overlay",
              "size": 10,
              "solidity": 0.2
             }
            },
            "type": "barpolar"
           }
          ],
          "carpet": [
           {
            "aaxis": {
             "endlinecolor": "#2a3f5f",
             "gridcolor": "white",
             "linecolor": "white",
             "minorgridcolor": "white",
             "startlinecolor": "#2a3f5f"
            },
            "baxis": {
             "endlinecolor": "#2a3f5f",
             "gridcolor": "white",
             "linecolor": "white",
             "minorgridcolor": "white",
             "startlinecolor": "#2a3f5f"
            },
            "type": "carpet"
           }
          ],
          "choropleth": [
           {
            "colorbar": {
             "outlinewidth": 0,
             "ticks": ""
            },
            "type": "choropleth"
           }
          ],
          "contour": [
           {
            "colorbar": {
             "outlinewidth": 0,
             "ticks": ""
            },
            "colorscale": [
             [
              0,
              "#0d0887"
             ],
             [
              0.1111111111111111,
              "#46039f"
             ],
             [
              0.2222222222222222,
              "#7201a8"
             ],
             [
              0.3333333333333333,
              "#9c179e"
             ],
             [
              0.4444444444444444,
              "#bd3786"
             ],
             [
              0.5555555555555556,
              "#d8576b"
             ],
             [
              0.6666666666666666,
              "#ed7953"
             ],
             [
              0.7777777777777778,
              "#fb9f3a"
             ],
             [
              0.8888888888888888,
              "#fdca26"
             ],
             [
              1,
              "#f0f921"
             ]
            ],
            "type": "contour"
           }
          ],
          "contourcarpet": [
           {
            "colorbar": {
             "outlinewidth": 0,
             "ticks": ""
            },
            "type": "contourcarpet"
           }
          ],
          "heatmap": [
           {
            "colorbar": {
             "outlinewidth": 0,
             "ticks": ""
            },
            "colorscale": [
             [
              0,
              "#0d0887"
             ],
             [
              0.1111111111111111,
              "#46039f"
             ],
             [
              0.2222222222222222,
              "#7201a8"
             ],
             [
              0.3333333333333333,
              "#9c179e"
             ],
             [
              0.4444444444444444,
              "#bd3786"
             ],
             [
              0.5555555555555556,
              "#d8576b"
             ],
             [
              0.6666666666666666,
              "#ed7953"
             ],
             [
              0.7777777777777778,
              "#fb9f3a"
             ],
             [
              0.8888888888888888,
              "#fdca26"
             ],
             [
              1,
              "#f0f921"
             ]
            ],
            "type": "heatmap"
           }
          ],
          "heatmapgl": [
           {
            "colorbar": {
             "outlinewidth": 0,
             "ticks": ""
            },
            "colorscale": [
             [
              0,
              "#0d0887"
             ],
             [
              0.1111111111111111,
              "#46039f"
             ],
             [
              0.2222222222222222,
              "#7201a8"
             ],
             [
              0.3333333333333333,
              "#9c179e"
             ],
             [
              0.4444444444444444,
              "#bd3786"
             ],
             [
              0.5555555555555556,
              "#d8576b"
             ],
             [
              0.6666666666666666,
              "#ed7953"
             ],
             [
              0.7777777777777778,
              "#fb9f3a"
             ],
             [
              0.8888888888888888,
              "#fdca26"
             ],
             [
              1,
              "#f0f921"
             ]
            ],
            "type": "heatmapgl"
           }
          ],
          "histogram": [
           {
            "marker": {
             "pattern": {
              "fillmode": "overlay",
              "size": 10,
              "solidity": 0.2
             }
            },
            "type": "histogram"
           }
          ],
          "histogram2d": [
           {
            "colorbar": {
             "outlinewidth": 0,
             "ticks": ""
            },
            "colorscale": [
             [
              0,
              "#0d0887"
             ],
             [
              0.1111111111111111,
              "#46039f"
             ],
             [
              0.2222222222222222,
              "#7201a8"
             ],
             [
              0.3333333333333333,
              "#9c179e"
             ],
             [
              0.4444444444444444,
              "#bd3786"
             ],
             [
              0.5555555555555556,
              "#d8576b"
             ],
             [
              0.6666666666666666,
              "#ed7953"
             ],
             [
              0.7777777777777778,
              "#fb9f3a"
             ],
             [
              0.8888888888888888,
              "#fdca26"
             ],
             [
              1,
              "#f0f921"
             ]
            ],
            "type": "histogram2d"
           }
          ],
          "histogram2dcontour": [
           {
            "colorbar": {
             "outlinewidth": 0,
             "ticks": ""
            },
            "colorscale": [
             [
              0,
              "#0d0887"
             ],
             [
              0.1111111111111111,
              "#46039f"
             ],
             [
              0.2222222222222222,
              "#7201a8"
             ],
             [
              0.3333333333333333,
              "#9c179e"
             ],
             [
              0.4444444444444444,
              "#bd3786"
             ],
             [
              0.5555555555555556,
              "#d8576b"
             ],
             [
              0.6666666666666666,
              "#ed7953"
             ],
             [
              0.7777777777777778,
              "#fb9f3a"
             ],
             [
              0.8888888888888888,
              "#fdca26"
             ],
             [
              1,
              "#f0f921"
             ]
            ],
            "type": "histogram2dcontour"
           }
          ],
          "mesh3d": [
           {
            "colorbar": {
             "outlinewidth": 0,
             "ticks": ""
            },
            "type": "mesh3d"
           }
          ],
          "parcoords": [
           {
            "line": {
             "colorbar": {
              "outlinewidth": 0,
              "ticks": ""
             }
            },
            "type": "parcoords"
           }
          ],
          "pie": [
           {
            "automargin": true,
            "type": "pie"
           }
          ],
          "scatter": [
           {
            "marker": {
             "colorbar": {
              "outlinewidth": 0,
              "ticks": ""
             }
            },
            "type": "scatter"
           }
          ],
          "scatter3d": [
           {
            "line": {
             "colorbar": {
              "outlinewidth": 0,
              "ticks": ""
             }
            },
            "marker": {
             "colorbar": {
              "outlinewidth": 0,
              "ticks": ""
             }
            },
            "type": "scatter3d"
           }
          ],
          "scattercarpet": [
           {
            "marker": {
             "colorbar": {
              "outlinewidth": 0,
              "ticks": ""
             }
            },
            "type": "scattercarpet"
           }
          ],
          "scattergeo": [
           {
            "marker": {
             "colorbar": {
              "outlinewidth": 0,
              "ticks": ""
             }
            },
            "type": "scattergeo"
           }
          ],
          "scattergl": [
           {
            "marker": {
             "colorbar": {
              "outlinewidth": 0,
              "ticks": ""
             }
            },
            "type": "scattergl"
           }
          ],
          "scattermapbox": [
           {
            "marker": {
             "colorbar": {
              "outlinewidth": 0,
              "ticks": ""
             }
            },
            "type": "scattermapbox"
           }
          ],
          "scatterpolar": [
           {
            "marker": {
             "colorbar": {
              "outlinewidth": 0,
              "ticks": ""
             }
            },
            "type": "scatterpolar"
           }
          ],
          "scatterpolargl": [
           {
            "marker": {
             "colorbar": {
              "outlinewidth": 0,
              "ticks": ""
             }
            },
            "type": "scatterpolargl"
           }
          ],
          "scatterternary": [
           {
            "marker": {
             "colorbar": {
              "outlinewidth": 0,
              "ticks": ""
             }
            },
            "type": "scatterternary"
           }
          ],
          "surface": [
           {
            "colorbar": {
             "outlinewidth": 0,
             "ticks": ""
            },
            "colorscale": [
             [
              0,
              "#0d0887"
             ],
             [
              0.1111111111111111,
              "#46039f"
             ],
             [
              0.2222222222222222,
              "#7201a8"
             ],
             [
              0.3333333333333333,
              "#9c179e"
             ],
             [
              0.4444444444444444,
              "#bd3786"
             ],
             [
              0.5555555555555556,
              "#d8576b"
             ],
             [
              0.6666666666666666,
              "#ed7953"
             ],
             [
              0.7777777777777778,
              "#fb9f3a"
             ],
             [
              0.8888888888888888,
              "#fdca26"
             ],
             [
              1,
              "#f0f921"
             ]
            ],
            "type": "surface"
           }
          ],
          "table": [
           {
            "cells": {
             "fill": {
              "color": "#EBF0F8"
             },
             "line": {
              "color": "white"
             }
            },
            "header": {
             "fill": {
              "color": "#C8D4E3"
             },
             "line": {
              "color": "white"
             }
            },
            "type": "table"
           }
          ]
         },
         "layout": {
          "annotationdefaults": {
           "arrowcolor": "#2a3f5f",
           "arrowhead": 0,
           "arrowwidth": 1
          },
          "autotypenumbers": "strict",
          "coloraxis": {
           "colorbar": {
            "outlinewidth": 0,
            "ticks": ""
           }
          },
          "colorscale": {
           "diverging": [
            [
             0,
             "#8e0152"
            ],
            [
             0.1,
             "#c51b7d"
            ],
            [
             0.2,
             "#de77ae"
            ],
            [
             0.3,
             "#f1b6da"
            ],
            [
             0.4,
             "#fde0ef"
            ],
            [
             0.5,
             "#f7f7f7"
            ],
            [
             0.6,
             "#e6f5d0"
            ],
            [
             0.7,
             "#b8e186"
            ],
            [
             0.8,
             "#7fbc41"
            ],
            [
             0.9,
             "#4d9221"
            ],
            [
             1,
             "#276419"
            ]
           ],
           "sequential": [
            [
             0,
             "#0d0887"
            ],
            [
             0.1111111111111111,
             "#46039f"
            ],
            [
             0.2222222222222222,
             "#7201a8"
            ],
            [
             0.3333333333333333,
             "#9c179e"
            ],
            [
             0.4444444444444444,
             "#bd3786"
            ],
            [
             0.5555555555555556,
             "#d8576b"
            ],
            [
             0.6666666666666666,
             "#ed7953"
            ],
            [
             0.7777777777777778,
             "#fb9f3a"
            ],
            [
             0.8888888888888888,
             "#fdca26"
            ],
            [
             1,
             "#f0f921"
            ]
           ],
           "sequentialminus": [
            [
             0,
             "#0d0887"
            ],
            [
             0.1111111111111111,
             "#46039f"
            ],
            [
             0.2222222222222222,
             "#7201a8"
            ],
            [
             0.3333333333333333,
             "#9c179e"
            ],
            [
             0.4444444444444444,
             "#bd3786"
            ],
            [
             0.5555555555555556,
             "#d8576b"
            ],
            [
             0.6666666666666666,
             "#ed7953"
            ],
            [
             0.7777777777777778,
             "#fb9f3a"
            ],
            [
             0.8888888888888888,
             "#fdca26"
            ],
            [
             1,
             "#f0f921"
            ]
           ]
          },
          "colorway": [
           "#636efa",
           "#EF553B",
           "#00cc96",
           "#ab63fa",
           "#FFA15A",
           "#19d3f3",
           "#FF6692",
           "#B6E880",
           "#FF97FF",
           "#FECB52"
          ],
          "font": {
           "color": "#2a3f5f"
          },
          "geo": {
           "bgcolor": "white",
           "lakecolor": "white",
           "landcolor": "#E5ECF6",
           "showlakes": true,
           "showland": true,
           "subunitcolor": "white"
          },
          "hoverlabel": {
           "align": "left"
          },
          "hovermode": "closest",
          "mapbox": {
           "style": "light"
          },
          "paper_bgcolor": "white",
          "plot_bgcolor": "#E5ECF6",
          "polar": {
           "angularaxis": {
            "gridcolor": "white",
            "linecolor": "white",
            "ticks": ""
           },
           "bgcolor": "#E5ECF6",
           "radialaxis": {
            "gridcolor": "white",
            "linecolor": "white",
            "ticks": ""
           }
          },
          "scene": {
           "xaxis": {
            "backgroundcolor": "#E5ECF6",
            "gridcolor": "white",
            "gridwidth": 2,
            "linecolor": "white",
            "showbackground": true,
            "ticks": "",
            "zerolinecolor": "white"
           },
           "yaxis": {
            "backgroundcolor": "#E5ECF6",
            "gridcolor": "white",
            "gridwidth": 2,
            "linecolor": "white",
            "showbackground": true,
            "ticks": "",
            "zerolinecolor": "white"
           },
           "zaxis": {
            "backgroundcolor": "#E5ECF6",
            "gridcolor": "white",
            "gridwidth": 2,
            "linecolor": "white",
            "showbackground": true,
            "ticks": "",
            "zerolinecolor": "white"
           }
          },
          "shapedefaults": {
           "line": {
            "color": "#2a3f5f"
           }
          },
          "ternary": {
           "aaxis": {
            "gridcolor": "white",
            "linecolor": "white",
            "ticks": ""
           },
           "baxis": {
            "gridcolor": "white",
            "linecolor": "white",
            "ticks": ""
           },
           "bgcolor": "#E5ECF6",
           "caxis": {
            "gridcolor": "white",
            "linecolor": "white",
            "ticks": ""
           }
          },
          "title": {
           "x": 0.05
          },
          "xaxis": {
           "automargin": true,
           "gridcolor": "white",
           "linecolor": "white",
           "ticks": "",
           "title": {
            "standoff": 15
           },
           "zerolinecolor": "white",
           "zerolinewidth": 2
          },
          "yaxis": {
           "automargin": true,
           "gridcolor": "white",
           "linecolor": "white",
           "ticks": "",
           "title": {
            "standoff": 15
           },
           "zerolinecolor": "white",
           "zerolinewidth": 2
          }
         }
        },
        "xaxis": {
         "anchor": "y",
         "constrain": "domain",
         "domain": [
          0,
          1
         ],
         "scaleanchor": "y",
         "title": {
          "text": "day"
         }
        },
        "yaxis": {
         "anchor": "x",
         "autorange": "reversed",
         "constrain": "domain",
         "domain": [
          0,
          1
         ],
         "title": {
          "text": "month"
         }
        }
       }
      }
     },
     "metadata": {},
     "output_type": "display_data"
    }
   ],
   "source": [
    "calendar = pd.pivot_table(\n",
    "    data=hotels,\n",
    "    index='month',\n",
    "    values='reviewer_score',\n",
    "    columns='day',\n",
    "    aggfunc='median')\n",
    "\n",
    "fig = px.imshow(calendar)\n",
    "fig.show()\n"
   ]
  },
  {
   "cell_type": "markdown",
   "id": "55e1fe70",
   "metadata": {
    "papermill": {
     "duration": 0.294367,
     "end_time": "2022-04-13T00:08:02.851393",
     "exception": false,
     "start_time": "2022-04-13T00:08:02.557026",
     "status": "completed"
    },
    "tags": []
   },
   "source": [
    "На диаграмме видно, что зимой и весной оценки выше (1-3 месяцы), а вот осенью оценки ниже (10-11 месяцы)"
   ]
  },
  {
   "cell_type": "markdown",
   "id": "d0aa9e86",
   "metadata": {
    "papermill": {
     "duration": 0.296536,
     "end_time": "2022-04-13T00:08:03.469814",
     "exception": false,
     "start_time": "2022-04-13T00:08:03.173278",
     "status": "completed"
    },
    "tags": []
   },
   "source": [
    "# 2.3 Работа с отзывами"
   ]
  },
  {
   "cell_type": "markdown",
   "id": "e1e7725f",
   "metadata": {
    "papermill": {
     "duration": 0.299538,
     "end_time": "2022-04-13T00:08:04.066115",
     "exception": false,
     "start_time": "2022-04-13T00:08:03.766577",
     "status": "completed"
    },
    "tags": []
   },
   "source": [
    "Из нечисловых данных остались только три признака, все они относятся непосредственно к обзору на отель."
   ]
  },
  {
   "cell_type": "code",
   "execution_count": 64,
   "id": "53497274",
   "metadata": {
    "execution": {
     "iopub.execute_input": "2022-04-13T00:08:04.668731Z",
     "iopub.status.busy": "2022-04-13T00:08:04.667768Z",
     "iopub.status.idle": "2022-04-13T00:08:04.688218Z",
     "shell.execute_reply": "2022-04-13T00:08:04.688806Z",
     "shell.execute_reply.started": "2022-04-12T23:46:52.154942Z"
    },
    "papermill": {
     "duration": 0.324722,
     "end_time": "2022-04-13T00:08:04.688978",
     "exception": false,
     "start_time": "2022-04-13T00:08:04.364256",
     "status": "completed"
    },
    "tags": []
   },
   "outputs": [
    {
     "data": {
      "text/html": [
       "<div>\n",
       "<style scoped>\n",
       "    .dataframe tbody tr th:only-of-type {\n",
       "        vertical-align: middle;\n",
       "    }\n",
       "\n",
       "    .dataframe tbody tr th {\n",
       "        vertical-align: top;\n",
       "    }\n",
       "\n",
       "    .dataframe thead th {\n",
       "        text-align: right;\n",
       "    }\n",
       "</style>\n",
       "<table border=\"1\" class=\"dataframe\">\n",
       "  <thead>\n",
       "    <tr style=\"text-align: right;\">\n",
       "      <th></th>\n",
       "      <th>reviewer_nationality</th>\n",
       "      <th>negative_review</th>\n",
       "      <th>review_total_negative_word_counts</th>\n",
       "      <th>positive_review</th>\n",
       "      <th>review_total_positive_word_counts</th>\n",
       "      <th>total_number_of_reviews_reviewer_has_given</th>\n",
       "      <th>tags</th>\n",
       "      <th>days_since_review</th>\n",
       "      <th>sample</th>\n",
       "      <th>reviewer_score</th>\n",
       "      <th>...</th>\n",
       "      <th>%_city_pop_from_country_pop</th>\n",
       "      <th>day</th>\n",
       "      <th>month</th>\n",
       "      <th>year</th>\n",
       "      <th>day_of_week</th>\n",
       "      <th>is_weekend</th>\n",
       "      <th>is_spring</th>\n",
       "      <th>is_summer</th>\n",
       "      <th>is_autumn</th>\n",
       "      <th>is_winter</th>\n",
       "    </tr>\n",
       "  </thead>\n",
       "  <tbody>\n",
       "    <tr>\n",
       "      <th>0</th>\n",
       "      <td>13</td>\n",
       "      <td>Would have appreciated a shop in the hotel th...</td>\n",
       "      <td>52</td>\n",
       "      <td>Hotel was great clean friendly staff free bre...</td>\n",
       "      <td>62</td>\n",
       "      <td>1</td>\n",
       "      <td>[' Leisure trip ', ' Couple ', ' Double Room '...</td>\n",
       "      <td>13</td>\n",
       "      <td>0</td>\n",
       "      <td>0.0</td>\n",
       "      <td>...</td>\n",
       "      <td>0.023623</td>\n",
       "      <td>21</td>\n",
       "      <td>7</td>\n",
       "      <td>2017</td>\n",
       "      <td>4</td>\n",
       "      <td>1</td>\n",
       "      <td>0</td>\n",
       "      <td>1</td>\n",
       "      <td>0</td>\n",
       "      <td>0</td>\n",
       "    </tr>\n",
       "    <tr>\n",
       "      <th>1</th>\n",
       "      <td>1</td>\n",
       "      <td>No tissue paper box was present at the room</td>\n",
       "      <td>10</td>\n",
       "      <td>No Positive</td>\n",
       "      <td>0</td>\n",
       "      <td>7</td>\n",
       "      <td>[' Leisure trip ', ' Group ', ' Triple Room ',...</td>\n",
       "      <td>234</td>\n",
       "      <td>0</td>\n",
       "      <td>0.0</td>\n",
       "      <td>...</td>\n",
       "      <td>0.050039</td>\n",
       "      <td>12</td>\n",
       "      <td>12</td>\n",
       "      <td>2016</td>\n",
       "      <td>0</td>\n",
       "      <td>1</td>\n",
       "      <td>0</td>\n",
       "      <td>0</td>\n",
       "      <td>0</td>\n",
       "      <td>1</td>\n",
       "    </tr>\n",
       "    <tr>\n",
       "      <th>2</th>\n",
       "      <td>15</td>\n",
       "      <td>Pillows</td>\n",
       "      <td>3</td>\n",
       "      <td>Nice welcoming and service</td>\n",
       "      <td>5</td>\n",
       "      <td>15</td>\n",
       "      <td>[' Business trip ', ' Solo traveler ', ' Twin ...</td>\n",
       "      <td>616</td>\n",
       "      <td>0</td>\n",
       "      <td>0.0</td>\n",
       "      <td>...</td>\n",
       "      <td>0.035136</td>\n",
       "      <td>26</td>\n",
       "      <td>11</td>\n",
       "      <td>2015</td>\n",
       "      <td>3</td>\n",
       "      <td>1</td>\n",
       "      <td>0</td>\n",
       "      <td>0</td>\n",
       "      <td>1</td>\n",
       "      <td>0</td>\n",
       "    </tr>\n",
       "    <tr>\n",
       "      <th>3</th>\n",
       "      <td>14</td>\n",
       "      <td>No Negative</td>\n",
       "      <td>0</td>\n",
       "      <td>Everything including the nice upgrade The Hot...</td>\n",
       "      <td>27</td>\n",
       "      <td>9</td>\n",
       "      <td>[' Leisure trip ', ' Couple ', ' Ambassador Ju...</td>\n",
       "      <td>656</td>\n",
       "      <td>0</td>\n",
       "      <td>0.0</td>\n",
       "      <td>...</td>\n",
       "      <td>0.023623</td>\n",
       "      <td>17</td>\n",
       "      <td>10</td>\n",
       "      <td>2015</td>\n",
       "      <td>5</td>\n",
       "      <td>1</td>\n",
       "      <td>0</td>\n",
       "      <td>0</td>\n",
       "      <td>1</td>\n",
       "      <td>0</td>\n",
       "    </tr>\n",
       "    <tr>\n",
       "      <th>4</th>\n",
       "      <td>13</td>\n",
       "      <td>No Negative</td>\n",
       "      <td>0</td>\n",
       "      <td>Lovely hotel v welcoming staff</td>\n",
       "      <td>7</td>\n",
       "      <td>2</td>\n",
       "      <td>[' Business trip ', ' Solo traveler ', ' Class...</td>\n",
       "      <td>444</td>\n",
       "      <td>0</td>\n",
       "      <td>0.0</td>\n",
       "      <td>...</td>\n",
       "      <td>0.050039</td>\n",
       "      <td>16</td>\n",
       "      <td>5</td>\n",
       "      <td>2016</td>\n",
       "      <td>0</td>\n",
       "      <td>1</td>\n",
       "      <td>1</td>\n",
       "      <td>0</td>\n",
       "      <td>0</td>\n",
       "      <td>0</td>\n",
       "    </tr>\n",
       "  </tbody>\n",
       "</table>\n",
       "<p>5 rows × 33 columns</p>\n",
       "</div>"
      ],
      "text/plain": [
       "   reviewer_nationality                                    negative_review  \\\n",
       "0                    13   Would have appreciated a shop in the hotel th...   \n",
       "1                     1        No tissue paper box was present at the room   \n",
       "2                    15                                           Pillows    \n",
       "3                    14                                        No Negative   \n",
       "4                    13                                        No Negative   \n",
       "\n",
       "   review_total_negative_word_counts  \\\n",
       "0                                 52   \n",
       "1                                 10   \n",
       "2                                  3   \n",
       "3                                  0   \n",
       "4                                  0   \n",
       "\n",
       "                                     positive_review  \\\n",
       "0   Hotel was great clean friendly staff free bre...   \n",
       "1                                        No Positive   \n",
       "2                         Nice welcoming and service   \n",
       "3   Everything including the nice upgrade The Hot...   \n",
       "4                    Lovely hotel v welcoming staff    \n",
       "\n",
       "   review_total_positive_word_counts  \\\n",
       "0                                 62   \n",
       "1                                  0   \n",
       "2                                  5   \n",
       "3                                 27   \n",
       "4                                  7   \n",
       "\n",
       "   total_number_of_reviews_reviewer_has_given  \\\n",
       "0                                           1   \n",
       "1                                           7   \n",
       "2                                          15   \n",
       "3                                           9   \n",
       "4                                           2   \n",
       "\n",
       "                                                tags days_since_review  \\\n",
       "0  [' Leisure trip ', ' Couple ', ' Double Room '...                13   \n",
       "1  [' Leisure trip ', ' Group ', ' Triple Room ',...               234   \n",
       "2  [' Business trip ', ' Solo traveler ', ' Twin ...               616   \n",
       "3  [' Leisure trip ', ' Couple ', ' Ambassador Ju...               656   \n",
       "4  [' Business trip ', ' Solo traveler ', ' Class...               444   \n",
       "\n",
       "   sample  reviewer_score  ...  %_city_pop_from_country_pop day month  year  \\\n",
       "0       0             0.0  ...                     0.023623  21     7  2017   \n",
       "1       0             0.0  ...                     0.050039  12    12  2016   \n",
       "2       0             0.0  ...                     0.035136  26    11  2015   \n",
       "3       0             0.0  ...                     0.023623  17    10  2015   \n",
       "4       0             0.0  ...                     0.050039  16     5  2016   \n",
       "\n",
       "   day_of_week  is_weekend  is_spring  is_summer  is_autumn is_winter  \n",
       "0            4           1          0          1          0         0  \n",
       "1            0           1          0          0          0         1  \n",
       "2            3           1          0          0          1         0  \n",
       "3            5           1          0          0          1         0  \n",
       "4            0           1          1          0          0         0  \n",
       "\n",
       "[5 rows x 33 columns]"
      ]
     },
     "execution_count": 64,
     "metadata": {},
     "output_type": "execute_result"
    }
   ],
   "source": [
    "hotels.head(5)"
   ]
  },
  {
   "cell_type": "markdown",
   "id": "b3ef2bf2",
   "metadata": {
    "papermill": {
     "duration": 0.295849,
     "end_time": "2022-04-13T00:08:05.280620",
     "exception": false,
     "start_time": "2022-04-13T00:08:04.984771",
     "status": "completed"
    },
    "tags": []
   },
   "source": [
    "Можно отметить, что часто появляются такие отзывы, как \"No Negative\" и \"No Positive\". В данном контексте эти словосочетания можно итерпретировать в обратном смысле. "
   ]
  },
  {
   "cell_type": "code",
   "execution_count": 65,
   "id": "46c5823c",
   "metadata": {
    "execution": {
     "iopub.execute_input": "2022-04-13T00:08:05.881356Z",
     "iopub.status.busy": "2022-04-13T00:08:05.880002Z",
     "iopub.status.idle": "2022-04-13T00:08:07.953744Z",
     "shell.execute_reply": "2022-04-13T00:08:07.953141Z",
     "shell.execute_reply.started": "2022-04-12T23:46:55.864341Z"
    },
    "papermill": {
     "duration": 2.378539,
     "end_time": "2022-04-13T00:08:07.953908",
     "exception": false,
     "start_time": "2022-04-13T00:08:05.575369",
     "status": "completed"
    },
    "tags": []
   },
   "outputs": [
    {
     "data": {
      "text/plain": [
       "                158085\n",
       " Breakfast         407\n",
       " Small room        373\n",
       " Location          368\n",
       " Everything        326\n",
       " Price             260\n",
       " Small rooms       188\n",
       " Expensive         142\n",
       " Room size         140\n",
       " Staff             130\n",
       "Name: negative_review, dtype: int64"
      ]
     },
     "execution_count": 65,
     "metadata": {},
     "output_type": "execute_result"
    }
   ],
   "source": [
    "hotels['no_neg'] = 0\n",
    "hotels['no_pos'] = 0\n",
    "\n",
    "no_neg_list = ['nothing', 'no negative', 'n a', 'none', '', 'all good', 'nothing really', 'no complaints', 'nil', 'nothing at all', 'na', 'nothing to dislike', 'liked everything',\n",
    "              'can t think of anything', 'everything was perfect', 'no', 'absolutely nothing', 'nothing to dislike', 'everything was great', 'nothing to complain about', 'non']\n",
    "\n",
    "hotels.loc[hotels['negative_review'].str.lower().str.strip().isin(no_neg_list), 'no_neg'] = 1\n",
    "hotels.loc[hotels['negative_review'].str.lower().str.strip().isin(['everything']), 'no_pos'] = 1\n",
    "hotels.loc[hotels['negative_review'].str.lower().str.strip().isin(no_neg_list), 'negative_review'] = ''\n",
    "\n",
    "hotels['negative_review'].value_counts()[:10]\n"
   ]
  },
  {
   "cell_type": "code",
   "execution_count": 66,
   "id": "6bd7c8a2",
   "metadata": {
    "execution": {
     "iopub.execute_input": "2022-04-13T00:08:08.587716Z",
     "iopub.status.busy": "2022-04-13T00:08:08.586712Z",
     "iopub.status.idle": "2022-04-13T00:08:10.025374Z",
     "shell.execute_reply": "2022-04-13T00:08:10.024389Z",
     "shell.execute_reply.started": "2022-04-12T23:47:00.844131Z"
    },
    "papermill": {
     "duration": 1.771024,
     "end_time": "2022-04-13T00:08:10.025578",
     "exception": false,
     "start_time": "2022-04-13T00:08:08.254554",
     "status": "completed"
    },
    "tags": []
   },
   "outputs": [
    {
     "data": {
      "text/plain": [
       "No Positive        35946\n",
       " Location           9222\n",
       " Everything         2284\n",
       " location           1677\n",
       " Nothing            1243\n",
       " The location       1126\n",
       " Great location     1047\n",
       " Good location       927\n",
       " Location            915\n",
       " Everything          613\n",
       "Name: positive_review, dtype: int64"
      ]
     },
     "execution_count": 66,
     "metadata": {},
     "output_type": "execute_result"
    }
   ],
   "source": [
    "no_pos_list = ['no positive', 'nothing']\n",
    "\n",
    "hotels.loc[hotels['positive_review'].str.lower().str.strip().isin(no_pos_list), 'no_pos'] = 1\n",
    "hotels.loc[hotels['positive_review'].str.lower().str.strip().isin(['everything']), 'no_neg'] = 1\n",
    "\n",
    "hotels['positive_review'].value_counts()[:10]"
   ]
  },
  {
   "cell_type": "code",
   "execution_count": 67,
   "id": "05fe50a7",
   "metadata": {
    "execution": {
     "iopub.execute_input": "2022-04-13T00:08:10.678377Z",
     "iopub.status.busy": "2022-04-13T00:08:10.677446Z",
     "iopub.status.idle": "2022-04-13T00:08:10.960008Z",
     "shell.execute_reply": "2022-04-13T00:08:10.959358Z",
     "shell.execute_reply.started": "2022-04-12T23:47:05.032374Z"
    },
    "papermill": {
     "duration": 0.591422,
     "end_time": "2022-04-13T00:08:10.960152",
     "exception": false,
     "start_time": "2022-04-13T00:08:10.368730",
     "status": "completed"
    },
    "tags": []
   },
   "outputs": [],
   "source": [
    "hotels['neg_len'] = hotels['negative_review'].map(len)\n",
    "hotels['pos_len'] = hotels['positive_review'].map(len)"
   ]
  },
  {
   "cell_type": "markdown",
   "id": "88609107",
   "metadata": {
    "papermill": {
     "duration": 0.294248,
     "end_time": "2022-04-13T00:08:11.549548",
     "exception": false,
     "start_time": "2022-04-13T00:08:11.255300",
     "status": "completed"
    },
    "tags": []
   },
   "source": [
    "Анализ тональности текста"
   ]
  },
  {
   "cell_type": "code",
   "execution_count": 68,
   "id": "18729f23",
   "metadata": {
    "execution": {
     "iopub.execute_input": "2022-04-13T00:08:12.147630Z",
     "iopub.status.busy": "2022-04-13T00:08:12.146641Z",
     "iopub.status.idle": "2022-04-13T00:11:45.292564Z",
     "shell.execute_reply": "2022-04-13T00:11:45.293107Z",
     "shell.execute_reply.started": "2022-04-12T23:50:52.138929Z"
    },
    "papermill": {
     "duration": 213.447865,
     "end_time": "2022-04-13T00:11:45.293306",
     "exception": false,
     "start_time": "2022-04-13T00:08:11.845441",
     "status": "completed"
    },
    "tags": []
   },
   "outputs": [
    {
     "name": "stderr",
     "output_type": "stream",
     "text": [
      "[nltk_data] Downloading package vader_lexicon to C:\\Users\\Колесник\n",
      "[nltk_data]     Дмитрий\\AppData\\Roaming\\nltk_data...\n",
      "[nltk_data]   Package vader_lexicon is already up-to-date!\n"
     ]
    },
    {
     "data": {
      "text/html": [
       "<div>\n",
       "<style scoped>\n",
       "    .dataframe tbody tr th:only-of-type {\n",
       "        vertical-align: middle;\n",
       "    }\n",
       "\n",
       "    .dataframe tbody tr th {\n",
       "        vertical-align: top;\n",
       "    }\n",
       "\n",
       "    .dataframe thead th {\n",
       "        text-align: right;\n",
       "    }\n",
       "</style>\n",
       "<table border=\"1\" class=\"dataframe\">\n",
       "  <thead>\n",
       "    <tr style=\"text-align: right;\">\n",
       "      <th></th>\n",
       "      <th>reviewer_nationality</th>\n",
       "      <th>negative_review</th>\n",
       "      <th>review_total_negative_word_counts</th>\n",
       "      <th>positive_review</th>\n",
       "      <th>review_total_positive_word_counts</th>\n",
       "      <th>total_number_of_reviews_reviewer_has_given</th>\n",
       "      <th>tags</th>\n",
       "      <th>days_since_review</th>\n",
       "      <th>sample</th>\n",
       "      <th>reviewer_score</th>\n",
       "      <th>...</th>\n",
       "      <th>review_neg</th>\n",
       "      <th>review_pos</th>\n",
       "      <th>n_neg</th>\n",
       "      <th>n_neu</th>\n",
       "      <th>n_pos</th>\n",
       "      <th>n_compound</th>\n",
       "      <th>p_neg</th>\n",
       "      <th>p_neu</th>\n",
       "      <th>p_pos</th>\n",
       "      <th>p_compound</th>\n",
       "    </tr>\n",
       "  </thead>\n",
       "  <tbody>\n",
       "    <tr>\n",
       "      <th>0</th>\n",
       "      <td>13</td>\n",
       "      <td>Would have appreciated a shop in the hotel th...</td>\n",
       "      <td>52</td>\n",
       "      <td>Hotel was great clean friendly staff free bre...</td>\n",
       "      <td>62</td>\n",
       "      <td>1</td>\n",
       "      <td>[' Leisure trip ', ' Couple ', ' Double Room '...</td>\n",
       "      <td>13</td>\n",
       "      <td>0</td>\n",
       "      <td>0.0</td>\n",
       "      <td>...</td>\n",
       "      <td>{'neg': 0.129, 'neu': 0.747, 'pos': 0.125, 'co...</td>\n",
       "      <td>{'neg': 0.0, 'neu': 0.671, 'pos': 0.329, 'comp...</td>\n",
       "      <td>0.129</td>\n",
       "      <td>0.747</td>\n",
       "      <td>0.125</td>\n",
       "      <td>-0.0554</td>\n",
       "      <td>0.000</td>\n",
       "      <td>0.671</td>\n",
       "      <td>0.329</td>\n",
       "      <td>0.9615</td>\n",
       "    </tr>\n",
       "    <tr>\n",
       "      <th>1</th>\n",
       "      <td>1</td>\n",
       "      <td>No tissue paper box was present at the room</td>\n",
       "      <td>10</td>\n",
       "      <td>No Positive</td>\n",
       "      <td>0</td>\n",
       "      <td>7</td>\n",
       "      <td>[' Leisure trip ', ' Group ', ' Triple Room ',...</td>\n",
       "      <td>234</td>\n",
       "      <td>0</td>\n",
       "      <td>0.0</td>\n",
       "      <td>...</td>\n",
       "      <td>{'neg': 0.216, 'neu': 0.784, 'pos': 0.0, 'comp...</td>\n",
       "      <td>{'neg': 0.379, 'neu': 0.0, 'pos': 0.621, 'comp...</td>\n",
       "      <td>0.216</td>\n",
       "      <td>0.784</td>\n",
       "      <td>0.000</td>\n",
       "      <td>-0.2960</td>\n",
       "      <td>0.379</td>\n",
       "      <td>0.000</td>\n",
       "      <td>0.621</td>\n",
       "      <td>0.3400</td>\n",
       "    </tr>\n",
       "    <tr>\n",
       "      <th>2</th>\n",
       "      <td>15</td>\n",
       "      <td>Pillows</td>\n",
       "      <td>3</td>\n",
       "      <td>Nice welcoming and service</td>\n",
       "      <td>5</td>\n",
       "      <td>15</td>\n",
       "      <td>[' Business trip ', ' Solo traveler ', ' Twin ...</td>\n",
       "      <td>616</td>\n",
       "      <td>0</td>\n",
       "      <td>0.0</td>\n",
       "      <td>...</td>\n",
       "      <td>{'neg': 0.0, 'neu': 1.0, 'pos': 0.0, 'compound...</td>\n",
       "      <td>{'neg': 0.0, 'neu': 0.26, 'pos': 0.74, 'compou...</td>\n",
       "      <td>0.000</td>\n",
       "      <td>1.000</td>\n",
       "      <td>0.000</td>\n",
       "      <td>0.0000</td>\n",
       "      <td>0.000</td>\n",
       "      <td>0.260</td>\n",
       "      <td>0.740</td>\n",
       "      <td>0.6908</td>\n",
       "    </tr>\n",
       "    <tr>\n",
       "      <th>3</th>\n",
       "      <td>14</td>\n",
       "      <td></td>\n",
       "      <td>0</td>\n",
       "      <td>Everything including the nice upgrade The Hot...</td>\n",
       "      <td>27</td>\n",
       "      <td>9</td>\n",
       "      <td>[' Leisure trip ', ' Couple ', ' Ambassador Ju...</td>\n",
       "      <td>656</td>\n",
       "      <td>0</td>\n",
       "      <td>0.0</td>\n",
       "      <td>...</td>\n",
       "      <td>{'neg': 0.0, 'neu': 0.0, 'pos': 0.0, 'compound...</td>\n",
       "      <td>{'neg': 0.0, 'neu': 0.621, 'pos': 0.379, 'comp...</td>\n",
       "      <td>0.000</td>\n",
       "      <td>0.000</td>\n",
       "      <td>0.000</td>\n",
       "      <td>0.0000</td>\n",
       "      <td>0.000</td>\n",
       "      <td>0.621</td>\n",
       "      <td>0.379</td>\n",
       "      <td>0.9153</td>\n",
       "    </tr>\n",
       "    <tr>\n",
       "      <th>4</th>\n",
       "      <td>13</td>\n",
       "      <td></td>\n",
       "      <td>0</td>\n",
       "      <td>Lovely hotel v welcoming staff</td>\n",
       "      <td>7</td>\n",
       "      <td>2</td>\n",
       "      <td>[' Business trip ', ' Solo traveler ', ' Class...</td>\n",
       "      <td>444</td>\n",
       "      <td>0</td>\n",
       "      <td>0.0</td>\n",
       "      <td>...</td>\n",
       "      <td>{'neg': 0.0, 'neu': 0.0, 'pos': 0.0, 'compound...</td>\n",
       "      <td>{'neg': 0.0, 'neu': 0.23, 'pos': 0.77, 'compou...</td>\n",
       "      <td>0.000</td>\n",
       "      <td>0.000</td>\n",
       "      <td>0.000</td>\n",
       "      <td>0.0000</td>\n",
       "      <td>0.000</td>\n",
       "      <td>0.230</td>\n",
       "      <td>0.770</td>\n",
       "      <td>0.7717</td>\n",
       "    </tr>\n",
       "  </tbody>\n",
       "</table>\n",
       "<p>5 rows × 47 columns</p>\n",
       "</div>"
      ],
      "text/plain": [
       "   reviewer_nationality                                    negative_review  \\\n",
       "0                    13   Would have appreciated a shop in the hotel th...   \n",
       "1                     1        No tissue paper box was present at the room   \n",
       "2                    15                                           Pillows    \n",
       "3                    14                                                      \n",
       "4                    13                                                      \n",
       "\n",
       "   review_total_negative_word_counts  \\\n",
       "0                                 52   \n",
       "1                                 10   \n",
       "2                                  3   \n",
       "3                                  0   \n",
       "4                                  0   \n",
       "\n",
       "                                     positive_review  \\\n",
       "0   Hotel was great clean friendly staff free bre...   \n",
       "1                                        No Positive   \n",
       "2                         Nice welcoming and service   \n",
       "3   Everything including the nice upgrade The Hot...   \n",
       "4                    Lovely hotel v welcoming staff    \n",
       "\n",
       "   review_total_positive_word_counts  \\\n",
       "0                                 62   \n",
       "1                                  0   \n",
       "2                                  5   \n",
       "3                                 27   \n",
       "4                                  7   \n",
       "\n",
       "   total_number_of_reviews_reviewer_has_given  \\\n",
       "0                                           1   \n",
       "1                                           7   \n",
       "2                                          15   \n",
       "3                                           9   \n",
       "4                                           2   \n",
       "\n",
       "                                                tags days_since_review  \\\n",
       "0  [' Leisure trip ', ' Couple ', ' Double Room '...                13   \n",
       "1  [' Leisure trip ', ' Group ', ' Triple Room ',...               234   \n",
       "2  [' Business trip ', ' Solo traveler ', ' Twin ...               616   \n",
       "3  [' Leisure trip ', ' Couple ', ' Ambassador Ju...               656   \n",
       "4  [' Business trip ', ' Solo traveler ', ' Class...               444   \n",
       "\n",
       "   sample  reviewer_score  ...  \\\n",
       "0       0             0.0  ...   \n",
       "1       0             0.0  ...   \n",
       "2       0             0.0  ...   \n",
       "3       0             0.0  ...   \n",
       "4       0             0.0  ...   \n",
       "\n",
       "                                          review_neg  \\\n",
       "0  {'neg': 0.129, 'neu': 0.747, 'pos': 0.125, 'co...   \n",
       "1  {'neg': 0.216, 'neu': 0.784, 'pos': 0.0, 'comp...   \n",
       "2  {'neg': 0.0, 'neu': 1.0, 'pos': 0.0, 'compound...   \n",
       "3  {'neg': 0.0, 'neu': 0.0, 'pos': 0.0, 'compound...   \n",
       "4  {'neg': 0.0, 'neu': 0.0, 'pos': 0.0, 'compound...   \n",
       "\n",
       "                                          review_pos  n_neg  n_neu  n_pos  \\\n",
       "0  {'neg': 0.0, 'neu': 0.671, 'pos': 0.329, 'comp...  0.129  0.747  0.125   \n",
       "1  {'neg': 0.379, 'neu': 0.0, 'pos': 0.621, 'comp...  0.216  0.784  0.000   \n",
       "2  {'neg': 0.0, 'neu': 0.26, 'pos': 0.74, 'compou...  0.000  1.000  0.000   \n",
       "3  {'neg': 0.0, 'neu': 0.621, 'pos': 0.379, 'comp...  0.000  0.000  0.000   \n",
       "4  {'neg': 0.0, 'neu': 0.23, 'pos': 0.77, 'compou...  0.000  0.000  0.000   \n",
       "\n",
       "   n_compound  p_neg  p_neu  p_pos p_compound  \n",
       "0     -0.0554  0.000  0.671  0.329     0.9615  \n",
       "1     -0.2960  0.379  0.000  0.621     0.3400  \n",
       "2      0.0000  0.000  0.260  0.740     0.6908  \n",
       "3      0.0000  0.000  0.621  0.379     0.9153  \n",
       "4      0.0000  0.000  0.230  0.770     0.7717  \n",
       "\n",
       "[5 rows x 47 columns]"
      ]
     },
     "execution_count": 68,
     "metadata": {},
     "output_type": "execute_result"
    }
   ],
   "source": [
    "import nltk\n",
    "from nltk.sentiment.vader import SentimentIntensityAnalyzer\n",
    "nltk.downloader.download('vader_lexicon')\n",
    "\n",
    "analyz = SentimentIntensityAnalyzer()\n",
    "\n",
    "# проводим анализ текста с помощью SentimentIntensityAnalyzer()\n",
    "hotels['review_neg'] = hotels['negative_review'].apply(lambda x: analyz.polarity_scores(x))\n",
    "hotels['review_pos'] = hotels['positive_review'].apply(lambda x: analyz.polarity_scores(x))\n",
    "\n",
    "# результаты помещаем в hotels\n",
    "hotels.loc[:,['n_neg', 'n_neu', 'n_pos', 'n_compound']] = list(hotels['review_neg'].apply(lambda x: [x['neg'], x['neu'], x['pos'], x['compound']]).values)\n",
    "hotels.loc[:,['p_neg', 'p_neu', 'p_pos', 'p_compound']] = list(hotels['review_pos'].apply(lambda x: [x['neg'], x['neu'], x['pos'], x['compound']]).values)\n",
    "\n",
    "hotels.head(5)"
   ]
  },
  {
   "cell_type": "code",
   "execution_count": 69,
   "id": "5b456123",
   "metadata": {
    "execution": {
     "iopub.execute_input": "2022-04-13T00:11:45.895912Z",
     "iopub.status.busy": "2022-04-13T00:11:45.894880Z",
     "iopub.status.idle": "2022-04-13T00:11:45.911012Z",
     "shell.execute_reply": "2022-04-13T00:11:45.910477Z",
     "shell.execute_reply.started": "2022-04-12T23:54:28.329610Z"
    },
    "papermill": {
     "duration": 0.32081,
     "end_time": "2022-04-13T00:11:45.911165",
     "exception": false,
     "start_time": "2022-04-13T00:11:45.590355",
     "status": "completed"
    },
    "tags": []
   },
   "outputs": [],
   "source": [
    "hotels['%_positive_words_in_review'] = hotels['review_total_positive_word_counts'] / \\\n",
    "     (hotels['review_total_positive_word_counts'] + hotels['review_total_negative_word_counts']) \n",
    "hotels['%_negative_words_in_review'] = hotels['review_total_negative_word_counts'] / \\\n",
    "     (hotels['review_total_positive_word_counts'] + hotels['review_total_negative_word_counts'])\n",
    "\n",
    "hotels['#_positive_words_per_review'] = hotels['review_total_positive_word_counts'] / \\\n",
    "     hotels['total_number_of_reviews_reviewer_has_given']\n",
    "hotels['#_negative_words_per_review'] = hotels['review_total_negative_word_counts'] / \\\n",
    "     hotels['total_number_of_reviews_reviewer_has_given']"
   ]
  },
  {
   "cell_type": "code",
   "execution_count": 70,
   "id": "e785024a",
   "metadata": {
    "execution": {
     "iopub.execute_input": "2022-04-13T00:11:46.521499Z",
     "iopub.status.busy": "2022-04-13T00:11:46.520145Z",
     "iopub.status.idle": "2022-04-13T00:11:47.188866Z",
     "shell.execute_reply": "2022-04-13T00:11:47.188317Z",
     "shell.execute_reply.started": "2022-04-12T23:54:43.214287Z"
    },
    "papermill": {
     "duration": 0.975397,
     "end_time": "2022-04-13T00:11:47.189028",
     "exception": false,
     "start_time": "2022-04-13T00:11:46.213631",
     "status": "completed"
    },
    "tags": []
   },
   "outputs": [
    {
     "name": "stdout",
     "output_type": "stream",
     "text": [
      "<class 'pandas.core.frame.DataFrame'>\n",
      "Int64Index: 515738 entries, 0 to 515737\n",
      "Data columns (total 40 columns):\n",
      " #   Column                                      Non-Null Count   Dtype  \n",
      "---  ------                                      --------------   -----  \n",
      " 0   reviewer_nationality                        515738 non-null  int32  \n",
      " 1   review_total_negative_word_counts           515738 non-null  int64  \n",
      " 2   review_total_positive_word_counts           515738 non-null  int64  \n",
      " 3   total_number_of_reviews_reviewer_has_given  515738 non-null  int64  \n",
      " 4   sample                                      515738 non-null  int64  \n",
      " 5   reviewer_score                              515738 non-null  float64\n",
      " 6   lat                                         515738 non-null  float64\n",
      " 7   lng                                         515738 non-null  float64\n",
      " 8   average_score                               515738 non-null  float64\n",
      " 9   total_number_of_reviews                     515738 non-null  int64  \n",
      " 10  additional_number_of_scoring                515738 non-null  int64  \n",
      " 11  city                                        515738 non-null  int32  \n",
      " 12  сity_population                             515738 non-null  int64  \n",
      " 13  country_population                          515738 non-null  int64  \n",
      " 14  %_city_pop_from_country_pop                 515738 non-null  float64\n",
      " 15  day                                         515738 non-null  int32  \n",
      " 16  month                                       515738 non-null  int32  \n",
      " 17  year                                        515738 non-null  int32  \n",
      " 18  day_of_week                                 515738 non-null  int32  \n",
      " 19  is_weekend                                  515738 non-null  int64  \n",
      " 20  is_spring                                   515738 non-null  int64  \n",
      " 21  is_summer                                   515738 non-null  int64  \n",
      " 22  is_autumn                                   515738 non-null  int64  \n",
      " 23  is_winter                                   515738 non-null  int64  \n",
      " 24  no_neg                                      515738 non-null  int64  \n",
      " 25  no_pos                                      515738 non-null  int64  \n",
      " 26  neg_len                                     515738 non-null  int64  \n",
      " 27  pos_len                                     515738 non-null  int64  \n",
      " 28  n_neg                                       515738 non-null  float64\n",
      " 29  n_neu                                       515738 non-null  float64\n",
      " 30  n_pos                                       515738 non-null  float64\n",
      " 31  n_compound                                  515738 non-null  float64\n",
      " 32  p_neg                                       515738 non-null  float64\n",
      " 33  p_neu                                       515738 non-null  float64\n",
      " 34  p_pos                                       515738 non-null  float64\n",
      " 35  p_compound                                  515738 non-null  float64\n",
      " 36  %_positive_words_in_review                  515738 non-null  float64\n",
      " 37  %_negative_words_in_review                  515738 non-null  float64\n",
      " 38  #_positive_words_per_review                 515738 non-null  float64\n",
      " 39  #_negative_words_per_review                 515738 non-null  float64\n",
      "dtypes: float64(17), int32(6), int64(17)\n",
      "memory usage: 149.5 MB\n",
      "None\n"
     ]
    }
   ],
   "source": [
    "# удаляем лишние данные\n",
    "\n",
    "object_columns = [strings for strings in hotels.columns if hotels[strings].dtypes == 'object']\n",
    "hotels.drop(object_columns, axis = 1, inplace=True)\n",
    "hotels.drop(['zip'], axis = 1, inplace=True)\n",
    "hotels.drop(['hotel_id'], axis = 1, inplace=True)\n",
    "\n",
    "hotels = hotels.fillna(0)\n",
    "print(hotels.info())"
   ]
  },
  {
   "cell_type": "code",
   "execution_count": 71,
   "id": "939b415d",
   "metadata": {
    "execution": {
     "iopub.execute_input": "2022-04-13T00:11:47.824371Z",
     "iopub.status.busy": "2022-04-13T00:11:47.823084Z",
     "iopub.status.idle": "2022-04-13T00:11:50.713022Z",
     "shell.execute_reply": "2022-04-13T00:11:50.713460Z",
     "shell.execute_reply.started": "2022-04-12T23:54:56.509238Z"
    },
    "papermill": {
     "duration": 3.220348,
     "end_time": "2022-04-13T00:11:50.713672",
     "exception": false,
     "start_time": "2022-04-13T00:11:47.493324",
     "status": "completed"
    },
    "tags": []
   },
   "outputs": [
    {
     "data": {
      "text/plain": [
       "<AxesSubplot:>"
      ]
     },
     "execution_count": 71,
     "metadata": {},
     "output_type": "execute_result"
    },
    {
     "data": {
      "image/png": "[encoded data removed]",
      "text/plain": [
       "<Figure size 720x720 with 2 Axes>"
      ]
     },
     "metadata": {
      "needs_background": "light"
     },
     "output_type": "display_data"
    }
   ],
   "source": [
    "# проверим, нужно ли еще что-то удалять\n",
    "sns.heatmap(hotels.corr())"
   ]
  },
  {
   "cell_type": "markdown",
   "id": "53d33516",
   "metadata": {
    "papermill": {
     "duration": 0.357706,
     "end_time": "2022-04-13T00:11:52.021098",
     "exception": false,
     "start_time": "2022-04-13T00:11:51.663392",
     "status": "completed"
    },
    "tags": []
   },
   "source": [
    "# 3. Нормализуем данные"
   ]
  },
  {
   "cell_type": "code",
   "execution_count": 72,
   "id": "3061ac7c",
   "metadata": {
    "execution": {
     "iopub.execute_input": "2022-04-13T00:11:52.648005Z",
     "iopub.status.busy": "2022-04-13T00:11:52.647336Z",
     "iopub.status.idle": "2022-04-13T00:11:52.649346Z",
     "shell.execute_reply": "2022-04-13T00:11:52.649846Z",
     "shell.execute_reply.started": "2022-04-12T23:55:02.530075Z"
    },
    "papermill": {
     "duration": 0.318825,
     "end_time": "2022-04-13T00:11:52.650021",
     "exception": false,
     "start_time": "2022-04-13T00:11:52.331196",
     "status": "completed"
    },
    "tags": []
   },
   "outputs": [],
   "source": [
    "# числовые признаки\n",
    "num_cols = ['review_total_negative_word_counts', \n",
    "            'review_total_positive_word_counts',\n",
    "            'total_number_of_reviews_reviewer_has_given',\n",
    "            'total_number_of_reviews', 'reviewer_score',\n",
    "            'additional_number_of_scoring',\n",
    "            'сity_population', 'country_population',\n",
    "            '%_city_pop_from_country_pop',\n",
    "            'neg_len', 'pos_len',\n",
    "            'n_neu', 'n_pos','n_neg',\n",
    "            'n_compound','p_compound',\n",
    "            'p_neg', 'p_neu', 'p_pos',\n",
    "            '%_positive_words_in_review', '%_negative_words_in_review',\n",
    "            '#_positive_words_per_review', '#_negative_words_per_review'\n",
    "            ]\n",
    "\n",
    "# категориальные признаки\n",
    "cat_cols = ['reviewer_nationality',\n",
    "            'lat', 'lng',\n",
    "            'city','day',\n",
    "            'month', 'year', \n",
    "            'day_of_week', 'is_weekend',\n",
    "            'is_spring', 'is_summer',\n",
    "            'is_autumn', 'is_winter',\n",
    "            'no_neg', 'no_pos',    \n",
    "            'average_score',           \n",
    "            ]         "
   ]
  },
  {
   "cell_type": "code",
   "execution_count": 73,
   "id": "31536b4f",
   "metadata": {
    "execution": {
     "iopub.execute_input": "2022-04-13T00:11:53.267394Z",
     "iopub.status.busy": "2022-04-13T00:11:53.266743Z",
     "iopub.status.idle": "2022-04-13T00:11:54.142383Z",
     "shell.execute_reply": "2022-04-13T00:11:54.141763Z",
     "shell.execute_reply.started": "2022-04-12T23:55:07.859943Z"
    },
    "papermill": {
     "duration": 1.183325,
     "end_time": "2022-04-13T00:11:54.142528",
     "exception": false,
     "start_time": "2022-04-13T00:11:52.959203",
     "status": "completed"
    },
    "tags": []
   },
   "outputs": [
    {
     "data": {
      "text/plain": [
       "month                       0.055775\n",
       "day_of_week                 2.304557\n",
       "is_spring                  19.852313\n",
       "city                       38.280350\n",
       "is_weekend                 46.876865\n",
       "lng                        58.976861\n",
       "year                       64.948509\n",
       "reviewer_nationality      127.130887\n",
       "lat                       145.960172\n",
       "is_autumn                 288.985899\n",
       "is_summer                 378.424153\n",
       "day                       730.514737\n",
       "no_pos                   1878.030240\n",
       "average_score            4928.562297\n",
       "no_neg                  31369.811894\n",
       "is_winter               55549.543173\n",
       "dtype: float64"
      ]
     },
     "metadata": {},
     "output_type": "display_data"
    },
    {
     "data": {
      "text/plain": [
       "<AxesSubplot:>"
      ]
     },
     "execution_count": 73,
     "metadata": {},
     "output_type": "execute_result"
    },
    {
     "data": {
      "image/png": "[encoded data removed]",
      "text/plain": [
       "<Figure size 1224x936 with 1 Axes>"
      ]
     },
     "metadata": {
      "needs_background": "light"
     },
     "output_type": "display_data"
    }
   ],
   "source": [
    "from sklearn.feature_selection import chi2 # хи-квадрат\n",
    "import matplotlib.pyplot as plt\n",
    "%matplotlib inline\n",
    "\n",
    "# Для оценки значимости категориальных переменных будем использовать непараметрический тест хи-квадрат.\n",
    "# Выведем значения хи-квадрат на графике:\n",
    "\n",
    "y = hotels.query('sample == 1').drop(['sample'], axis=1).reviewer_score.values.astype('int')\n",
    "X = hotels.query('sample == 1').drop(['sample'], axis=1)[cat_cols]\n",
    "\n",
    "X['lng_'] = X['lng'] - X['lng'].min()\n",
    "X = X.drop(['lng'], axis=1)\n",
    "\n",
    "plt.rcParams['figure.figsize'] = (17,13)\n",
    "imp_cat = pd.Series(chi2(X, y)[0], index=cat_cols)\n",
    "imp_cat.sort_values(inplace = True)\n",
    "display(imp_cat)\n",
    "imp_cat.plot(kind = 'barh')"
   ]
  },
  {
   "cell_type": "code",
   "execution_count": 74,
   "id": "91c9ed02",
   "metadata": {
    "execution": {
     "iopub.execute_input": "2022-04-13T00:11:54.756296Z",
     "iopub.status.busy": "2022-04-13T00:11:54.755224Z",
     "iopub.status.idle": "2022-04-13T00:11:55.511575Z",
     "shell.execute_reply": "2022-04-13T00:11:55.510874Z",
     "shell.execute_reply.started": "2022-04-12T23:55:11.380963Z"
    },
    "papermill": {
     "duration": 1.065943,
     "end_time": "2022-04-13T00:11:55.511768",
     "exception": false,
     "start_time": "2022-04-13T00:11:54.445825",
     "status": "completed"
    },
    "tags": []
   },
   "outputs": [
    {
     "data": {
      "text/plain": [
       "<AxesSubplot:>"
      ]
     },
     "execution_count": 74,
     "metadata": {},
     "output_type": "execute_result"
    },
    {
     "data": {
      "image/png": "[encoded data removed]",
      "text/plain": [
       "<Figure size 1224x936 with 1 Axes>"
      ]
     },
     "metadata": {
      "needs_background": "light"
     },
     "output_type": "display_data"
    }
   ],
   "source": [
    "from sklearn.feature_selection import f_classif # anova\n",
    "# Для оценки значимости непрерывных переменных будем использовать функцию f_classif из библиотеки sklearn.\n",
    "# В основе метода оценки значимости переменных лежит анализ (ANOVA).\n",
    "# В качестве меры значимости будем использовать значение f-статистики - чем значение статистики выше, тем меньше \n",
    "# вероятность того, что средние значения не отличаются, и тем важнее данный признак для нашей модели.\n",
    "\n",
    "y = hotels.query('sample == 1').drop(['sample'], axis=1).reviewer_score.values.astype('int')\n",
    "X = hotels.query('sample == 1').drop(['sample'], axis=1)[num_cols]\n",
    "\n",
    "imp_num = pd.Series(f_classif(X, y)[0], index = num_cols)\n",
    "plt.rcParams['figure.figsize'] = (17,13)\n",
    "imp_num.sort_values(inplace = True)\n",
    "imp_num.plot(kind = 'barh')"
   ]
  },
  {
   "cell_type": "code",
   "execution_count": 75,
   "id": "5392a161",
   "metadata": {
    "execution": {
     "iopub.execute_input": "2022-04-13T00:11:56.155575Z",
     "iopub.status.busy": "2022-04-13T00:11:56.154874Z",
     "iopub.status.idle": "2022-04-13T00:11:59.262783Z",
     "shell.execute_reply": "2022-04-13T00:11:59.263317Z",
     "shell.execute_reply.started": "2022-04-12T23:55:19.988023Z"
    },
    "papermill": {
     "duration": 3.434005,
     "end_time": "2022-04-13T00:11:59.263508",
     "exception": false,
     "start_time": "2022-04-13T00:11:55.829503",
     "status": "completed"
    },
    "tags": []
   },
   "outputs": [
    {
     "data": {
      "application/vnd.plotly.v1+json": {
       "config": {
        "plotlyServerURL": "https://plot.ly"
       },
       "data": [
        {
         "coloraxis": "coloraxis",
         "hovertemplate": "x: %{x}<br>y: %{y}<br>color: %{z}<extra></extra>",
         "name": "0",
         "type": "heatmap",
         "x": [
          "reviewer_nationality",
          "review_total_negative_word_counts",
          "review_total_positive_word_counts",
          "total_number_of_reviews_reviewer_has_given",
          "reviewer_score",
          "lat",
          "lng",
          "average_score",
          "total_number_of_reviews",
          "additional_number_of_scoring",
          "city",
          "сity_population",
          "country_population",
          "%_city_pop_from_country_pop",
          "day",
          "month",
          "year",
          "day_of_week",
          "is_weekend",
          "is_spring",
          "is_summer",
          "is_autumn",
          "is_winter",
          "no_neg",
          "no_pos",
          "neg_len",
          "pos_len",
          "n_neg",
          "n_neu",
          "n_pos",
          "n_compound",
          "p_neg",
          "p_neu",
          "p_pos",
          "p_compound",
          "%_positive_words_in_review",
          "%_negative_words_in_review",
          "#_positive_words_per_review",
          "#_negative_words_per_review"
         ],
         "xaxis": "x",
         "y": [
          "reviewer_nationality",
          "review_total_negative_word_counts",
          "review_total_positive_word_counts",
          "total_number_of_reviews_reviewer_has_given",
          "reviewer_score",
          "lat",
          "lng",
          "average_score",
          "total_number_of_reviews",
          "additional_number_of_scoring",
          "city",
          "сity_population",
          "country_population",
          "%_city_pop_from_country_pop",
          "day",
          "month",
          "year",
          "day_of_week",
          "is_weekend",
          "is_spring",
          "is_summer",
          "is_autumn",
          "is_winter",
          "no_neg",
          "no_pos",
          "neg_len",
          "pos_len",
          "n_neg",
          "n_neu",
          "n_pos",
          "n_compound",
          "p_neg",
          "p_neu",
          "p_pos",
          "p_compound",
          "%_positive_words_in_review",
          "%_negative_words_in_review",
          "#_positive_words_per_review",
          "#_negative_words_per_review"
         ],
         "yaxis": "y",
         "z": [
          [
           0.9999999999987704,
           null,
           null,
           null,
           null,
           null,
           null,
           null,
           null,
           null,
           null,
           null,
           null,
           null,
           null,
           null,
           null,
           null,
           null,
           null,
           null,
           null,
           null,
           null,
           null,
           null,
           null,
           null,
           null,
           null,
           null,
           null,
           null,
           null,
           null,
           null,
           null,
           null,
           null
          ],
          [
           null,
           1.0000000000012923,
           null,
           null,
           null,
           null,
           null,
           null,
           null,
           null,
           null,
           null,
           null,
           null,
           null,
           null,
           null,
           null,
           null,
           null,
           null,
           null,
           null,
           null,
           null,
           0.9972734968568226,
           null,
           null,
           null,
           null,
           null,
           null,
           null,
           null,
           null,
           null,
           null,
           null,
           null
          ],
          [
           null,
           null,
           0.999999999999855,
           null,
           null,
           null,
           null,
           null,
           null,
           null,
           null,
           null,
           null,
           null,
           null,
           null,
           null,
           null,
           null,
           null,
           null,
           null,
           null,
           null,
           null,
           null,
           0.9951483621831231,
           null,
           null,
           null,
           null,
           null,
           null,
           null,
           null,
           null,
           null,
           null,
           null
          ],
          [
           null,
           null,
           null,
           1.0000000000013503,
           null,
           null,
           null,
           null,
           null,
           null,
           null,
           null,
           null,
           null,
           null,
           null,
           null,
           null,
           null,
           null,
           null,
           null,
           null,
           null,
           null,
           null,
           null,
           null,
           null,
           null,
           null,
           null,
           null,
           null,
           null,
           null,
           null,
           null,
           null
          ],
          [
           null,
           null,
           null,
           null,
           0.9999999999965761,
           null,
           null,
           null,
           null,
           null,
           null,
           null,
           null,
           null,
           null,
           null,
           null,
           null,
           null,
           null,
           null,
           null,
           null,
           null,
           null,
           null,
           null,
           null,
           null,
           null,
           null,
           null,
           null,
           null,
           null,
           null,
           null,
           null,
           null
          ],
          [
           null,
           null,
           null,
           null,
           null,
           1.0000000000002582,
           null,
           null,
           null,
           null,
           null,
           null,
           null,
           null,
           null,
           null,
           null,
           null,
           null,
           null,
           null,
           null,
           null,
           null,
           null,
           null,
           null,
           null,
           null,
           null,
           null,
           null,
           null,
           null,
           null,
           null,
           null,
           null,
           null
          ],
          [
           null,
           null,
           null,
           null,
           null,
           null,
           0.9999999999998064,
           null,
           null,
           null,
           null,
           null,
           -0.7609670034925744,
           null,
           null,
           null,
           null,
           null,
           null,
           null,
           null,
           null,
           null,
           null,
           null,
           null,
           null,
           null,
           null,
           null,
           null,
           null,
           null,
           null,
           null,
           null,
           null,
           null,
           null
          ],
          [
           null,
           null,
           null,
           null,
           null,
           null,
           null,
           1.0000000000009592,
           null,
           null,
           null,
           null,
           null,
           null,
           null,
           null,
           null,
           null,
           null,
           null,
           null,
           null,
           null,
           null,
           null,
           null,
           null,
           null,
           null,
           null,
           null,
           null,
           null,
           null,
           null,
           null,
           null,
           null,
           null
          ],
          [
           null,
           null,
           null,
           null,
           null,
           null,
           null,
           null,
           1.0000000000001177,
           0.8248837781012783,
           null,
           null,
           null,
           null,
           null,
           null,
           null,
           null,
           null,
           null,
           null,
           null,
           null,
           null,
           null,
           null,
           null,
           null,
           null,
           null,
           null,
           null,
           null,
           null,
           null,
           null,
           null,
           null,
           null
          ],
          [
           null,
           null,
           null,
           null,
           null,
           null,
           null,
           null,
           0.8248837781012783,
           0.9999999999997101,
           null,
           null,
           null,
           null,
           null,
           null,
           null,
           null,
           null,
           null,
           null,
           null,
           null,
           null,
           null,
           null,
           null,
           null,
           null,
           null,
           null,
           null,
           null,
           null,
           null,
           null,
           null,
           null,
           null
          ],
          [
           null,
           null,
           null,
           null,
           null,
           null,
           null,
           null,
           null,
           null,
           0.9999999999967005,
           null,
           null,
           null,
           null,
           null,
           null,
           null,
           null,
           null,
           null,
           null,
           null,
           null,
           null,
           null,
           null,
           null,
           null,
           null,
           null,
           null,
           null,
           null,
           null,
           null,
           null,
           null,
           null
          ],
          [
           null,
           null,
           null,
           null,
           null,
           null,
           null,
           null,
           null,
           null,
           null,
           1.0000000000075944,
           null,
           null,
           null,
           null,
           null,
           null,
           null,
           null,
           null,
           null,
           null,
           null,
           null,
           null,
           null,
           null,
           null,
           null,
           null,
           null,
           null,
           null,
           null,
           null,
           null,
           null,
           null
          ],
          [
           null,
           null,
           null,
           null,
           null,
           null,
           -0.7609670034925744,
           null,
           null,
           null,
           null,
           null,
           0.9999999999962489,
           null,
           null,
           null,
           null,
           null,
           null,
           null,
           null,
           null,
           null,
           null,
           null,
           null,
           null,
           null,
           null,
           null,
           null,
           null,
           null,
           null,
           null,
           null,
           null,
           null,
           null
          ],
          [
           null,
           null,
           null,
           null,
           null,
           null,
           null,
           null,
           null,
           null,
           null,
           null,
           null,
           1.0000000000011868,
           null,
           null,
           null,
           null,
           null,
           null,
           null,
           null,
           null,
           null,
           null,
           null,
           null,
           null,
           null,
           null,
           null,
           null,
           null,
           null,
           null,
           null,
           null,
           null,
           null
          ],
          [
           null,
           null,
           null,
           null,
           null,
           null,
           null,
           null,
           null,
           null,
           null,
           null,
           null,
           null,
           1.0000000000072375,
           null,
           null,
           null,
           null,
           null,
           null,
           null,
           null,
           null,
           null,
           null,
           null,
           null,
           null,
           null,
           null,
           null,
           null,
           null,
           null,
           null,
           null,
           null,
           null
          ],
          [
           null,
           null,
           null,
           null,
           null,
           null,
           null,
           null,
           null,
           null,
           null,
           null,
           null,
           null,
           null,
           0.9999999999991421,
           null,
           null,
           null,
           null,
           null,
           null,
           null,
           null,
           null,
           null,
           null,
           null,
           null,
           null,
           null,
           null,
           null,
           null,
           null,
           null,
           null,
           null,
           null
          ],
          [
           null,
           null,
           null,
           null,
           null,
           null,
           null,
           null,
           null,
           null,
           null,
           null,
           null,
           null,
           null,
           null,
           0.9999999999905832,
           null,
           null,
           null,
           null,
           null,
           null,
           null,
           null,
           null,
           null,
           null,
           null,
           null,
           null,
           null,
           null,
           null,
           null,
           null,
           null,
           null,
           null
          ],
          [
           null,
           null,
           null,
           null,
           null,
           null,
           null,
           null,
           null,
           null,
           null,
           null,
           null,
           null,
           null,
           null,
           null,
           1.0000000000014682,
           null,
           null,
           null,
           null,
           null,
           null,
           null,
           null,
           null,
           null,
           null,
           null,
           null,
           null,
           null,
           null,
           null,
           null,
           null,
           null,
           null
          ],
          [
           null,
           null,
           null,
           null,
           null,
           null,
           null,
           null,
           null,
           null,
           null,
           null,
           null,
           null,
           null,
           null,
           null,
           null,
           1.000000000002153,
           null,
           null,
           null,
           null,
           null,
           null,
           null,
           null,
           null,
           null,
           null,
           null,
           null,
           null,
           null,
           null,
           null,
           null,
           null,
           null
          ],
          [
           null,
           null,
           null,
           null,
           null,
           null,
           null,
           null,
           null,
           null,
           null,
           null,
           null,
           null,
           null,
           null,
           null,
           null,
           null,
           0.9999999999927529,
           null,
           null,
           null,
           null,
           null,
           null,
           null,
           null,
           null,
           null,
           null,
           null,
           null,
           null,
           null,
           null,
           null,
           null,
           null
          ],
          [
           null,
           null,
           null,
           null,
           null,
           null,
           null,
           null,
           null,
           null,
           null,
           null,
           null,
           null,
           null,
           null,
           null,
           null,
           null,
           null,
           0.9999999999961692,
           null,
           null,
           null,
           null,
           null,
           null,
           null,
           null,
           null,
           null,
           null,
           null,
           null,
           null,
           null,
           null,
           null,
           null
          ],
          [
           null,
           null,
           null,
           null,
           null,
           null,
           null,
           null,
           null,
           null,
           null,
           null,
           null,
           null,
           null,
           null,
           null,
           null,
           null,
           null,
           null,
           1.000000000006408,
           null,
           null,
           null,
           null,
           null,
           null,
           null,
           null,
           null,
           null,
           null,
           null,
           null,
           null,
           null,
           null,
           null
          ],
          [
           null,
           null,
           null,
           null,
           null,
           null,
           null,
           null,
           null,
           null,
           null,
           null,
           null,
           null,
           null,
           null,
           null,
           null,
           null,
           null,
           null,
           null,
           0.9999999999992406,
           null,
           null,
           null,
           null,
           null,
           null,
           null,
           null,
           null,
           null,
           null,
           null,
           null,
           null,
           null,
           null
          ],
          [
           null,
           null,
           null,
           null,
           null,
           null,
           null,
           null,
           null,
           null,
           null,
           null,
           null,
           null,
           null,
           null,
           null,
           null,
           null,
           null,
           null,
           null,
           null,
           0.9999999999970031,
           null,
           null,
           null,
           null,
           -0.9292681967459294,
           null,
           null,
           null,
           null,
           null,
           null,
           0.772689361505143,
           -0.773894014078671,
           null,
           null
          ],
          [
           null,
           null,
           null,
           null,
           null,
           null,
           null,
           null,
           null,
           null,
           null,
           null,
           null,
           null,
           null,
           null,
           null,
           null,
           null,
           null,
           null,
           null,
           null,
           null,
           1.0000000000003648,
           null,
           null,
           null,
           null,
           null,
           null,
           0.8855366609840251,
           null,
           null,
           null,
           null,
           null,
           null,
           null
          ],
          [
           null,
           0.9972734968568226,
           null,
           null,
           null,
           null,
           null,
           null,
           null,
           null,
           null,
           null,
           null,
           null,
           null,
           null,
           null,
           null,
           null,
           null,
           null,
           null,
           null,
           null,
           null,
           1.0000000000017832,
           null,
           null,
           null,
           null,
           null,
           null,
           null,
           null,
           null,
           null,
           null,
           null,
           null
          ],
          [
           null,
           null,
           0.9951483621831231,
           null,
           null,
           null,
           null,
           null,
           null,
           null,
           null,
           null,
           null,
           null,
           null,
           null,
           null,
           null,
           null,
           null,
           null,
           null,
           null,
           null,
           null,
           null,
           0.9999999999994126,
           null,
           null,
           null,
           null,
           null,
           null,
           null,
           null,
           null,
           null,
           null,
           null
          ],
          [
           null,
           null,
           null,
           null,
           null,
           null,
           null,
           null,
           null,
           null,
           null,
           null,
           null,
           null,
           null,
           null,
           null,
           null,
           null,
           null,
           null,
           null,
           null,
           null,
           null,
           null,
           null,
           0.9999999999938526,
           null,
           null,
           null,
           null,
           null,
           null,
           null,
           null,
           null,
           null,
           null
          ],
          [
           null,
           null,
           null,
           null,
           null,
           null,
           null,
           null,
           null,
           null,
           null,
           null,
           null,
           null,
           null,
           null,
           null,
           null,
           null,
           null,
           null,
           null,
           null,
           -0.9292681967459294,
           null,
           null,
           null,
           null,
           0.9999999999986608,
           null,
           null,
           null,
           null,
           null,
           null,
           -0.74038581239778,
           0.7415169245090708,
           null,
           null
          ],
          [
           null,
           null,
           null,
           null,
           null,
           null,
           null,
           null,
           null,
           null,
           null,
           null,
           null,
           null,
           null,
           null,
           null,
           null,
           null,
           null,
           null,
           null,
           null,
           null,
           null,
           null,
           null,
           null,
           null,
           0.9999999999990838,
           null,
           null,
           null,
           null,
           null,
           null,
           null,
           null,
           null
          ],
          [
           null,
           null,
           null,
           null,
           null,
           null,
           null,
           null,
           null,
           null,
           null,
           null,
           null,
           null,
           null,
           null,
           null,
           null,
           null,
           null,
           null,
           null,
           null,
           null,
           null,
           null,
           null,
           null,
           null,
           null,
           1.000000000005668,
           null,
           null,
           null,
           null,
           null,
           null,
           null,
           null
          ],
          [
           null,
           null,
           null,
           null,
           null,
           null,
           null,
           null,
           null,
           null,
           null,
           null,
           null,
           null,
           null,
           null,
           null,
           null,
           null,
           null,
           null,
           null,
           null,
           null,
           0.8855366609840251,
           null,
           null,
           null,
           null,
           null,
           null,
           1.0000000000052192,
           null,
           null,
           null,
           null,
           null,
           null,
           null
          ],
          [
           null,
           null,
           null,
           null,
           null,
           null,
           null,
           null,
           null,
           null,
           null,
           null,
           null,
           null,
           null,
           null,
           null,
           null,
           null,
           null,
           null,
           null,
           null,
           null,
           null,
           null,
           null,
           null,
           null,
           null,
           null,
           null,
           1.0000000000007658,
           -0.9242980700549144,
           null,
           null,
           null,
           null,
           null
          ],
          [
           null,
           null,
           null,
           null,
           null,
           null,
           null,
           null,
           null,
           null,
           null,
           null,
           null,
           null,
           null,
           null,
           null,
           null,
           null,
           null,
           null,
           null,
           null,
           null,
           null,
           null,
           null,
           null,
           null,
           null,
           null,
           null,
           -0.9242980700549144,
           0.9999999999989791,
           null,
           null,
           null,
           null,
           null
          ],
          [
           null,
           null,
           null,
           null,
           null,
           null,
           null,
           null,
           null,
           null,
           null,
           null,
           null,
           null,
           null,
           null,
           null,
           null,
           null,
           null,
           null,
           null,
           null,
           null,
           null,
           null,
           null,
           null,
           null,
           null,
           null,
           null,
           null,
           null,
           1.000000000000504,
           null,
           null,
           null,
           null
          ],
          [
           null,
           null,
           null,
           null,
           null,
           null,
           null,
           null,
           null,
           null,
           null,
           null,
           null,
           null,
           null,
           null,
           null,
           null,
           null,
           null,
           null,
           null,
           null,
           0.772689361505143,
           null,
           null,
           null,
           null,
           -0.74038581239778,
           null,
           null,
           null,
           null,
           null,
           null,
           1.0000000000021942,
           -0.9989159117867991,
           null,
           null
          ],
          [
           null,
           null,
           null,
           null,
           null,
           null,
           null,
           null,
           null,
           null,
           null,
           null,
           null,
           null,
           null,
           null,
           null,
           null,
           null,
           null,
           null,
           null,
           null,
           -0.773894014078671,
           null,
           null,
           null,
           null,
           0.7415169245090708,
           null,
           null,
           null,
           null,
           null,
           null,
           -0.9989159117867991,
           0.9999999999972331,
           null,
           null
          ],
          [
           null,
           null,
           null,
           null,
           null,
           null,
           null,
           null,
           null,
           null,
           null,
           null,
           null,
           null,
           null,
           null,
           null,
           null,
           null,
           null,
           null,
           null,
           null,
           null,
           null,
           null,
           null,
           null,
           null,
           null,
           null,
           null,
           null,
           null,
           null,
           null,
           null,
           0.999999999999522,
           null
          ],
          [
           null,
           null,
           null,
           null,
           null,
           null,
           null,
           null,
           null,
           null,
           null,
           null,
           null,
           null,
           null,
           null,
           null,
           null,
           null,
           null,
           null,
           null,
           null,
           null,
           null,
           null,
           null,
           null,
           null,
           null,
           null,
           null,
           null,
           null,
           null,
           null,
           null,
           null,
           1.0000000000008447
          ]
         ]
        }
       ],
       "layout": {
        "coloraxis": {
         "colorscale": [
          [
           0,
           "#0d0887"
          ],
          [
           0.1111111111111111,
           "#46039f"
          ],
          [
           0.2222222222222222,
           "#7201a8"
          ],
          [
           0.3333333333333333,
           "#9c179e"
          ],
          [
           0.4444444444444444,
           "#bd3786"
          ],
          [
           0.5555555555555556,
           "#d8576b"
          ],
          [
           0.6666666666666666,
           "#ed7953"
          ],
          [
           0.7777777777777778,
           "#fb9f3a"
          ],
          [
           0.8888888888888888,
           "#fdca26"
          ],
          [
           1,
           "#f0f921"
          ]
         ]
        },
        "height": 800,
        "margin": {
         "t": 60
        },
        "template": {
         "data": {
          "bar": [
           {
            "error_x": {
             "color": "#2a3f5f"
            },
            "error_y": {
             "color": "#2a3f5f"
            },
            "marker": {
             "line": {
              "color": "#E5ECF6",
              "width": 0.5
             },
             "pattern": {
              "fillmode": "overlay",
              "size": 10,
              "solidity": 0.2
             }
            },
            "type": "bar"
           }
          ],
          "barpolar": [
           {
            "marker": {
             "line": {
              "color": "#E5ECF6",
              "width": 0.5
             },
             "pattern": {
              "fillmode": "overlay",
              "size": 10,
              "solidity": 0.2
             }
            },
            "type": "barpolar"
           }
          ],
          "carpet": [
           {
            "aaxis": {
             "endlinecolor": "#2a3f5f",
             "gridcolor": "white",
             "linecolor": "white",
             "minorgridcolor": "white",
             "startlinecolor": "#2a3f5f"
            },
            "baxis": {
             "endlinecolor": "#2a3f5f",
             "gridcolor": "white",
             "linecolor": "white",
             "minorgridcolor": "white",
             "startlinecolor": "#2a3f5f"
            },
            "type": "carpet"
           }
          ],
          "choropleth": [
           {
            "colorbar": {
             "outlinewidth": 0,
             "ticks": ""
            },
            "type": "choropleth"
           }
          ],
          "contour": [
           {
            "colorbar": {
             "outlinewidth": 0,
             "ticks": ""
            },
            "colorscale": [
             [
              0,
              "#0d0887"
             ],
             [
              0.1111111111111111,
              "#46039f"
             ],
             [
              0.2222222222222222,
              "#7201a8"
             ],
             [
              0.3333333333333333,
              "#9c179e"
             ],
             [
              0.4444444444444444,
              "#bd3786"
             ],
             [
              0.5555555555555556,
              "#d8576b"
             ],
             [
              0.6666666666666666,
              "#ed7953"
             ],
             [
              0.7777777777777778,
              "#fb9f3a"
             ],
             [
              0.8888888888888888,
              "#fdca26"
             ],
             [
              1,
              "#f0f921"
             ]
            ],
            "type": "contour"
           }
          ],
          "contourcarpet": [
           {
            "colorbar": {
             "outlinewidth": 0,
             "ticks": ""
            },
            "type": "contourcarpet"
           }
          ],
          "heatmap": [
           {
            "colorbar": {
             "outlinewidth": 0,
             "ticks": ""
            },
            "colorscale": [
             [
              0,
              "#0d0887"
             ],
             [
              0.1111111111111111,
              "#46039f"
             ],
             [
              0.2222222222222222,
              "#7201a8"
             ],
             [
              0.3333333333333333,
              "#9c179e"
             ],
             [
              0.4444444444444444,
              "#bd3786"
             ],
             [
              0.5555555555555556,
              "#d8576b"
             ],
             [
              0.6666666666666666,
              "#ed7953"
             ],
             [
              0.7777777777777778,
              "#fb9f3a"
             ],
             [
              0.8888888888888888,
              "#fdca26"
             ],
             [
              1,
              "#f0f921"
             ]
            ],
            "type": "heatmap"
           }
          ],
          "heatmapgl": [
           {
            "colorbar": {
             "outlinewidth": 0,
             "ticks": ""
            },
            "colorscale": [
             [
              0,
              "#0d0887"
             ],
             [
              0.1111111111111111,
              "#46039f"
             ],
             [
              0.2222222222222222,
              "#7201a8"
             ],
             [
              0.3333333333333333,
              "#9c179e"
             ],
             [
              0.4444444444444444,
              "#bd3786"
             ],
             [
              0.5555555555555556,
              "#d8576b"
             ],
             [
              0.6666666666666666,
              "#ed7953"
             ],
             [
              0.7777777777777778,
              "#fb9f3a"
             ],
             [
              0.8888888888888888,
              "#fdca26"
             ],
             [
              1,
              "#f0f921"
             ]
            ],
            "type": "heatmapgl"
           }
          ],
          "histogram": [
           {
            "marker": {
             "pattern": {
              "fillmode": "overlay",
              "size": 10,
              "solidity": 0.2
             }
            },
            "type": "histogram"
           }
          ],
          "histogram2d": [
           {
            "colorbar": {
             "outlinewidth": 0,
             "ticks": ""
            },
            "colorscale": [
             [
              0,
              "#0d0887"
             ],
             [
              0.1111111111111111,
              "#46039f"
             ],
             [
              0.2222222222222222,
              "#7201a8"
             ],
             [
              0.3333333333333333,
              "#9c179e"
             ],
             [
              0.4444444444444444,
              "#bd3786"
             ],
             [
              0.5555555555555556,
              "#d8576b"
             ],
             [
              0.6666666666666666,
              "#ed7953"
             ],
             [
              0.7777777777777778,
              "#fb9f3a"
             ],
             [
              0.8888888888888888,
              "#fdca26"
             ],
             [
              1,
              "#f0f921"
             ]
            ],
            "type": "histogram2d"
           }
          ],
          "histogram2dcontour": [
           {
            "colorbar": {
             "outlinewidth": 0,
             "ticks": ""
            },
            "colorscale": [
             [
              0,
              "#0d0887"
             ],
             [
              0.1111111111111111,
              "#46039f"
             ],
             [
              0.2222222222222222,
              "#7201a8"
             ],
             [
              0.3333333333333333,
              "#9c179e"
             ],
             [
              0.4444444444444444,
              "#bd3786"
             ],
             [
              0.5555555555555556,
              "#d8576b"
             ],
             [
              0.6666666666666666,
              "#ed7953"
             ],
             [
              0.7777777777777778,
              "#fb9f3a"
             ],
             [
              0.8888888888888888,
              "#fdca26"
             ],
             [
              1,
              "#f0f921"
             ]
            ],
            "type": "histogram2dcontour"
           }
          ],
          "mesh3d": [
           {
            "colorbar": {
             "outlinewidth": 0,
             "ticks": ""
            },
            "type": "mesh3d"
           }
          ],
          "parcoords": [
           {
            "line": {
             "colorbar": {
              "outlinewidth": 0,
              "ticks": ""
             }
            },
            "type": "parcoords"
           }
          ],
          "pie": [
           {
            "automargin": true,
            "type": "pie"
           }
          ],
          "scatter": [
           {
            "marker": {
             "colorbar": {
              "outlinewidth": 0,
              "ticks": ""
             }
            },
            "type": "scatter"
           }
          ],
          "scatter3d": [
           {
            "line": {
             "colorbar": {
              "outlinewidth": 0,
              "ticks": ""
             }
            },
            "marker": {
             "colorbar": {
              "outlinewidth": 0,
              "ticks": ""
             }
            },
            "type": "scatter3d"
           }
          ],
          "scattercarpet": [
           {
            "marker": {
             "colorbar": {
              "outlinewidth": 0,
              "ticks": ""
             }
            },
            "type": "scattercarpet"
           }
          ],
          "scattergeo": [
           {
            "marker": {
             "colorbar": {
              "outlinewidth": 0,
              "ticks": ""
             }
            },
            "type": "scattergeo"
           }
          ],
          "scattergl": [
           {
            "marker": {
             "colorbar": {
              "outlinewidth": 0,
              "ticks": ""
             }
            },
            "type": "scattergl"
           }
          ],
          "scattermapbox": [
           {
            "marker": {
             "colorbar": {
              "outlinewidth": 0,
              "ticks": ""
             }
            },
            "type": "scattermapbox"
           }
          ],
          "scatterpolar": [
           {
            "marker": {
             "colorbar": {
              "outlinewidth": 0,
              "ticks": ""
             }
            },
            "type": "scatterpolar"
           }
          ],
          "scatterpolargl": [
           {
            "marker": {
             "colorbar": {
              "outlinewidth": 0,
              "ticks": ""
             }
            },
            "type": "scatterpolargl"
           }
          ],
          "scatterternary": [
           {
            "marker": {
             "colorbar": {
              "outlinewidth": 0,
              "ticks": ""
             }
            },
            "type": "scatterternary"
           }
          ],
          "surface": [
           {
            "colorbar": {
             "outlinewidth": 0,
             "ticks": ""
            },
            "colorscale": [
             [
              0,
              "#0d0887"
             ],
             [
              0.1111111111111111,
              "#46039f"
             ],
             [
              0.2222222222222222,
              "#7201a8"
             ],
             [
              0.3333333333333333,
              "#9c179e"
             ],
             [
              0.4444444444444444,
              "#bd3786"
             ],
             [
              0.5555555555555556,
              "#d8576b"
             ],
             [
              0.6666666666666666,
              "#ed7953"
             ],
             [
              0.7777777777777778,
              "#fb9f3a"
             ],
             [
              0.8888888888888888,
              "#fdca26"
             ],
             [
              1,
              "#f0f921"
             ]
            ],
            "type": "surface"
           }
          ],
          "table": [
           {
            "cells": {
             "fill": {
              "color": "#EBF0F8"
             },
             "line": {
              "color": "white"
             }
            },
            "header": {
             "fill": {
              "color": "#C8D4E3"
             },
             "line": {
              "color": "white"
             }
            },
            "type": "table"
           }
          ]
         },
         "layout": {
          "annotationdefaults": {
           "arrowcolor": "#2a3f5f",
           "arrowhead": 0,
           "arrowwidth": 1
          },
          "autotypenumbers": "strict",
          "coloraxis": {
           "colorbar": {
            "outlinewidth": 0,
            "ticks": ""
           }
          },
          "colorscale": {
           "diverging": [
            [
             0,
             "#8e0152"
            ],
            [
             0.1,
             "#c51b7d"
            ],
            [
             0.2,
             "#de77ae"
            ],
            [
             0.3,
             "#f1b6da"
            ],
            [
             0.4,
             "#fde0ef"
            ],
            [
             0.5,
             "#f7f7f7"
            ],
            [
             0.6,
             "#e6f5d0"
            ],
            [
             0.7,
             "#b8e186"
            ],
            [
             0.8,
             "#7fbc41"
            ],
            [
             0.9,
             "#4d9221"
            ],
            [
             1,
             "#276419"
            ]
           ],
           "sequential": [
            [
             0,
             "#0d0887"
            ],
            [
             0.1111111111111111,
             "#46039f"
            ],
            [
             0.2222222222222222,
             "#7201a8"
            ],
            [
             0.3333333333333333,
             "#9c179e"
            ],
            [
             0.4444444444444444,
             "#bd3786"
            ],
            [
             0.5555555555555556,
             "#d8576b"
            ],
            [
             0.6666666666666666,
             "#ed7953"
            ],
            [
             0.7777777777777778,
             "#fb9f3a"
            ],
            [
             0.8888888888888888,
             "#fdca26"
            ],
            [
             1,
             "#f0f921"
            ]
           ],
           "sequentialminus": [
            [
             0,
             "#0d0887"
            ],
            [
             0.1111111111111111,
             "#46039f"
            ],
            [
             0.2222222222222222,
             "#7201a8"
            ],
            [
             0.3333333333333333,
             "#9c179e"
            ],
            [
             0.4444444444444444,
             "#bd3786"
            ],
            [
             0.5555555555555556,
             "#d8576b"
            ],
            [
             0.6666666666666666,
             "#ed7953"
            ],
            [
             0.7777777777777778,
             "#fb9f3a"
            ],
            [
             0.8888888888888888,
             "#fdca26"
            ],
            [
             1,
             "#f0f921"
            ]
           ]
          },
          "colorway": [
           "#636efa",
           "#EF553B",
           "#00cc96",
           "#ab63fa",
           "#FFA15A",
           "#19d3f3",
           "#FF6692",
           "#B6E880",
           "#FF97FF",
           "#FECB52"
          ],
          "font": {
           "color": "#2a3f5f"
          },
          "geo": {
           "bgcolor": "white",
           "lakecolor": "white",
           "landcolor": "#E5ECF6",
           "showlakes": true,
           "showland": true,
           "subunitcolor": "white"
          },
          "hoverlabel": {
           "align": "left"
          },
          "hovermode": "closest",
          "mapbox": {
           "style": "light"
          },
          "paper_bgcolor": "white",
          "plot_bgcolor": "#E5ECF6",
          "polar": {
           "angularaxis": {
            "gridcolor": "white",
            "linecolor": "white",
            "ticks": ""
           },
           "bgcolor": "#E5ECF6",
           "radialaxis": {
            "gridcolor": "white",
            "linecolor": "white",
            "ticks": ""
           }
          },
          "scene": {
           "xaxis": {
            "backgroundcolor": "#E5ECF6",
            "gridcolor": "white",
            "gridwidth": 2,
            "linecolor": "white",
            "showbackground": true,
            "ticks": "",
            "zerolinecolor": "white"
           },
           "yaxis": {
            "backgroundcolor": "#E5ECF6",
            "gridcolor": "white",
            "gridwidth": 2,
            "linecolor": "white",
            "showbackground": true,
            "ticks": "",
            "zerolinecolor": "white"
           },
           "zaxis": {
            "backgroundcolor": "#E5ECF6",
            "gridcolor": "white",
            "gridwidth": 2,
            "linecolor": "white",
            "showbackground": true,
            "ticks": "",
            "zerolinecolor": "white"
           }
          },
          "shapedefaults": {
           "line": {
            "color": "#2a3f5f"
           }
          },
          "ternary": {
           "aaxis": {
            "gridcolor": "white",
            "linecolor": "white",
            "ticks": ""
           },
           "baxis": {
            "gridcolor": "white",
            "linecolor": "white",
            "ticks": ""
           },
           "bgcolor": "#E5ECF6",
           "caxis": {
            "gridcolor": "white",
            "linecolor": "white",
            "ticks": ""
           }
          },
          "title": {
           "x": 0.05
          },
          "xaxis": {
           "automargin": true,
           "gridcolor": "white",
           "linecolor": "white",
           "ticks": "",
           "title": {
            "standoff": 15
           },
           "zerolinecolor": "white",
           "zerolinewidth": 2
          },
          "yaxis": {
           "automargin": true,
           "gridcolor": "white",
           "linecolor": "white",
           "ticks": "",
           "title": {
            "standoff": 15
           },
           "zerolinecolor": "white",
           "zerolinewidth": 2
          }
         }
        },
        "width": 800,
        "xaxis": {
         "anchor": "y",
         "constrain": "domain",
         "domain": [
          0,
          1
         ],
         "scaleanchor": "y"
        },
        "yaxis": {
         "anchor": "x",
         "autorange": "reversed",
         "constrain": "domain",
         "domain": [
          0,
          1
         ]
        }
       }
      }
     },
     "metadata": {},
     "output_type": "display_data"
    },
    {
     "name": "stdout",
     "output_type": "stream",
     "text": [
      "Deleted 39 columns\n"
     ]
    }
   ],
   "source": [
    "# чтобы исключить мультиколлениарность удалим признаки, сильно коррелирующий с другим признаком\n",
    "pivot = hotels.corr()\n",
    "pivot = pivot.drop('sample', axis=0)\n",
    "pivot = pivot.drop('sample', axis=1)\n",
    "for col in pivot:\n",
    "    pivot[col] = pivot[col].apply(lambda x: np.nan if (abs(x) < 0.72 or x == 1) else x)\n",
    "for col in pivot:\n",
    "    pivot = pivot.dropna(how='all')\n",
    "    pivot = pivot.dropna(how='all', axis='columns')\n",
    "fig = px.imshow(pivot)\n",
    "fig.layout.height = 800\n",
    "fig.layout.width = 800\n",
    "fig.show()\n",
    "\n",
    "# постараемся удалить как можно меньше признаков. Сначала удаляем признаки с максимальной корреляцией\n",
    "counter = 0\n",
    "for lower_bound in np.linspace(0.98, 0.72, num=14):\n",
    "    for col in pivot:\n",
    "        if pivot[col].max() > lower_bound or pivot[col].min() < -lower_bound:\n",
    "            pivot = pivot.drop(col, axis=0)\n",
    "            pivot = pivot.drop(col, axis=1)\n",
    "            data = hotels.drop(col, axis=1)\n",
    "            counter += 1\n",
    "print('Deleted', counter, 'columns')"
   ]
  },
  {
   "cell_type": "markdown",
   "id": "d452956b",
   "metadata": {
    "papermill": {
     "duration": 0.312847,
     "end_time": "2022-04-13T00:11:59.887797",
     "exception": false,
     "start_time": "2022-04-13T00:11:59.574950",
     "status": "completed"
    },
    "tags": []
   },
   "source": [
    "# 4. Обучение модели"
   ]
  },
  {
   "cell_type": "code",
   "execution_count": 76,
   "id": "7bd3173b",
   "metadata": {
    "execution": {
     "iopub.execute_input": "2022-04-13T00:12:00.521038Z",
     "iopub.status.busy": "2022-04-13T00:12:00.520312Z",
     "iopub.status.idle": "2022-04-13T00:12:00.711719Z",
     "shell.execute_reply": "2022-04-13T00:12:00.711053Z",
     "shell.execute_reply.started": "2022-04-12T23:55:40.662868Z"
    },
    "papermill": {
     "duration": 0.508351,
     "end_time": "2022-04-13T00:12:00.711874",
     "exception": false,
     "start_time": "2022-04-13T00:12:00.203523",
     "status": "completed"
    },
    "tags": []
   },
   "outputs": [
    {
     "data": {
      "text/html": [
       "<div>\n",
       "<style scoped>\n",
       "    .dataframe tbody tr th:only-of-type {\n",
       "        vertical-align: middle;\n",
       "    }\n",
       "\n",
       "    .dataframe tbody tr th {\n",
       "        vertical-align: top;\n",
       "    }\n",
       "\n",
       "    .dataframe thead th {\n",
       "        text-align: right;\n",
       "    }\n",
       "</style>\n",
       "<table border=\"1\" class=\"dataframe\">\n",
       "  <thead>\n",
       "    <tr style=\"text-align: right;\">\n",
       "      <th></th>\n",
       "      <th>reviewer_nationality</th>\n",
       "      <th>review_total_negative_word_counts</th>\n",
       "      <th>review_total_positive_word_counts</th>\n",
       "      <th>total_number_of_reviews_reviewer_has_given</th>\n",
       "      <th>reviewer_score</th>\n",
       "      <th>lat</th>\n",
       "      <th>lng</th>\n",
       "      <th>average_score</th>\n",
       "      <th>total_number_of_reviews</th>\n",
       "      <th>additional_number_of_scoring</th>\n",
       "      <th>...</th>\n",
       "      <th>n_neu</th>\n",
       "      <th>n_pos</th>\n",
       "      <th>n_compound</th>\n",
       "      <th>p_neg</th>\n",
       "      <th>p_neu</th>\n",
       "      <th>p_pos</th>\n",
       "      <th>p_compound</th>\n",
       "      <th>%_positive_words_in_review</th>\n",
       "      <th>%_negative_words_in_review</th>\n",
       "      <th>#_positive_words_per_review</th>\n",
       "    </tr>\n",
       "  </thead>\n",
       "  <tbody>\n",
       "    <tr>\n",
       "      <th>128935</th>\n",
       "      <td>13</td>\n",
       "      <td>3</td>\n",
       "      <td>4</td>\n",
       "      <td>7</td>\n",
       "      <td>10.0</td>\n",
       "      <td>51.507894</td>\n",
       "      <td>-0.143671</td>\n",
       "      <td>8.4</td>\n",
       "      <td>1994</td>\n",
       "      <td>581</td>\n",
       "      <td>...</td>\n",
       "      <td>1.000</td>\n",
       "      <td>0.0</td>\n",
       "      <td>0.0000</td>\n",
       "      <td>0.000</td>\n",
       "      <td>0.345</td>\n",
       "      <td>0.655</td>\n",
       "      <td>0.5859</td>\n",
       "      <td>0.571429</td>\n",
       "      <td>0.428571</td>\n",
       "      <td>0.571429</td>\n",
       "    </tr>\n",
       "    <tr>\n",
       "      <th>128936</th>\n",
       "      <td>13</td>\n",
       "      <td>3</td>\n",
       "      <td>2</td>\n",
       "      <td>14</td>\n",
       "      <td>6.3</td>\n",
       "      <td>51.521009</td>\n",
       "      <td>-0.123097</td>\n",
       "      <td>8.3</td>\n",
       "      <td>1361</td>\n",
       "      <td>299</td>\n",
       "      <td>...</td>\n",
       "      <td>0.244</td>\n",
       "      <td>0.0</td>\n",
       "      <td>-0.4767</td>\n",
       "      <td>0.000</td>\n",
       "      <td>1.000</td>\n",
       "      <td>0.000</td>\n",
       "      <td>0.0000</td>\n",
       "      <td>0.400000</td>\n",
       "      <td>0.600000</td>\n",
       "      <td>0.142857</td>\n",
       "    </tr>\n",
       "    <tr>\n",
       "      <th>128937</th>\n",
       "      <td>15</td>\n",
       "      <td>6</td>\n",
       "      <td>0</td>\n",
       "      <td>14</td>\n",
       "      <td>7.5</td>\n",
       "      <td>48.845377</td>\n",
       "      <td>2.325643</td>\n",
       "      <td>8.9</td>\n",
       "      <td>406</td>\n",
       "      <td>32</td>\n",
       "      <td>...</td>\n",
       "      <td>0.577</td>\n",
       "      <td>0.0</td>\n",
       "      <td>-0.2960</td>\n",
       "      <td>0.379</td>\n",
       "      <td>0.000</td>\n",
       "      <td>0.621</td>\n",
       "      <td>0.3400</td>\n",
       "      <td>0.000000</td>\n",
       "      <td>1.000000</td>\n",
       "      <td>0.000000</td>\n",
       "    </tr>\n",
       "    <tr>\n",
       "      <th>128938</th>\n",
       "      <td>13</td>\n",
       "      <td>0</td>\n",
       "      <td>11</td>\n",
       "      <td>8</td>\n",
       "      <td>10.0</td>\n",
       "      <td>48.888697</td>\n",
       "      <td>2.394540</td>\n",
       "      <td>7.5</td>\n",
       "      <td>607</td>\n",
       "      <td>34</td>\n",
       "      <td>...</td>\n",
       "      <td>0.000</td>\n",
       "      <td>0.0</td>\n",
       "      <td>0.0000</td>\n",
       "      <td>0.000</td>\n",
       "      <td>0.279</td>\n",
       "      <td>0.721</td>\n",
       "      <td>0.9169</td>\n",
       "      <td>1.000000</td>\n",
       "      <td>0.000000</td>\n",
       "      <td>1.375000</td>\n",
       "    </tr>\n",
       "    <tr>\n",
       "      <th>128939</th>\n",
       "      <td>15</td>\n",
       "      <td>4</td>\n",
       "      <td>20</td>\n",
       "      <td>10</td>\n",
       "      <td>9.6</td>\n",
       "      <td>52.385601</td>\n",
       "      <td>4.847060</td>\n",
       "      <td>8.5</td>\n",
       "      <td>7586</td>\n",
       "      <td>914</td>\n",
       "      <td>...</td>\n",
       "      <td>0.333</td>\n",
       "      <td>0.0</td>\n",
       "      <td>-0.2500</td>\n",
       "      <td>0.000</td>\n",
       "      <td>0.618</td>\n",
       "      <td>0.382</td>\n",
       "      <td>0.8503</td>\n",
       "      <td>0.833333</td>\n",
       "      <td>0.166667</td>\n",
       "      <td>2.000000</td>\n",
       "    </tr>\n",
       "    <tr>\n",
       "      <th>...</th>\n",
       "      <td>...</td>\n",
       "      <td>...</td>\n",
       "      <td>...</td>\n",
       "      <td>...</td>\n",
       "      <td>...</td>\n",
       "      <td>...</td>\n",
       "      <td>...</td>\n",
       "      <td>...</td>\n",
       "      <td>...</td>\n",
       "      <td>...</td>\n",
       "      <td>...</td>\n",
       "      <td>...</td>\n",
       "      <td>...</td>\n",
       "      <td>...</td>\n",
       "      <td>...</td>\n",
       "      <td>...</td>\n",
       "      <td>...</td>\n",
       "      <td>...</td>\n",
       "      <td>...</td>\n",
       "      <td>...</td>\n",
       "      <td>...</td>\n",
       "    </tr>\n",
       "    <tr>\n",
       "      <th>515733</th>\n",
       "      <td>3</td>\n",
       "      <td>0</td>\n",
       "      <td>10</td>\n",
       "      <td>10</td>\n",
       "      <td>8.8</td>\n",
       "      <td>51.494028</td>\n",
       "      <td>-0.191050</td>\n",
       "      <td>9.0</td>\n",
       "      <td>617</td>\n",
       "      <td>107</td>\n",
       "      <td>...</td>\n",
       "      <td>0.000</td>\n",
       "      <td>0.0</td>\n",
       "      <td>0.0000</td>\n",
       "      <td>0.000</td>\n",
       "      <td>1.000</td>\n",
       "      <td>0.000</td>\n",
       "      <td>0.0000</td>\n",
       "      <td>1.000000</td>\n",
       "      <td>0.000000</td>\n",
       "      <td>1.000000</td>\n",
       "    </tr>\n",
       "    <tr>\n",
       "      <th>515734</th>\n",
       "      <td>11</td>\n",
       "      <td>0</td>\n",
       "      <td>93</td>\n",
       "      <td>1</td>\n",
       "      <td>9.2</td>\n",
       "      <td>48.192379</td>\n",
       "      <td>16.399451</td>\n",
       "      <td>8.4</td>\n",
       "      <td>3224</td>\n",
       "      <td>272</td>\n",
       "      <td>...</td>\n",
       "      <td>0.000</td>\n",
       "      <td>0.0</td>\n",
       "      <td>0.0000</td>\n",
       "      <td>0.045</td>\n",
       "      <td>0.857</td>\n",
       "      <td>0.098</td>\n",
       "      <td>0.7264</td>\n",
       "      <td>1.000000</td>\n",
       "      <td>0.000000</td>\n",
       "      <td>93.000000</td>\n",
       "    </tr>\n",
       "    <tr>\n",
       "      <th>515735</th>\n",
       "      <td>8</td>\n",
       "      <td>12</td>\n",
       "      <td>9</td>\n",
       "      <td>21</td>\n",
       "      <td>8.3</td>\n",
       "      <td>51.520795</td>\n",
       "      <td>-0.131084</td>\n",
       "      <td>6.8</td>\n",
       "      <td>2751</td>\n",
       "      <td>457</td>\n",
       "      <td>...</td>\n",
       "      <td>1.000</td>\n",
       "      <td>0.0</td>\n",
       "      <td>0.0000</td>\n",
       "      <td>0.000</td>\n",
       "      <td>0.465</td>\n",
       "      <td>0.535</td>\n",
       "      <td>0.7845</td>\n",
       "      <td>0.428571</td>\n",
       "      <td>0.571429</td>\n",
       "      <td>0.428571</td>\n",
       "    </tr>\n",
       "    <tr>\n",
       "      <th>515736</th>\n",
       "      <td>12</td>\n",
       "      <td>0</td>\n",
       "      <td>6</td>\n",
       "      <td>28</td>\n",
       "      <td>9.2</td>\n",
       "      <td>51.515125</td>\n",
       "      <td>-0.160066</td>\n",
       "      <td>8.1</td>\n",
       "      <td>1567</td>\n",
       "      <td>365</td>\n",
       "      <td>...</td>\n",
       "      <td>0.000</td>\n",
       "      <td>0.0</td>\n",
       "      <td>0.0000</td>\n",
       "      <td>0.000</td>\n",
       "      <td>1.000</td>\n",
       "      <td>0.000</td>\n",
       "      <td>0.0000</td>\n",
       "      <td>1.000000</td>\n",
       "      <td>0.000000</td>\n",
       "      <td>0.214286</td>\n",
       "    </tr>\n",
       "    <tr>\n",
       "      <th>515737</th>\n",
       "      <td>0</td>\n",
       "      <td>20</td>\n",
       "      <td>20</td>\n",
       "      <td>2</td>\n",
       "      <td>8.8</td>\n",
       "      <td>51.493109</td>\n",
       "      <td>-0.190208</td>\n",
       "      <td>9.0</td>\n",
       "      <td>1209</td>\n",
       "      <td>222</td>\n",
       "      <td>...</td>\n",
       "      <td>1.000</td>\n",
       "      <td>0.0</td>\n",
       "      <td>0.0000</td>\n",
       "      <td>0.000</td>\n",
       "      <td>0.458</td>\n",
       "      <td>0.542</td>\n",
       "      <td>0.9366</td>\n",
       "      <td>0.500000</td>\n",
       "      <td>0.500000</td>\n",
       "      <td>10.000000</td>\n",
       "    </tr>\n",
       "  </tbody>\n",
       "</table>\n",
       "<p>386803 rows × 38 columns</p>\n",
       "</div>"
      ],
      "text/plain": [
       "        reviewer_nationality  review_total_negative_word_counts  \\\n",
       "128935                    13                                  3   \n",
       "128936                    13                                  3   \n",
       "128937                    15                                  6   \n",
       "128938                    13                                  0   \n",
       "128939                    15                                  4   \n",
       "...                      ...                                ...   \n",
       "515733                     3                                  0   \n",
       "515734                    11                                  0   \n",
       "515735                     8                                 12   \n",
       "515736                    12                                  0   \n",
       "515737                     0                                 20   \n",
       "\n",
       "        review_total_positive_word_counts  \\\n",
       "128935                                  4   \n",
       "128936                                  2   \n",
       "128937                                  0   \n",
       "128938                                 11   \n",
       "128939                                 20   \n",
       "...                                   ...   \n",
       "515733                                 10   \n",
       "515734                                 93   \n",
       "515735                                  9   \n",
       "515736                                  6   \n",
       "515737                                 20   \n",
       "\n",
       "        total_number_of_reviews_reviewer_has_given  reviewer_score        lat  \\\n",
       "128935                                           7            10.0  51.507894   \n",
       "128936                                          14             6.3  51.521009   \n",
       "128937                                          14             7.5  48.845377   \n",
       "128938                                           8            10.0  48.888697   \n",
       "128939                                          10             9.6  52.385601   \n",
       "...                                            ...             ...        ...   \n",
       "515733                                          10             8.8  51.494028   \n",
       "515734                                           1             9.2  48.192379   \n",
       "515735                                          21             8.3  51.520795   \n",
       "515736                                          28             9.2  51.515125   \n",
       "515737                                           2             8.8  51.493109   \n",
       "\n",
       "              lng  average_score  total_number_of_reviews  \\\n",
       "128935  -0.143671            8.4                     1994   \n",
       "128936  -0.123097            8.3                     1361   \n",
       "128937   2.325643            8.9                      406   \n",
       "128938   2.394540            7.5                      607   \n",
       "128939   4.847060            8.5                     7586   \n",
       "...           ...            ...                      ...   \n",
       "515733  -0.191050            9.0                      617   \n",
       "515734  16.399451            8.4                     3224   \n",
       "515735  -0.131084            6.8                     2751   \n",
       "515736  -0.160066            8.1                     1567   \n",
       "515737  -0.190208            9.0                     1209   \n",
       "\n",
       "        additional_number_of_scoring  ...  n_neu  n_pos  n_compound  p_neg  \\\n",
       "128935                           581  ...  1.000    0.0      0.0000  0.000   \n",
       "128936                           299  ...  0.244    0.0     -0.4767  0.000   \n",
       "128937                            32  ...  0.577    0.0     -0.2960  0.379   \n",
       "128938                            34  ...  0.000    0.0      0.0000  0.000   \n",
       "128939                           914  ...  0.333    0.0     -0.2500  0.000   \n",
       "...                              ...  ...    ...    ...         ...    ...   \n",
       "515733                           107  ...  0.000    0.0      0.0000  0.000   \n",
       "515734                           272  ...  0.000    0.0      0.0000  0.045   \n",
       "515735                           457  ...  1.000    0.0      0.0000  0.000   \n",
       "515736                           365  ...  0.000    0.0      0.0000  0.000   \n",
       "515737                           222  ...  1.000    0.0      0.0000  0.000   \n",
       "\n",
       "        p_neu  p_pos  p_compound  %_positive_words_in_review  \\\n",
       "128935  0.345  0.655      0.5859                    0.571429   \n",
       "128936  1.000  0.000      0.0000                    0.400000   \n",
       "128937  0.000  0.621      0.3400                    0.000000   \n",
       "128938  0.279  0.721      0.9169                    1.000000   \n",
       "128939  0.618  0.382      0.8503                    0.833333   \n",
       "...       ...    ...         ...                         ...   \n",
       "515733  1.000  0.000      0.0000                    1.000000   \n",
       "515734  0.857  0.098      0.7264                    1.000000   \n",
       "515735  0.465  0.535      0.7845                    0.428571   \n",
       "515736  1.000  0.000      0.0000                    1.000000   \n",
       "515737  0.458  0.542      0.9366                    0.500000   \n",
       "\n",
       "        %_negative_words_in_review  #_positive_words_per_review  \n",
       "128935                    0.428571                     0.571429  \n",
       "128936                    0.600000                     0.142857  \n",
       "128937                    1.000000                     0.000000  \n",
       "128938                    0.000000                     1.375000  \n",
       "128939                    0.166667                     2.000000  \n",
       "...                            ...                          ...  \n",
       "515733                    0.000000                     1.000000  \n",
       "515734                    0.000000                    93.000000  \n",
       "515735                    0.571429                     0.428571  \n",
       "515736                    0.000000                     0.214286  \n",
       "515737                    0.500000                    10.000000  \n",
       "\n",
       "[386803 rows x 38 columns]"
      ]
     },
     "execution_count": 76,
     "metadata": {},
     "output_type": "execute_result"
    }
   ],
   "source": [
    "# Теперь выделим тестовую часть\n",
    "train_data = data.query('sample == 1').drop(['sample'], axis=1)\n",
    "test_data = data.query('sample == 0').drop(['sample'], axis=1)\n",
    "\n",
    "y = train_data.reviewer_score.values\n",
    "X = train_data.drop(['reviewer_score'], axis=1)\n",
    "train_data"
   ]
  },
  {
   "cell_type": "code",
   "execution_count": 77,
   "id": "43af676c",
   "metadata": {
    "execution": {
     "iopub.execute_input": "2022-04-13T00:12:01.342376Z",
     "iopub.status.busy": "2022-04-13T00:12:01.341545Z",
     "iopub.status.idle": "2022-04-13T00:12:01.511366Z",
     "shell.execute_reply": "2022-04-13T00:12:01.510839Z",
     "shell.execute_reply.started": "2022-04-12T23:58:40.333807Z"
    },
    "papermill": {
     "duration": 0.48862,
     "end_time": "2022-04-13T00:12:01.511517",
     "exception": false,
     "start_time": "2022-04-13T00:12:01.022897",
     "status": "completed"
    },
    "tags": []
   },
   "outputs": [],
   "source": [
    "# Разделяем тренинговый датасет: 80% на обучение, 20% на валидацию\n",
    "from sklearn.model_selection import train_test_split  \n",
    "X_train, X_test, y_train, y_test = train_test_split(X, y, test_size=0.2, random_state=RANDOM_SEED)"
   ]
  },
  {
   "cell_type": "code",
   "execution_count": 78,
   "id": "48972469",
   "metadata": {
    "execution": {
     "iopub.execute_input": "2022-04-13T00:12:02.143624Z",
     "iopub.status.busy": "2022-04-13T00:12:02.142810Z",
     "iopub.status.idle": "2022-04-13T00:12:02.149889Z",
     "shell.execute_reply": "2022-04-13T00:12:02.150577Z",
     "shell.execute_reply.started": "2022-04-12T23:58:44.238541Z"
    },
    "papermill": {
     "duration": 0.330875,
     "end_time": "2022-04-13T00:12:02.150870",
     "exception": false,
     "start_time": "2022-04-13T00:12:01.819995",
     "status": "completed"
    },
    "tags": []
   },
   "outputs": [
    {
     "data": {
      "text/plain": [
       "((128935, 38), (386803, 38), (386803, 37), (309442, 37), (77361, 37))"
      ]
     },
     "execution_count": 78,
     "metadata": {},
     "output_type": "execute_result"
    }
   ],
   "source": [
    "# проверяем размерности получившихся датасетов\n",
    "test_data.shape, train_data.shape, X.shape, X_train.shape, X_test.shape"
   ]
  },
  {
   "cell_type": "code",
   "execution_count": 79,
   "id": "ff9da9bc",
   "metadata": {
    "execution": {
     "iopub.execute_input": "2022-04-13T00:12:02.781996Z",
     "iopub.status.busy": "2022-04-13T00:12:02.781328Z",
     "iopub.status.idle": "2022-04-13T00:12:02.872394Z",
     "shell.execute_reply": "2022-04-13T00:12:02.872907Z",
     "shell.execute_reply.started": "2022-04-12T23:59:16.951961Z"
    },
    "papermill": {
     "duration": 0.404868,
     "end_time": "2022-04-13T00:12:02.873109",
     "exception": false,
     "start_time": "2022-04-13T00:12:02.468241",
     "status": "completed"
    },
    "tags": []
   },
   "outputs": [],
   "source": [
    "# Импортируем необходимые библиотеки:  \n",
    "from sklearn.ensemble import RandomForestRegressor # инструмент для создания и обучения модели  \n",
    "from sklearn import metrics # инструменты для оценки точности модели\n",
    "model = RandomForestRegressor(n_estimators=100, verbose=1, n_jobs=-1, random_state=RANDOM_SEED)"
   ]
  },
  {
   "cell_type": "code",
   "execution_count": 80,
   "id": "f00ad54c",
   "metadata": {
    "execution": {
     "iopub.execute_input": "2022-04-13T00:12:03.499301Z",
     "iopub.status.busy": "2022-04-13T00:12:03.498467Z",
     "iopub.status.idle": "2022-04-13T00:16:04.493873Z",
     "shell.execute_reply": "2022-04-13T00:16:04.493337Z",
     "shell.execute_reply.started": "2022-04-12T23:59:20.143456Z"
    },
    "papermill": {
     "duration": 241.310343,
     "end_time": "2022-04-13T00:16:04.494038",
     "exception": false,
     "start_time": "2022-04-13T00:12:03.183695",
     "status": "completed"
    },
    "tags": []
   },
   "outputs": [
    {
     "name": "stderr",
     "output_type": "stream",
     "text": [
      "[Parallel(n_jobs=-1)]: Using backend ThreadingBackend with 8 concurrent workers.\n",
      "[Parallel(n_jobs=-1)]: Done  34 tasks      | elapsed:  1.1min\n",
      "[Parallel(n_jobs=-1)]: Done 100 out of 100 | elapsed:  3.3min finished\n",
      "[Parallel(n_jobs=8)]: Using backend ThreadingBackend with 8 concurrent workers.\n",
      "[Parallel(n_jobs=8)]: Done  34 tasks      | elapsed:    0.5s\n",
      "[Parallel(n_jobs=8)]: Done 100 out of 100 | elapsed:    1.6s finished\n"
     ]
    }
   ],
   "source": [
    "# Обучаем модель\n",
    "model.fit(X_train, y_train)\n",
    "\n",
    "# Предсказанные значения записываем в переменную y_pred\n",
    "y_pred = model.predict(X_test)"
   ]
  },
  {
   "cell_type": "code",
   "execution_count": 81,
   "id": "bcc4d0a9",
   "metadata": {
    "execution": {
     "iopub.execute_input": "2022-04-13T00:16:05.133639Z",
     "iopub.status.busy": "2022-04-13T00:16:05.132537Z",
     "iopub.status.idle": "2022-04-13T00:16:05.136992Z",
     "shell.execute_reply": "2022-04-13T00:16:05.137504Z",
     "shell.execute_reply.started": "2022-04-13T00:03:57.144193Z"
    },
    "papermill": {
     "duration": 0.327797,
     "end_time": "2022-04-13T00:16:05.137713",
     "exception": false,
     "start_time": "2022-04-13T00:16:04.809916",
     "status": "completed"
    },
    "tags": []
   },
   "outputs": [],
   "source": [
    "# Пишем свою функцию Mean Absolute Percentage Error (MAPE)\n",
    "def mean_absolute_percentage_error(y_true, y_pred): \n",
    "    y_true, y_pred = np.array(y_true), np.array(y_pred)\n",
    "    return np.mean(np.abs((y_true - y_pred) / y_true)) * 100"
   ]
  },
  {
   "cell_type": "code",
   "execution_count": 82,
   "id": "79625fc3",
   "metadata": {
    "execution": {
     "iopub.execute_input": "2022-04-13T00:16:05.770486Z",
     "iopub.status.busy": "2022-04-13T00:16:05.769564Z",
     "iopub.status.idle": "2022-04-13T00:16:05.776826Z",
     "shell.execute_reply": "2022-04-13T00:16:05.777480Z",
     "shell.execute_reply.started": "2022-04-13T00:04:00.557533Z"
    },
    "papermill": {
     "duration": 0.326813,
     "end_time": "2022-04-13T00:16:05.777746",
     "exception": false,
     "start_time": "2022-04-13T00:16:05.450933",
     "status": "completed"
    },
    "tags": []
   },
   "outputs": [
    {
     "name": "stdout",
     "output_type": "stream",
     "text": [
      "MAE: 0.861977075658277\n",
      "MAPE: 12.235265289547751\n"
     ]
    }
   ],
   "source": [
    "# Сравниваем предсказанные значения (y_pred) с реальными (y_test), и смотрим насколько они в среднем отличаются\n",
    "# Метрика называется Mean Absolute Error (MAE) и показывает среднее отклонение предсказанных значений от фактических.\n",
    "\n",
    "print('MAE:', metrics.mean_absolute_error(y_test, y_pred))\n",
    "print('MAPE:', mean_absolute_percentage_error(y_test, y_pred))"
   ]
  },
  {
   "cell_type": "code",
   "execution_count": 83,
   "id": "e96b19b6",
   "metadata": {
    "execution": {
     "iopub.execute_input": "2022-04-13T00:16:06.409086Z",
     "iopub.status.busy": "2022-04-13T00:16:06.405950Z",
     "iopub.status.idle": "2022-04-13T00:16:06.874345Z",
     "shell.execute_reply": "2022-04-13T00:16:06.873752Z",
     "shell.execute_reply.started": "2022-04-13T00:04:18.649595Z"
    },
    "papermill": {
     "duration": 0.782639,
     "end_time": "2022-04-13T00:16:06.874488",
     "exception": false,
     "start_time": "2022-04-13T00:16:06.091849",
     "status": "completed"
    },
    "tags": []
   },
   "outputs": [
    {
     "data": {
      "text/plain": [
       "<AxesSubplot:>"
      ]
     },
     "execution_count": 83,
     "metadata": {},
     "output_type": "execute_result"
    },
    {
     "data": {
      "image/png": "[encoded data removed]",
      "text/plain": [
       "<Figure size 720x720 with 1 Axes>"
      ]
     },
     "metadata": {
      "needs_background": "light"
     },
     "output_type": "display_data"
    }
   ],
   "source": [
    "# в RandomForestRegressor есть возможность вывести самые важные признаки для модели\n",
    "plt.rcParams['figure.figsize'] = (10,10)\n",
    "feat_importances = pd.Series(model.feature_importances_, index=X.columns)\n",
    "feat_importances.nlargest(15).plot(kind='barh')"
   ]
  },
  {
   "cell_type": "code",
   "execution_count": 84,
   "id": "94a0211d",
   "metadata": {
    "execution": {
     "iopub.execute_input": "2022-04-13T00:16:07.531296Z",
     "iopub.status.busy": "2022-04-13T00:16:07.530525Z",
     "iopub.status.idle": "2022-04-13T00:16:07.546050Z",
     "shell.execute_reply": "2022-04-13T00:16:07.546543Z",
     "shell.execute_reply.started": "2022-04-13T00:04:26.788378Z"
    },
    "papermill": {
     "duration": 0.330876,
     "end_time": "2022-04-13T00:16:07.546744",
     "exception": false,
     "start_time": "2022-04-13T00:16:07.215868",
     "status": "completed"
    },
    "tags": []
   },
   "outputs": [
    {
     "name": "stdout",
     "output_type": "stream",
     "text": [
      "<class 'pandas.core.frame.DataFrame'>\n",
      "Int64Index: 128935 entries, 0 to 128934\n",
      "Data columns (total 37 columns):\n",
      " #   Column                                      Non-Null Count   Dtype  \n",
      "---  ------                                      --------------   -----  \n",
      " 0   reviewer_nationality                        128935 non-null  int32  \n",
      " 1   review_total_negative_word_counts           128935 non-null  int64  \n",
      " 2   review_total_positive_word_counts           128935 non-null  int64  \n",
      " 3   total_number_of_reviews_reviewer_has_given  128935 non-null  int64  \n",
      " 4   lat                                         128935 non-null  float64\n",
      " 5   lng                                         128935 non-null  float64\n",
      " 6   average_score                               128935 non-null  float64\n",
      " 7   total_number_of_reviews                     128935 non-null  int64  \n",
      " 8   additional_number_of_scoring                128935 non-null  int64  \n",
      " 9   city                                        128935 non-null  int32  \n",
      " 10  сity_population                             128935 non-null  int64  \n",
      " 11  country_population                          128935 non-null  int64  \n",
      " 12  %_city_pop_from_country_pop                 128935 non-null  float64\n",
      " 13  day                                         128935 non-null  int32  \n",
      " 14  month                                       128935 non-null  int32  \n",
      " 15  year                                        128935 non-null  int32  \n",
      " 16  day_of_week                                 128935 non-null  int32  \n",
      " 17  is_weekend                                  128935 non-null  int64  \n",
      " 18  is_spring                                   128935 non-null  int64  \n",
      " 19  is_summer                                   128935 non-null  int64  \n",
      " 20  is_autumn                                   128935 non-null  int64  \n",
      " 21  is_winter                                   128935 non-null  int64  \n",
      " 22  no_neg                                      128935 non-null  int64  \n",
      " 23  no_pos                                      128935 non-null  int64  \n",
      " 24  neg_len                                     128935 non-null  int64  \n",
      " 25  pos_len                                     128935 non-null  int64  \n",
      " 26  n_neg                                       128935 non-null  float64\n",
      " 27  n_neu                                       128935 non-null  float64\n",
      " 28  n_pos                                       128935 non-null  float64\n",
      " 29  n_compound                                  128935 non-null  float64\n",
      " 30  p_neg                                       128935 non-null  float64\n",
      " 31  p_neu                                       128935 non-null  float64\n",
      " 32  p_pos                                       128935 non-null  float64\n",
      " 33  p_compound                                  128935 non-null  float64\n",
      " 34  %_positive_words_in_review                  128935 non-null  float64\n",
      " 35  %_negative_words_in_review                  128935 non-null  float64\n",
      " 36  #_positive_words_per_review                 128935 non-null  float64\n",
      "dtypes: float64(15), int32(6), int64(16)\n",
      "memory usage: 34.4 MB\n"
     ]
    }
   ],
   "source": [
    "test_data = test_data.drop(['reviewer_score'], axis=1)\n",
    "test_data.info()"
   ]
  },
  {
   "cell_type": "code",
   "execution_count": 85,
   "id": "1e2cd035",
   "metadata": {
    "execution": {
     "iopub.execute_input": "2022-04-13T00:16:08.173786Z",
     "iopub.status.busy": "2022-04-13T00:16:08.172983Z",
     "iopub.status.idle": "2022-04-13T00:16:11.820117Z",
     "shell.execute_reply": "2022-04-13T00:16:11.820966Z",
     "shell.execute_reply.started": "2022-04-13T00:04:30.184188Z"
    },
    "papermill": {
     "duration": 3.966679,
     "end_time": "2022-04-13T00:16:11.821235",
     "exception": false,
     "start_time": "2022-04-13T00:16:07.854556",
     "status": "completed"
    },
    "tags": []
   },
   "outputs": [
    {
     "name": "stderr",
     "output_type": "stream",
     "text": [
      "[Parallel(n_jobs=8)]: Using backend ThreadingBackend with 8 concurrent workers.\n",
      "[Parallel(n_jobs=8)]: Done  34 tasks      | elapsed:    1.0s\n",
      "[Parallel(n_jobs=8)]: Done 100 out of 100 | elapsed:    2.7s finished\n"
     ]
    }
   ],
   "source": [
    "predict_submission = model.predict(test_data)"
   ]
  },
  {
   "cell_type": "code",
   "execution_count": 86,
   "id": "74f698cd",
   "metadata": {
    "execution": {
     "iopub.execute_input": "2022-04-13T00:16:12.450603Z",
     "iopub.status.busy": "2022-04-13T00:16:12.449742Z",
     "iopub.status.idle": "2022-04-13T00:16:12.722474Z",
     "shell.execute_reply": "2022-04-13T00:16:12.721991Z",
     "shell.execute_reply.started": "2022-04-13T00:04:37.807907Z"
    },
    "papermill": {
     "duration": 0.591328,
     "end_time": "2022-04-13T00:16:12.722665",
     "exception": false,
     "start_time": "2022-04-13T00:16:12.131337",
     "status": "completed"
    },
    "tags": []
   },
   "outputs": [
    {
     "data": {
      "text/html": [
       "<div>\n",
       "<style scoped>\n",
       "    .dataframe tbody tr th:only-of-type {\n",
       "        vertical-align: middle;\n",
       "    }\n",
       "\n",
       "    .dataframe tbody tr th {\n",
       "        vertical-align: top;\n",
       "    }\n",
       "\n",
       "    .dataframe thead th {\n",
       "        text-align: right;\n",
       "    }\n",
       "</style>\n",
       "<table border=\"1\" class=\"dataframe\">\n",
       "  <thead>\n",
       "    <tr style=\"text-align: right;\">\n",
       "      <th></th>\n",
       "      <th>reviewer_score</th>\n",
       "      <th>id</th>\n",
       "    </tr>\n",
       "  </thead>\n",
       "  <tbody>\n",
       "    <tr>\n",
       "      <th>0</th>\n",
       "      <td>8.670</td>\n",
       "      <td>488440</td>\n",
       "    </tr>\n",
       "    <tr>\n",
       "      <th>1</th>\n",
       "      <td>7.316</td>\n",
       "      <td>274649</td>\n",
       "    </tr>\n",
       "    <tr>\n",
       "      <th>2</th>\n",
       "      <td>8.260</td>\n",
       "      <td>374688</td>\n",
       "    </tr>\n",
       "    <tr>\n",
       "      <th>3</th>\n",
       "      <td>9.766</td>\n",
       "      <td>404352</td>\n",
       "    </tr>\n",
       "    <tr>\n",
       "      <th>4</th>\n",
       "      <td>9.632</td>\n",
       "      <td>451596</td>\n",
       "    </tr>\n",
       "    <tr>\n",
       "      <th>5</th>\n",
       "      <td>9.442</td>\n",
       "      <td>302161</td>\n",
       "    </tr>\n",
       "    <tr>\n",
       "      <th>6</th>\n",
       "      <td>7.482</td>\n",
       "      <td>317079</td>\n",
       "    </tr>\n",
       "    <tr>\n",
       "      <th>7</th>\n",
       "      <td>7.539</td>\n",
       "      <td>13963</td>\n",
       "    </tr>\n",
       "    <tr>\n",
       "      <th>8</th>\n",
       "      <td>8.428</td>\n",
       "      <td>159785</td>\n",
       "    </tr>\n",
       "    <tr>\n",
       "      <th>9</th>\n",
       "      <td>7.398</td>\n",
       "      <td>195089</td>\n",
       "    </tr>\n",
       "  </tbody>\n",
       "</table>\n",
       "</div>"
      ],
      "text/plain": [
       "   reviewer_score      id\n",
       "0           8.670  488440\n",
       "1           7.316  274649\n",
       "2           8.260  374688\n",
       "3           9.766  404352\n",
       "4           9.632  451596\n",
       "5           9.442  302161\n",
       "6           7.482  317079\n",
       "7           7.539   13963\n",
       "8           8.428  159785\n",
       "9           7.398  195089"
      ]
     },
     "execution_count": 86,
     "metadata": {},
     "output_type": "execute_result"
    }
   ],
   "source": [
    "sample_submission['reviewer_score'] = predict_submission\n",
    "sample_submission.to_csv('submission.csv', index=False)\n",
    "sample_submission.head(10)"
   ]
  }
 ],
 "metadata": {
  "kernelspec": {
   "display_name": "Python 3",
   "language": "python",
   "name": "python3"
  },
  "language_info": {
   "codemirror_mode": {
    "name": "ipython",
    "version": 3
   },
   "file_extension": ".py",
   "mimetype": "text/x-python",
   "name": "python",
   "nbconvert_exporter": "python",
   "pygments_lexer": "ipython3",
   "version": "3.10.2"
  },
  "papermill": {
   "default_parameters": {},
   "duration": 666.652472,
   "end_time": "2022-04-13T00:16:15.156247",
   "environment_variables": {},
   "exception": null,
   "input_path": "__notebook__.ipynb",
   "output_path": "__notebook__.ipynb",
   "parameters": {},
   "start_time": "2022-04-13T00:05:08.503775",
   "version": "2.3.3"
  },
  "widgets": {
   "application/vnd.jupyter.widget-state+json": {
    "state": {
     "042c230cf31348038d5a61a1927dc866": {
      "model_module": "@jupyter-widgets/controls",
      "model_module_version": "1.5.0",
      "model_name": "DescriptionStyleModel",
      "state": {
       "_model_module": "@jupyter-widgets/controls",
       "_model_module_version": "1.5.0",
       "_model_name": "DescriptionStyleModel",
       "_view_count": null,
       "_view_module": "@jupyter-widgets/base",
       "_view_module_version": "1.2.0",
       "_view_name": "StyleView",
       "description_width": ""
      }
     },
     "069dfa5aac174860ada044431ccc0c3a": {
      "model_module": "@jupyter-widgets/base",
      "model_module_version": "1.2.0",
      "model_name": "LayoutModel",
      "state": {
       "_model_module": "@jupyter-widgets/base",
       "_model_module_version": "1.2.0",
       "_model_name": "LayoutModel",
       "_view_count": null,
       "_view_module": "@jupyter-widgets/base",
       "_view_module_version": "1.2.0",
       "_view_name": "LayoutView",
       "align_content": null,
       "align_items": null,
       "align_self": null,
       "border": null,
       "bottom": null,
       "display": null,
       "flex": null,
       "flex_flow": null,
       "grid_area": null,
       "grid_auto_columns": null,
       "grid_auto_flow": null,
       "grid_auto_rows": null,
       "grid_column": null,
       "grid_gap": null,
       "grid_row": null,
       "grid_template_areas": null,
       "grid_template_columns": null,
       "grid_template_rows": null,
       "height": null,
       "justify_content": null,
       "justify_items": null,
       "left": null,
       "margin": null,
       "max_height": null,
       "max_width": null,
       "min_height": null,
       "min_width": null,
       "object_fit": null,
       "object_position": null,
       "order": null,
       "overflow": null,
       "overflow_x": null,
       "overflow_y": null,
       "padding": null,
       "right": null,
       "top": null,
       "visibility": null,
       "width": null
      }
     },
     "0a462dbb99424341b4c497348cfcea26": {
      "model_module": "@jupyter-widgets/controls",
      "model_module_version": "1.5.0",
      "model_name": "HTMLModel",
      "state": {
       "_dom_classes": [],
       "_model_module": "@jupyter-widgets/controls",
       "_model_module_version": "1.5.0",
       "_model_name": "HTMLModel",
       "_view_count": null,
       "_view_module": "@jupyter-widgets/controls",
       "_view_module_version": "1.5.0",
       "_view_name": "HTMLView",
       "description": "",
       "description_tooltip": null,
       "layout": "IPY_MODEL_069dfa5aac174860ada044431ccc0c3a",
       "placeholder": "​",
       "style": "IPY_MODEL_1b8cca4e2e6b4390a6d1f57fac67847c",
       "value": "Summarize dataset: 100%"
      }
     },
     "18ab3f659c5d492695d05883201e6b1b": {
      "model_module": "@jupyter-widgets/controls",
      "model_module_version": "1.5.0",
      "model_name": "HTMLModel",
      "state": {
       "_dom_classes": [],
       "_model_module": "@jupyter-widgets/controls",
       "_model_module_version": "1.5.0",
       "_model_name": "HTMLModel",
       "_view_count": null,
       "_view_module": "@jupyter-widgets/controls",
       "_view_module_version": "1.5.0",
       "_view_name": "HTMLView",
       "description": "",
       "description_tooltip": null,
       "layout": "IPY_MODEL_c9f120b0e0e346d7b252b6a071f5a060",
       "placeholder": "​",
       "style": "IPY_MODEL_042c230cf31348038d5a61a1927dc866",
       "value": " 31/31 [01:50&lt;00:00,  3.91s/it, Completed]"
      }
     },
     "19a95e0566644c61b7e3c18477816dee": {
      "model_module": "@jupyter-widgets/base",
      "model_module_version": "1.2.0",
      "model_name": "LayoutModel",
      "state": {
       "_model_module": "@jupyter-widgets/base",
       "_model_module_version": "1.2.0",
       "_model_name": "LayoutModel",
       "_view_count": null,
       "_view_module": "@jupyter-widgets/base",
       "_view_module_version": "1.2.0",
       "_view_name": "LayoutView",
       "align_content": null,
       "align_items": null,
       "align_self": null,
       "border": null,
       "bottom": null,
       "display": null,
       "flex": null,
       "flex_flow": null,
       "grid_area": null,
       "grid_auto_columns": null,
       "grid_auto_flow": null,
       "grid_auto_rows": null,
       "grid_column": null,
       "grid_gap": null,
       "grid_row": null,
       "grid_template_areas": null,
       "grid_template_columns": null,
       "grid_template_rows": null,
       "height": null,
       "justify_content": null,
       "justify_items": null,
       "left": null,
       "margin": null,
       "max_height": null,
       "max_width": null,
       "min_height": null,
       "min_width": null,
       "object_fit": null,
       "object_position": null,
       "order": null,
       "overflow": null,
       "overflow_x": null,
       "overflow_y": null,
       "padding": null,
       "right": null,
       "top": null,
       "visibility": null,
       "width": null
      }
     },
     "1b8cca4e2e6b4390a6d1f57fac67847c": {
      "model_module": "@jupyter-widgets/controls",
      "model_module_version": "1.5.0",
      "model_name": "DescriptionStyleModel",
      "state": {
       "_model_module": "@jupyter-widgets/controls",
       "_model_module_version": "1.5.0",
       "_model_name": "DescriptionStyleModel",
       "_view_count": null,
       "_view_module": "@jupyter-widgets/base",
       "_view_module_version": "1.2.0",
       "_view_name": "StyleView",
       "description_width": ""
      }
     },
     "1bb308eb628d4b6698ab8572be2537c4": {
      "model_module": "@jupyter-widgets/controls",
      "model_module_version": "1.5.0",
      "model_name": "ProgressStyleModel",
      "state": {
       "_model_module": "@jupyter-widgets/controls",
       "_model_module_version": "1.5.0",
       "_model_name": "ProgressStyleModel",
       "_view_count": null,
       "_view_module": "@jupyter-widgets/base",
       "_view_module_version": "1.2.0",
       "_view_name": "StyleView",
       "bar_color": null,
       "description_width": ""
      }
     },
     "3f6dc79d049f432d9cb1c8c34a69f284": {
      "model_module": "@jupyter-widgets/base",
      "model_module_version": "1.2.0",
      "model_name": "LayoutModel",
      "state": {
       "_model_module": "@jupyter-widgets/base",
       "_model_module_version": "1.2.0",
       "_model_name": "LayoutModel",
       "_view_count": null,
       "_view_module": "@jupyter-widgets/base",
       "_view_module_version": "1.2.0",
       "_view_name": "LayoutView",
       "align_content": null,
       "align_items": null,
       "align_self": null,
       "border": null,
       "bottom": null,
       "display": null,
       "flex": null,
       "flex_flow": null,
       "grid_area": null,
       "grid_auto_columns": null,
       "grid_auto_flow": null,
       "grid_auto_rows": null,
       "grid_column": null,
       "grid_gap": null,
       "grid_row": null,
       "grid_template_areas": null,
       "grid_template_columns": null,
       "grid_template_rows": null,
       "height": null,
       "justify_content": null,
       "justify_items": null,
       "left": null,
       "margin": null,
       "max_height": null,
       "max_width": null,
       "min_height": null,
       "min_width": null,
       "object_fit": null,
       "object_position": null,
       "order": null,
       "overflow": null,
       "overflow_x": null,
       "overflow_y": null,
       "padding": null,
       "right": null,
       "top": null,
       "visibility": null,
       "width": null
      }
     },
     "453f230f1c9146ffb2aaf2e1cb07ff03": {
      "model_module": "@jupyter-widgets/base",
      "model_module_version": "1.2.0",
      "model_name": "LayoutModel",
      "state": {
       "_model_module": "@jupyter-widgets/base",
       "_model_module_version": "1.2.0",
       "_model_name": "LayoutModel",
       "_view_count": null,
       "_view_module": "@jupyter-widgets/base",
       "_view_module_version": "1.2.0",
       "_view_name": "LayoutView",
       "align_content": null,
       "align_items": null,
       "align_self": null,
       "border": null,
       "bottom": null,
       "display": null,
       "flex": null,
       "flex_flow": null,
       "grid_area": null,
       "grid_auto_columns": null,
       "grid_auto_flow": null,
       "grid_auto_rows": null,
       "grid_column": null,
       "grid_gap": null,
       "grid_row": null,
       "grid_template_areas": null,
       "grid_template_columns": null,
       "grid_template_rows": null,
       "height": null,
       "justify_content": null,
       "justify_items": null,
       "left": null,
       "margin": null,
       "max_height": null,
       "max_width": null,
       "min_height": null,
       "min_width": null,
       "object_fit": null,
       "object_position": null,
       "order": null,
       "overflow": null,
       "overflow_x": null,
       "overflow_y": null,
       "padding": null,
       "right": null,
       "top": null,
       "visibility": null,
       "width": null
      }
     },
     "458285e81a524cf6b3302d19ed8c77bb": {
      "model_module": "@jupyter-widgets/controls",
      "model_module_version": "1.5.0",
      "model_name": "HTMLModel",
      "state": {
       "_dom_classes": [],
       "_model_module": "@jupyter-widgets/controls",
       "_model_module_version": "1.5.0",
       "_model_name": "HTMLModel",
       "_view_count": null,
       "_view_module": "@jupyter-widgets/controls",
       "_view_module_version": "1.5.0",
       "_view_name": "HTMLView",
       "description": "",
       "description_tooltip": null,
       "layout": "IPY_MODEL_3f6dc79d049f432d9cb1c8c34a69f284",
       "placeholder": "​",
       "style": "IPY_MODEL_90df015fdcf34fadbd9b60cf4470ce0b",
       "value": "Render HTML: 100%"
      }
     },
     "5266508c845940d7a9fb333c34578d5b": {
      "model_module": "@jupyter-widgets/controls",
      "model_module_version": "1.5.0",
      "model_name": "ProgressStyleModel",
      "state": {
       "_model_module": "@jupyter-widgets/controls",
       "_model_module_version": "1.5.0",
       "_model_name": "ProgressStyleModel",
       "_view_count": null,
       "_view_module": "@jupyter-widgets/base",
       "_view_module_version": "1.2.0",
       "_view_name": "StyleView",
       "bar_color": null,
       "description_width": ""
      }
     },
     "5965c4e5bdc5426aaa868c3f224f5a5c": {
      "model_module": "@jupyter-widgets/base",
      "model_module_version": "1.2.0",
      "model_name": "LayoutModel",
      "state": {
       "_model_module": "@jupyter-widgets/base",
       "_model_module_version": "1.2.0",
       "_model_name": "LayoutModel",
       "_view_count": null,
       "_view_module": "@jupyter-widgets/base",
       "_view_module_version": "1.2.0",
       "_view_name": "LayoutView",
       "align_content": null,
       "align_items": null,
       "align_self": null,
       "border": null,
       "bottom": null,
       "display": null,
       "flex": null,
       "flex_flow": null,
       "grid_area": null,
       "grid_auto_columns": null,
       "grid_auto_flow": null,
       "grid_auto_rows": null,
       "grid_column": null,
       "grid_gap": null,
       "grid_row": null,
       "grid_template_areas": null,
       "grid_template_columns": null,
       "grid_template_rows": null,
       "height": null,
       "justify_content": null,
       "justify_items": null,
       "left": null,
       "margin": null,
       "max_height": null,
       "max_width": null,
       "min_height": null,
       "min_width": null,
       "object_fit": null,
       "object_position": null,
       "order": null,
       "overflow": null,
       "overflow_x": null,
       "overflow_y": null,
       "padding": null,
       "right": null,
       "top": null,
       "visibility": null,
       "width": null
      }
     },
     "5bdc2cbcb6794fd8804ee76d5ea0be07": {
      "model_module": "@jupyter-widgets/base",
      "model_module_version": "1.2.0",
      "model_name": "LayoutModel",
      "state": {
       "_model_module": "@jupyter-widgets/base",
       "_model_module_version": "1.2.0",
       "_model_name": "LayoutModel",
       "_view_count": null,
       "_view_module": "@jupyter-widgets/base",
       "_view_module_version": "1.2.0",
       "_view_name": "LayoutView",
       "align_content": null,
       "align_items": null,
       "align_self": null,
       "border": null,
       "bottom": null,
       "display": null,
       "flex": null,
       "flex_flow": null,
       "grid_area": null,
       "grid_auto_columns": null,
       "grid_auto_flow": null,
       "grid_auto_rows": null,
       "grid_column": null,
       "grid_gap": null,
       "grid_row": null,
       "grid_template_areas": null,
       "grid_template_columns": null,
       "grid_template_rows": null,
       "height": null,
       "justify_content": null,
       "justify_items": null,
       "left": null,
       "margin": null,
       "max_height": null,
       "max_width": null,
       "min_height": null,
       "min_width": null,
       "object_fit": null,
       "object_position": null,
       "order": null,
       "overflow": null,
       "overflow_x": null,
       "overflow_y": null,
       "padding": null,
       "right": null,
       "top": null,
       "visibility": null,
       "width": null
      }
     },
     "66f09ef584954d4193e14557043224f9": {
      "model_module": "@jupyter-widgets/controls",
      "model_module_version": "1.5.0",
      "model_name": "FloatProgressModel",
      "state": {
       "_dom_classes": [],
       "_model_module": "@jupyter-widgets/controls",
       "_model_module_version": "1.5.0",
       "_model_name": "FloatProgressModel",
       "_view_count": null,
       "_view_module": "@jupyter-widgets/controls",
       "_view_module_version": "1.5.0",
       "_view_name": "ProgressView",
       "bar_style": "success",
       "description": "",
       "description_tooltip": null,
       "layout": "IPY_MODEL_5bdc2cbcb6794fd8804ee76d5ea0be07",
       "max": 1,
       "min": 0,
       "orientation": "horizontal",
       "style": "IPY_MODEL_f11a0be080c54132b52c47d2472008c5",
       "value": 1
      }
     },
     "6f2b2340e7c249d3b0f116ecea9fe9f5": {
      "model_module": "@jupyter-widgets/base",
      "model_module_version": "1.2.0",
      "model_name": "LayoutModel",
      "state": {
       "_model_module": "@jupyter-widgets/base",
       "_model_module_version": "1.2.0",
       "_model_name": "LayoutModel",
       "_view_count": null,
       "_view_module": "@jupyter-widgets/base",
       "_view_module_version": "1.2.0",
       "_view_name": "LayoutView",
       "align_content": null,
       "align_items": null,
       "align_self": null,
       "border": null,
       "bottom": null,
       "display": null,
       "flex": null,
       "flex_flow": null,
       "grid_area": null,
       "grid_auto_columns": null,
       "grid_auto_flow": null,
       "grid_auto_rows": null,
       "grid_column": null,
       "grid_gap": null,
       "grid_row": null,
       "grid_template_areas": null,
       "grid_template_columns": null,
       "grid_template_rows": null,
       "height": null,
       "justify_content": null,
       "justify_items": null,
       "left": null,
       "margin": null,
       "max_height": null,
       "max_width": null,
       "min_height": null,
       "min_width": null,
       "object_fit": null,
       "object_position": null,
       "order": null,
       "overflow": null,
       "overflow_x": null,
       "overflow_y": null,
       "padding": null,
       "right": null,
       "top": null,
       "visibility": null,
       "width": null
      }
     },
     "71f8173fba28437d93a136fa8f5168db": {
      "model_module": "@jupyter-widgets/base",
      "model_module_version": "1.2.0",
      "model_name": "LayoutModel",
      "state": {
       "_model_module": "@jupyter-widgets/base",
       "_model_module_version": "1.2.0",
       "_model_name": "LayoutModel",
       "_view_count": null,
       "_view_module": "@jupyter-widgets/base",
       "_view_module_version": "1.2.0",
       "_view_name": "LayoutView",
       "align_content": null,
       "align_items": null,
       "align_self": null,
       "border": null,
       "bottom": null,
       "display": null,
       "flex": null,
       "flex_flow": null,
       "grid_area": null,
       "grid_auto_columns": null,
       "grid_auto_flow": null,
       "grid_auto_rows": null,
       "grid_column": null,
       "grid_gap": null,
       "grid_row": null,
       "grid_template_areas": null,
       "grid_template_columns": null,
       "grid_template_rows": null,
       "height": null,
       "justify_content": null,
       "justify_items": null,
       "left": null,
       "margin": null,
       "max_height": null,
       "max_width": null,
       "min_height": null,
       "min_width": null,
       "object_fit": null,
       "object_position": null,
       "order": null,
       "overflow": null,
       "overflow_x": null,
       "overflow_y": null,
       "padding": null,
       "right": null,
       "top": null,
       "visibility": null,
       "width": null
      }
     },
     "72533ecb42444b31a4a96662c04ea8fe": {
      "model_module": "@jupyter-widgets/controls",
      "model_module_version": "1.5.0",
      "model_name": "FloatProgressModel",
      "state": {
       "_dom_classes": [],
       "_model_module": "@jupyter-widgets/controls",
       "_model_module_version": "1.5.0",
       "_model_name": "FloatProgressModel",
       "_view_count": null,
       "_view_module": "@jupyter-widgets/controls",
       "_view_module_version": "1.5.0",
       "_view_name": "ProgressView",
       "bar_style": "success",
       "description": "",
       "description_tooltip": null,
       "layout": "IPY_MODEL_19a95e0566644c61b7e3c18477816dee",
       "max": 1,
       "min": 0,
       "orientation": "horizontal",
       "style": "IPY_MODEL_1bb308eb628d4b6698ab8572be2537c4",
       "value": 1
      }
     },
     "7448e9a19f6e42858abaa3cb34cd778f": {
      "model_module": "@jupyter-widgets/base",
      "model_module_version": "1.2.0",
      "model_name": "LayoutModel",
      "state": {
       "_model_module": "@jupyter-widgets/base",
       "_model_module_version": "1.2.0",
       "_model_name": "LayoutModel",
       "_view_count": null,
       "_view_module": "@jupyter-widgets/base",
       "_view_module_version": "1.2.0",
       "_view_name": "LayoutView",
       "align_content": null,
       "align_items": null,
       "align_self": null,
       "border": null,
       "bottom": null,
       "display": null,
       "flex": null,
       "flex_flow": null,
       "grid_area": null,
       "grid_auto_columns": null,
       "grid_auto_flow": null,
       "grid_auto_rows": null,
       "grid_column": null,
       "grid_gap": null,
       "grid_row": null,
       "grid_template_areas": null,
       "grid_template_columns": null,
       "grid_template_rows": null,
       "height": null,
       "justify_content": null,
       "justify_items": null,
       "left": null,
       "margin": null,
       "max_height": null,
       "max_width": null,
       "min_height": null,
       "min_width": null,
       "object_fit": null,
       "object_position": null,
       "order": null,
       "overflow": null,
       "overflow_x": null,
       "overflow_y": null,
       "padding": null,
       "right": null,
       "top": null,
       "visibility": null,
       "width": null
      }
     },
     "782e46f5f6c74a3990738c9bb752fd70": {
      "model_module": "@jupyter-widgets/controls",
      "model_module_version": "1.5.0",
      "model_name": "HBoxModel",
      "state": {
       "_dom_classes": [],
       "_model_module": "@jupyter-widgets/controls",
       "_model_module_version": "1.5.0",
       "_model_name": "HBoxModel",
       "_view_count": null,
       "_view_module": "@jupyter-widgets/controls",
       "_view_module_version": "1.5.0",
       "_view_name": "HBoxView",
       "box_style": "",
       "children": [
        "IPY_MODEL_458285e81a524cf6b3302d19ed8c77bb",
        "IPY_MODEL_66f09ef584954d4193e14557043224f9",
        "IPY_MODEL_e9f25d5562af498b92b4e5e9df8787c9"
       ],
       "layout": "IPY_MODEL_5965c4e5bdc5426aaa868c3f224f5a5c"
      }
     },
     "800872e19cef40d287a7285ecceab062": {
      "model_module": "@jupyter-widgets/controls",
      "model_module_version": "1.5.0",
      "model_name": "HBoxModel",
      "state": {
       "_dom_classes": [],
       "_model_module": "@jupyter-widgets/controls",
       "_model_module_version": "1.5.0",
       "_model_name": "HBoxModel",
       "_view_count": null,
       "_view_module": "@jupyter-widgets/controls",
       "_view_module_version": "1.5.0",
       "_view_name": "HBoxView",
       "box_style": "",
       "children": [
        "IPY_MODEL_0a462dbb99424341b4c497348cfcea26",
        "IPY_MODEL_83f44d5b60a54adf8c7bd39fa89ac43d",
        "IPY_MODEL_18ab3f659c5d492695d05883201e6b1b"
       ],
       "layout": "IPY_MODEL_6f2b2340e7c249d3b0f116ecea9fe9f5"
      }
     },
     "83f44d5b60a54adf8c7bd39fa89ac43d": {
      "model_module": "@jupyter-widgets/controls",
      "model_module_version": "1.5.0",
      "model_name": "FloatProgressModel",
      "state": {
       "_dom_classes": [],
       "_model_module": "@jupyter-widgets/controls",
       "_model_module_version": "1.5.0",
       "_model_name": "FloatProgressModel",
       "_view_count": null,
       "_view_module": "@jupyter-widgets/controls",
       "_view_module_version": "1.5.0",
       "_view_name": "ProgressView",
       "bar_style": "success",
       "description": "",
       "description_tooltip": null,
       "layout": "IPY_MODEL_c129165c13254acfab677093d760c6a5",
       "max": 31,
       "min": 0,
       "orientation": "horizontal",
       "style": "IPY_MODEL_5266508c845940d7a9fb333c34578d5b",
       "value": 31
      }
     },
     "8476529352834c70b81499f52769e4d1": {
      "model_module": "@jupyter-widgets/controls",
      "model_module_version": "1.5.0",
      "model_name": "HTMLModel",
      "state": {
       "_dom_classes": [],
       "_model_module": "@jupyter-widgets/controls",
       "_model_module_version": "1.5.0",
       "_model_name": "HTMLModel",
       "_view_count": null,
       "_view_module": "@jupyter-widgets/controls",
       "_view_module_version": "1.5.0",
       "_view_name": "HTMLView",
       "description": "",
       "description_tooltip": null,
       "layout": "IPY_MODEL_453f230f1c9146ffb2aaf2e1cb07ff03",
       "placeholder": "​",
       "style": "IPY_MODEL_d119629a0bb74301b3a2097ed51c2d8d",
       "value": "Generate report structure: 100%"
      }
     },
     "90df015fdcf34fadbd9b60cf4470ce0b": {
      "model_module": "@jupyter-widgets/controls",
      "model_module_version": "1.5.0",
      "model_name": "DescriptionStyleModel",
      "state": {
       "_model_module": "@jupyter-widgets/controls",
       "_model_module_version": "1.5.0",
       "_model_name": "DescriptionStyleModel",
       "_view_count": null,
       "_view_module": "@jupyter-widgets/base",
       "_view_module_version": "1.2.0",
       "_view_name": "StyleView",
       "description_width": ""
      }
     },
     "a05ec067eda44995b62569c924d4f9b3": {
      "model_module": "@jupyter-widgets/controls",
      "model_module_version": "1.5.0",
      "model_name": "DescriptionStyleModel",
      "state": {
       "_model_module": "@jupyter-widgets/controls",
       "_model_module_version": "1.5.0",
       "_model_name": "DescriptionStyleModel",
       "_view_count": null,
       "_view_module": "@jupyter-widgets/base",
       "_view_module_version": "1.2.0",
       "_view_name": "StyleView",
       "description_width": ""
      }
     },
     "b6eb63e0b51d4f4a9881dd86bc70bf3c": {
      "model_module": "@jupyter-widgets/controls",
      "model_module_version": "1.5.0",
      "model_name": "DescriptionStyleModel",
      "state": {
       "_model_module": "@jupyter-widgets/controls",
       "_model_module_version": "1.5.0",
       "_model_name": "DescriptionStyleModel",
       "_view_count": null,
       "_view_module": "@jupyter-widgets/base",
       "_view_module_version": "1.2.0",
       "_view_name": "StyleView",
       "description_width": ""
      }
     },
     "c129165c13254acfab677093d760c6a5": {
      "model_module": "@jupyter-widgets/base",
      "model_module_version": "1.2.0",
      "model_name": "LayoutModel",
      "state": {
       "_model_module": "@jupyter-widgets/base",
       "_model_module_version": "1.2.0",
       "_model_name": "LayoutModel",
       "_view_count": null,
       "_view_module": "@jupyter-widgets/base",
       "_view_module_version": "1.2.0",
       "_view_name": "LayoutView",
       "align_content": null,
       "align_items": null,
       "align_self": null,
       "border": null,
       "bottom": null,
       "display": null,
       "flex": null,
       "flex_flow": null,
       "grid_area": null,
       "grid_auto_columns": null,
       "grid_auto_flow": null,
       "grid_auto_rows": null,
       "grid_column": null,
       "grid_gap": null,
       "grid_row": null,
       "grid_template_areas": null,
       "grid_template_columns": null,
       "grid_template_rows": null,
       "height": null,
       "justify_content": null,
       "justify_items": null,
       "left": null,
       "margin": null,
       "max_height": null,
       "max_width": null,
       "min_height": null,
       "min_width": null,
       "object_fit": null,
       "object_position": null,
       "order": null,
       "overflow": null,
       "overflow_x": null,
       "overflow_y": null,
       "padding": null,
       "right": null,
       "top": null,
       "visibility": null,
       "width": null
      }
     },
     "c457545e0ad14211adc4315e6f7bc22c": {
      "model_module": "@jupyter-widgets/controls",
      "model_module_version": "1.5.0",
      "model_name": "HBoxModel",
      "state": {
       "_dom_classes": [],
       "_model_module": "@jupyter-widgets/controls",
       "_model_module_version": "1.5.0",
       "_model_name": "HBoxModel",
       "_view_count": null,
       "_view_module": "@jupyter-widgets/controls",
       "_view_module_version": "1.5.0",
       "_view_name": "HBoxView",
       "box_style": "",
       "children": [
        "IPY_MODEL_8476529352834c70b81499f52769e4d1",
        "IPY_MODEL_72533ecb42444b31a4a96662c04ea8fe",
        "IPY_MODEL_e614ed1623164f819ec67e110a16ba2f"
       ],
       "layout": "IPY_MODEL_7448e9a19f6e42858abaa3cb34cd778f"
      }
     },
     "c9f120b0e0e346d7b252b6a071f5a060": {
      "model_module": "@jupyter-widgets/base",
      "model_module_version": "1.2.0",
      "model_name": "LayoutModel",
      "state": {
       "_model_module": "@jupyter-widgets/base",
       "_model_module_version": "1.2.0",
       "_model_name": "LayoutModel",
       "_view_count": null,
       "_view_module": "@jupyter-widgets/base",
       "_view_module_version": "1.2.0",
       "_view_name": "LayoutView",
       "align_content": null,
       "align_items": null,
       "align_self": null,
       "border": null,
       "bottom": null,
       "display": null,
       "flex": null,
       "flex_flow": null,
       "grid_area": null,
       "grid_auto_columns": null,
       "grid_auto_flow": null,
       "grid_auto_rows": null,
       "grid_column": null,
       "grid_gap": null,
       "grid_row": null,
       "grid_template_areas": null,
       "grid_template_columns": null,
       "grid_template_rows": null,
       "height": null,
       "justify_content": null,
       "justify_items": null,
       "left": null,
       "margin": null,
       "max_height": null,
       "max_width": null,
       "min_height": null,
       "min_width": null,
       "object_fit": null,
       "object_position": null,
       "order": null,
       "overflow": null,
       "overflow_x": null,
       "overflow_y": null,
       "padding": null,
       "right": null,
       "top": null,
       "visibility": null,
       "width": null
      }
     },
     "d119629a0bb74301b3a2097ed51c2d8d": {
      "model_module": "@jupyter-widgets/controls",
      "model_module_version": "1.5.0",
      "model_name": "DescriptionStyleModel",
      "state": {
       "_model_module": "@jupyter-widgets/controls",
       "_model_module_version": "1.5.0",
       "_model_name": "DescriptionStyleModel",
       "_view_count": null,
       "_view_module": "@jupyter-widgets/base",
       "_view_module_version": "1.2.0",
       "_view_name": "StyleView",
       "description_width": ""
      }
     },
     "e614ed1623164f819ec67e110a16ba2f": {
      "model_module": "@jupyter-widgets/controls",
      "model_module_version": "1.5.0",
      "model_name": "HTMLModel",
      "state": {
       "_dom_classes": [],
       "_model_module": "@jupyter-widgets/controls",
       "_model_module_version": "1.5.0",
       "_model_name": "HTMLModel",
       "_view_count": null,
       "_view_module": "@jupyter-widgets/controls",
       "_view_module_version": "1.5.0",
       "_view_name": "HTMLView",
       "description": "",
       "description_tooltip": null,
       "layout": "IPY_MODEL_fc53abac3d354ac387f6b09574ccf149",
       "placeholder": "​",
       "style": "IPY_MODEL_a05ec067eda44995b62569c924d4f9b3",
       "value": " 1/1 [00:10&lt;00:00, 10.38s/it]"
      }
     },
     "e9f25d5562af498b92b4e5e9df8787c9": {
      "model_module": "@jupyter-widgets/controls",
      "model_module_version": "1.5.0",
      "model_name": "HTMLModel",
      "state": {
       "_dom_classes": [],
       "_model_module": "@jupyter-widgets/controls",
       "_model_module_version": "1.5.0",
       "_model_name": "HTMLModel",
       "_view_count": null,
       "_view_module": "@jupyter-widgets/controls",
       "_view_module_version": "1.5.0",
       "_view_name": "HTMLView",
       "description": "",
       "description_tooltip": null,
       "layout": "IPY_MODEL_71f8173fba28437d93a136fa8f5168db",
       "placeholder": "​",
       "style": "IPY_MODEL_b6eb63e0b51d4f4a9881dd86bc70bf3c",
       "value": " 1/1 [00:03&lt;00:00,  3.37s/it]"
      }
     },
     "f11a0be080c54132b52c47d2472008c5": {
      "model_module": "@jupyter-widgets/controls",
      "model_module_version": "1.5.0",
      "model_name": "ProgressStyleModel",
      "state": {
       "_model_module": "@jupyter-widgets/controls",
       "_model_module_version": "1.5.0",
       "_model_name": "ProgressStyleModel",
       "_view_count": null,
       "_view_module": "@jupyter-widgets/base",
       "_view_module_version": "1.2.0",
       "_view_name": "StyleView",
       "bar_color": null,
       "description_width": ""
      }
     },
     "fc53abac3d354ac387f6b09574ccf149": {
      "model_module": "@jupyter-widgets/base",
      "model_module_version": "1.2.0",
      "model_name": "LayoutModel",
      "state": {
       "_model_module": "@jupyter-widgets/base",
       "_model_module_version": "1.2.0",
       "_model_name": "LayoutModel",
       "_view_count": null,
       "_view_module": "@jupyter-widgets/base",
       "_view_module_version": "1.2.0",
       "_view_name": "LayoutView",
       "align_content": null,
       "align_items": null,
       "align_self": null,
       "border": null,
       "bottom": null,
       "display": null,
       "flex": null,
       "flex_flow": null,
       "grid_area": null,
       "grid_auto_columns": null,
       "grid_auto_flow": null,
       "grid_auto_rows": null,
       "grid_column": null,
       "grid_gap": null,
       "grid_row": null,
       "grid_template_areas": null,
       "grid_template_columns": null,
       "grid_template_rows": null,
       "height": null,
       "justify_content": null,
       "justify_items": null,
       "left": null,
       "margin": null,
       "max_height": null,
       "max_width": null,
       "min_height": null,
       "min_width": null,
       "object_fit": null,
       "object_position": null,
       "order": null,
       "overflow": null,
       "overflow_x": null,
       "overflow_y": null,
       "padding": null,
       "right": null,
       "top": null,
       "visibility": null,
       "width": null
      }
     }
    },
    "version_major": 2,
    "version_minor": 0
   }
  }
 },
 "nbformat": 4,
 "nbformat_minor": 5
}
